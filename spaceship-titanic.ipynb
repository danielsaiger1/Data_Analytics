{
 "cells": [
  {
   "cell_type": "code",
   "execution_count": 1,
   "id": "0df74544",
   "metadata": {
    "_cell_guid": "b1076dfc-b9ad-4769-8c92-a6c4dae69d19",
    "_uuid": "8f2839f25d086af736a60e9eeb907d3b93b6e0e5",
    "execution": {
     "iopub.execute_input": "2022-08-05T16:06:04.531248Z",
     "iopub.status.busy": "2022-08-05T16:06:04.530518Z",
     "iopub.status.idle": "2022-08-05T16:06:04.549061Z",
     "shell.execute_reply": "2022-08-05T16:06:04.547726Z"
    },
    "papermill": {
     "duration": 0.031542,
     "end_time": "2022-08-05T16:06:04.552032",
     "exception": false,
     "start_time": "2022-08-05T16:06:04.520490",
     "status": "completed"
    },
    "tags": []
   },
   "outputs": [
    {
     "name": "stdout",
     "output_type": "stream",
     "text": [
      "/kaggle/input/spaceship-titanic/sample_submission.csv\n",
      "/kaggle/input/spaceship-titanic/train.csv\n",
      "/kaggle/input/spaceship-titanic/test.csv\n"
     ]
    }
   ],
   "source": [
    "# This Python 3 environment comes with many helpful analytics libraries installed\n",
    "# It is defined by the kaggle/python Docker image: https://github.com/kaggle/docker-python\n",
    "# For example, here's several helpful packages to load\n",
    "\n",
    "import numpy as np # linear algebra\n",
    "import pandas as pd # data processing, CSV file I/O (e.g. pd.read_csv)\n",
    "\n",
    "# Input data files are available in the read-only \"../input/\" directory\n",
    "# For example, running this (by clicking run or pressing Shift+Enter) will list all files under the input directory\n",
    "\n",
    "import os\n",
    "for dirname, _, filenames in os.walk('/kaggle/input'):\n",
    "    for filename in filenames:\n",
    "        print(os.path.join(dirname, filename))\n",
    "\n",
    "# You can write up to 20GB to the current directory (/kaggle/working/) that gets preserved as output when you create a version using \"Save & Run All\" \n",
    "# You can also write temporary files to /kaggle/temp/, but they won't be saved outside of the current session"
   ]
  },
  {
   "cell_type": "markdown",
   "id": "ed355014",
   "metadata": {
    "papermill": {
     "duration": 0.005428,
     "end_time": "2022-08-05T16:06:04.563467",
     "exception": false,
     "start_time": "2022-08-05T16:06:04.558039",
     "status": "completed"
    },
    "tags": []
   },
   "source": [
    "## Introduction\n",
    "\n",
    "In this Notebook we will use binary classification algoithms to solve the Spaceship Titanic Challenge. \n",
    "\n",
    "Our goal is to predict wether a passenger is transported to an other dimension after the crash of the space titanic or not. \n",
    "\n"
   ]
  },
  {
   "cell_type": "markdown",
   "id": "af89de53",
   "metadata": {
    "papermill": {
     "duration": 0.005469,
     "end_time": "2022-08-05T16:06:04.574766",
     "exception": false,
     "start_time": "2022-08-05T16:06:04.569297",
     "status": "completed"
    },
    "tags": []
   },
   "source": [
    "![spaceship](https://qph.cf2.quoracdn.net/main-qimg-c8dabaf5c8e26b056f1eda7728c1d002-lq)"
   ]
  },
  {
   "cell_type": "markdown",
   "id": "0018909c",
   "metadata": {
    "papermill": {
     "duration": 0.005526,
     "end_time": "2022-08-05T16:06:04.586072",
     "exception": false,
     "start_time": "2022-08-05T16:06:04.580546",
     "status": "completed"
    },
    "tags": []
   },
   "source": [
    "## The Dataset\n",
    "\n",
    "* **Train Data:**\n",
    "    * **PassengerId** - A unique Id for each passenger. Each Id takes the form gggg_pp where gggg indicates a group the passenger is travelling with and pp is their number within the group. People in a group are often family members, but not always.\n",
    "    * **HomePlanet** - The planet the passenger departed from, typically their planet of permanent residence.\n",
    "    * **CryoSleep** - Indicates whether the passenger elected to be put into suspended animation for the duration of the voyage. Passengers in cryosleep are confined to their cabins.\n",
    "    * **Cabin** - The cabin number where the passenger is staying. Takes the form deck/num/side, where side can be either P for Port or S for Starboard.\n",
    "    * **Destination** - The planet the passenger will be debarking to.\n",
    "    * **Age** - The age of the passenger.\n",
    "    * **VIP** - Whether the passenger has paid for special VIP service during the voyage.\n",
    "    * **RoomService, FoodCourt, ShoppingMall, Spa, VRDeck** - Amount the passenger has billed at each of the Spaceship Titanic's many luxury amenities.\n",
    "    * **Name** - The first and last names of the passenger.\n",
    "    * **Transported **- Whether the passenger was transported to another dimension. This is the target, the column we are trying to predict.\n",
    "    \n",
    "    \n",
    "* **Test Data:**\n",
    "    * Personal records for the remaining one-third (~4300) of the passengers, to be used as test data."
   ]
  },
  {
   "cell_type": "markdown",
   "id": "6aa8bac1",
   "metadata": {
    "papermill": {
     "duration": 0.005365,
     "end_time": "2022-08-05T16:06:04.597093",
     "exception": false,
     "start_time": "2022-08-05T16:06:04.591728",
     "status": "completed"
    },
    "tags": []
   },
   "source": [
    "## 1. Imports"
   ]
  },
  {
   "cell_type": "code",
   "execution_count": 2,
   "id": "a40da242",
   "metadata": {
    "execution": {
     "iopub.execute_input": "2022-08-05T16:06:04.610573Z",
     "iopub.status.busy": "2022-08-05T16:06:04.610139Z",
     "iopub.status.idle": "2022-08-05T16:06:05.772756Z",
     "shell.execute_reply": "2022-08-05T16:06:05.771252Z"
    },
    "papermill": {
     "duration": 1.173047,
     "end_time": "2022-08-05T16:06:05.775806",
     "exception": false,
     "start_time": "2022-08-05T16:06:04.602759",
     "status": "completed"
    },
    "tags": []
   },
   "outputs": [],
   "source": [
    "import pandas as pd\n",
    "import numpy as np\n",
    "import matplotlib.pyplot as plt \n",
    "import seaborn as sns\n",
    "%matplotlib inline "
   ]
  },
  {
   "cell_type": "markdown",
   "id": "6d255936",
   "metadata": {
    "papermill": {
     "duration": 0.005455,
     "end_time": "2022-08-05T16:06:05.787253",
     "exception": false,
     "start_time": "2022-08-05T16:06:05.781798",
     "status": "completed"
    },
    "tags": []
   },
   "source": [
    "## 2. Loading the Data "
   ]
  },
  {
   "cell_type": "code",
   "execution_count": 3,
   "id": "26c6ffc4",
   "metadata": {
    "execution": {
     "iopub.execute_input": "2022-08-05T16:06:05.800992Z",
     "iopub.status.busy": "2022-08-05T16:06:05.800506Z",
     "iopub.status.idle": "2022-08-05T16:06:05.879191Z",
     "shell.execute_reply": "2022-08-05T16:06:05.878254Z"
    },
    "papermill": {
     "duration": 0.089352,
     "end_time": "2022-08-05T16:06:05.882315",
     "exception": false,
     "start_time": "2022-08-05T16:06:05.792963",
     "status": "completed"
    },
    "tags": []
   },
   "outputs": [
    {
     "name": "stdout",
     "output_type": "stream",
     "text": [
      "The Training Set has: 8693 rows and 14 columns\n",
      "The Test Set has: 4277 rows and 13 columns\n"
     ]
    }
   ],
   "source": [
    "train = pd.read_csv('../input/spaceship-titanic/train.csv')\n",
    "test = pd.read_csv('../input/spaceship-titanic/test.csv')\n",
    "\n",
    "print('The Training Set has:',train.shape[0] ,'rows and' ,train.shape[1] ,'columns')\n",
    "print('The Test Set has:',test.shape[0],'rows and',test.shape[1],'columns')"
   ]
  },
  {
   "cell_type": "code",
   "execution_count": 4,
   "id": "a4b8028c",
   "metadata": {
    "execution": {
     "iopub.execute_input": "2022-08-05T16:06:05.897540Z",
     "iopub.status.busy": "2022-08-05T16:06:05.896456Z",
     "iopub.status.idle": "2022-08-05T16:06:05.927896Z",
     "shell.execute_reply": "2022-08-05T16:06:05.926696Z"
    },
    "papermill": {
     "duration": 0.041269,
     "end_time": "2022-08-05T16:06:05.930520",
     "exception": false,
     "start_time": "2022-08-05T16:06:05.889251",
     "status": "completed"
    },
    "tags": []
   },
   "outputs": [
    {
     "data": {
      "text/html": [
       "<div>\n",
       "<style scoped>\n",
       "    .dataframe tbody tr th:only-of-type {\n",
       "        vertical-align: middle;\n",
       "    }\n",
       "\n",
       "    .dataframe tbody tr th {\n",
       "        vertical-align: top;\n",
       "    }\n",
       "\n",
       "    .dataframe thead th {\n",
       "        text-align: right;\n",
       "    }\n",
       "</style>\n",
       "<table border=\"1\" class=\"dataframe\">\n",
       "  <thead>\n",
       "    <tr style=\"text-align: right;\">\n",
       "      <th></th>\n",
       "      <th>PassengerId</th>\n",
       "      <th>HomePlanet</th>\n",
       "      <th>CryoSleep</th>\n",
       "      <th>Cabin</th>\n",
       "      <th>Destination</th>\n",
       "      <th>Age</th>\n",
       "      <th>VIP</th>\n",
       "      <th>RoomService</th>\n",
       "      <th>FoodCourt</th>\n",
       "      <th>ShoppingMall</th>\n",
       "      <th>Spa</th>\n",
       "      <th>VRDeck</th>\n",
       "      <th>Name</th>\n",
       "      <th>Transported</th>\n",
       "    </tr>\n",
       "  </thead>\n",
       "  <tbody>\n",
       "    <tr>\n",
       "      <th>0</th>\n",
       "      <td>0001_01</td>\n",
       "      <td>Europa</td>\n",
       "      <td>False</td>\n",
       "      <td>B/0/P</td>\n",
       "      <td>TRAPPIST-1e</td>\n",
       "      <td>39.0</td>\n",
       "      <td>False</td>\n",
       "      <td>0.0</td>\n",
       "      <td>0.0</td>\n",
       "      <td>0.0</td>\n",
       "      <td>0.0</td>\n",
       "      <td>0.0</td>\n",
       "      <td>Maham Ofracculy</td>\n",
       "      <td>False</td>\n",
       "    </tr>\n",
       "    <tr>\n",
       "      <th>1</th>\n",
       "      <td>0002_01</td>\n",
       "      <td>Earth</td>\n",
       "      <td>False</td>\n",
       "      <td>F/0/S</td>\n",
       "      <td>TRAPPIST-1e</td>\n",
       "      <td>24.0</td>\n",
       "      <td>False</td>\n",
       "      <td>109.0</td>\n",
       "      <td>9.0</td>\n",
       "      <td>25.0</td>\n",
       "      <td>549.0</td>\n",
       "      <td>44.0</td>\n",
       "      <td>Juanna Vines</td>\n",
       "      <td>True</td>\n",
       "    </tr>\n",
       "    <tr>\n",
       "      <th>2</th>\n",
       "      <td>0003_01</td>\n",
       "      <td>Europa</td>\n",
       "      <td>False</td>\n",
       "      <td>A/0/S</td>\n",
       "      <td>TRAPPIST-1e</td>\n",
       "      <td>58.0</td>\n",
       "      <td>True</td>\n",
       "      <td>43.0</td>\n",
       "      <td>3576.0</td>\n",
       "      <td>0.0</td>\n",
       "      <td>6715.0</td>\n",
       "      <td>49.0</td>\n",
       "      <td>Altark Susent</td>\n",
       "      <td>False</td>\n",
       "    </tr>\n",
       "    <tr>\n",
       "      <th>3</th>\n",
       "      <td>0003_02</td>\n",
       "      <td>Europa</td>\n",
       "      <td>False</td>\n",
       "      <td>A/0/S</td>\n",
       "      <td>TRAPPIST-1e</td>\n",
       "      <td>33.0</td>\n",
       "      <td>False</td>\n",
       "      <td>0.0</td>\n",
       "      <td>1283.0</td>\n",
       "      <td>371.0</td>\n",
       "      <td>3329.0</td>\n",
       "      <td>193.0</td>\n",
       "      <td>Solam Susent</td>\n",
       "      <td>False</td>\n",
       "    </tr>\n",
       "    <tr>\n",
       "      <th>4</th>\n",
       "      <td>0004_01</td>\n",
       "      <td>Earth</td>\n",
       "      <td>False</td>\n",
       "      <td>F/1/S</td>\n",
       "      <td>TRAPPIST-1e</td>\n",
       "      <td>16.0</td>\n",
       "      <td>False</td>\n",
       "      <td>303.0</td>\n",
       "      <td>70.0</td>\n",
       "      <td>151.0</td>\n",
       "      <td>565.0</td>\n",
       "      <td>2.0</td>\n",
       "      <td>Willy Santantines</td>\n",
       "      <td>True</td>\n",
       "    </tr>\n",
       "  </tbody>\n",
       "</table>\n",
       "</div>"
      ],
      "text/plain": [
       "  PassengerId HomePlanet CryoSleep  Cabin  Destination   Age    VIP  \\\n",
       "0     0001_01     Europa     False  B/0/P  TRAPPIST-1e  39.0  False   \n",
       "1     0002_01      Earth     False  F/0/S  TRAPPIST-1e  24.0  False   \n",
       "2     0003_01     Europa     False  A/0/S  TRAPPIST-1e  58.0   True   \n",
       "3     0003_02     Europa     False  A/0/S  TRAPPIST-1e  33.0  False   \n",
       "4     0004_01      Earth     False  F/1/S  TRAPPIST-1e  16.0  False   \n",
       "\n",
       "   RoomService  FoodCourt  ShoppingMall     Spa  VRDeck               Name  \\\n",
       "0          0.0        0.0           0.0     0.0     0.0    Maham Ofracculy   \n",
       "1        109.0        9.0          25.0   549.0    44.0       Juanna Vines   \n",
       "2         43.0     3576.0           0.0  6715.0    49.0      Altark Susent   \n",
       "3          0.0     1283.0         371.0  3329.0   193.0       Solam Susent   \n",
       "4        303.0       70.0         151.0   565.0     2.0  Willy Santantines   \n",
       "\n",
       "   Transported  \n",
       "0        False  \n",
       "1         True  \n",
       "2        False  \n",
       "3        False  \n",
       "4         True  "
      ]
     },
     "execution_count": 4,
     "metadata": {},
     "output_type": "execute_result"
    }
   ],
   "source": [
    "train.head()"
   ]
  },
  {
   "cell_type": "markdown",
   "id": "1fa370e8",
   "metadata": {
    "papermill": {
     "duration": 0.005649,
     "end_time": "2022-08-05T16:06:05.942393",
     "exception": false,
     "start_time": "2022-08-05T16:06:05.936744",
     "status": "completed"
    },
    "tags": []
   },
   "source": [
    "## 3. Checking the state of the Data"
   ]
  },
  {
   "cell_type": "markdown",
   "id": "974c02bf",
   "metadata": {
    "papermill": {
     "duration": 0.005635,
     "end_time": "2022-08-05T16:06:05.953940",
     "exception": false,
     "start_time": "2022-08-05T16:06:05.948305",
     "status": "completed"
    },
    "tags": []
   },
   "source": [
    "### Missing values"
   ]
  },
  {
   "cell_type": "code",
   "execution_count": 5,
   "id": "ffd340f2",
   "metadata": {
    "execution": {
     "iopub.execute_input": "2022-08-05T16:06:05.968020Z",
     "iopub.status.busy": "2022-08-05T16:06:05.967216Z",
     "iopub.status.idle": "2022-08-05T16:06:05.982385Z",
     "shell.execute_reply": "2022-08-05T16:06:05.981072Z"
    },
    "papermill": {
     "duration": 0.02509,
     "end_time": "2022-08-05T16:06:05.984861",
     "exception": false,
     "start_time": "2022-08-05T16:06:05.959771",
     "status": "completed"
    },
    "tags": []
   },
   "outputs": [
    {
     "name": "stdout",
     "output_type": "stream",
     "text": [
      "The train dataset has 2324 missing values\n",
      "The test dataset has 1117 missing values\n"
     ]
    }
   ],
   "source": [
    "print('The train dataset has', sum(train.isnull().sum()), 'missing values')\n",
    "print('The test dataset has', sum(test.isnull().sum()), 'missing values')"
   ]
  },
  {
   "cell_type": "markdown",
   "id": "c5915b13",
   "metadata": {
    "papermill": {
     "duration": 0.00582,
     "end_time": "2022-08-05T16:06:05.996939",
     "exception": false,
     "start_time": "2022-08-05T16:06:05.991119",
     "status": "completed"
    },
    "tags": []
   },
   "source": [
    "### Distribution of the missing values\n",
    "\n",
    "We can see that every feature except for the Passenger ID contains null values."
   ]
  },
  {
   "cell_type": "code",
   "execution_count": 6,
   "id": "c2f0cbbb",
   "metadata": {
    "execution": {
     "iopub.execute_input": "2022-08-05T16:06:06.012290Z",
     "iopub.status.busy": "2022-08-05T16:06:06.011576Z",
     "iopub.status.idle": "2022-08-05T16:06:06.028917Z",
     "shell.execute_reply": "2022-08-05T16:06:06.027527Z"
    },
    "papermill": {
     "duration": 0.027829,
     "end_time": "2022-08-05T16:06:06.031795",
     "exception": false,
     "start_time": "2022-08-05T16:06:06.003966",
     "status": "completed"
    },
    "tags": []
   },
   "outputs": [
    {
     "name": "stdout",
     "output_type": "stream",
     "text": [
      "Training Set:\n",
      "PassengerId       0\n",
      "HomePlanet      201\n",
      "CryoSleep       217\n",
      "Cabin           199\n",
      "Destination     182\n",
      "Age             179\n",
      "VIP             203\n",
      "RoomService     181\n",
      "FoodCourt       183\n",
      "ShoppingMall    208\n",
      "Spa             183\n",
      "VRDeck          188\n",
      "Name            200\n",
      "Transported       0\n",
      "dtype: int64\n",
      "\n",
      "Test Set:\n",
      "PassengerId       0\n",
      "HomePlanet       87\n",
      "CryoSleep        93\n",
      "Cabin           100\n",
      "Destination      92\n",
      "Age              91\n",
      "VIP              93\n",
      "RoomService      82\n",
      "FoodCourt       106\n",
      "ShoppingMall     98\n",
      "Spa             101\n",
      "VRDeck           80\n",
      "Name             94\n",
      "dtype: int64\n"
     ]
    }
   ],
   "source": [
    "print('Training Set:')\n",
    "print(train.isnull().sum())\n",
    "print('')\n",
    "print('Test Set:')\n",
    "print(test.isnull().sum())"
   ]
  },
  {
   "cell_type": "markdown",
   "id": "494bb44f",
   "metadata": {
    "papermill": {
     "duration": 0.005861,
     "end_time": "2022-08-05T16:06:06.043877",
     "exception": false,
     "start_time": "2022-08-05T16:06:06.038016",
     "status": "completed"
    },
    "tags": []
   },
   "source": [
    "### Unique Values in every column"
   ]
  },
  {
   "cell_type": "code",
   "execution_count": 7,
   "id": "05db20b1",
   "metadata": {
    "execution": {
     "iopub.execute_input": "2022-08-05T16:06:06.058432Z",
     "iopub.status.busy": "2022-08-05T16:06:06.057987Z",
     "iopub.status.idle": "2022-08-05T16:06:06.083393Z",
     "shell.execute_reply": "2022-08-05T16:06:06.081414Z"
    },
    "papermill": {
     "duration": 0.036186,
     "end_time": "2022-08-05T16:06:06.086207",
     "exception": false,
     "start_time": "2022-08-05T16:06:06.050021",
     "status": "completed"
    },
    "tags": []
   },
   "outputs": [
    {
     "data": {
      "text/plain": [
       "PassengerId     8693\n",
       "HomePlanet         3\n",
       "CryoSleep          2\n",
       "Cabin           6560\n",
       "Destination        3\n",
       "Age               80\n",
       "VIP                2\n",
       "RoomService     1273\n",
       "FoodCourt       1507\n",
       "ShoppingMall    1115\n",
       "Spa             1327\n",
       "VRDeck          1306\n",
       "Name            8473\n",
       "Transported        2\n",
       "dtype: int64"
      ]
     },
     "execution_count": 7,
     "metadata": {},
     "output_type": "execute_result"
    }
   ],
   "source": [
    "train.nunique()"
   ]
  },
  {
   "cell_type": "markdown",
   "id": "b281cb55",
   "metadata": {
    "papermill": {
     "duration": 0.005979,
     "end_time": "2022-08-05T16:06:06.098475",
     "exception": false,
     "start_time": "2022-08-05T16:06:06.092496",
     "status": "completed"
    },
    "tags": []
   },
   "source": [
    "### Data Types\n",
    "All Data needs to be transformed into numeric values for later model building"
   ]
  },
  {
   "cell_type": "code",
   "execution_count": 8,
   "id": "d555f8f0",
   "metadata": {
    "execution": {
     "iopub.execute_input": "2022-08-05T16:06:06.112882Z",
     "iopub.status.busy": "2022-08-05T16:06:06.112385Z",
     "iopub.status.idle": "2022-08-05T16:06:06.127056Z",
     "shell.execute_reply": "2022-08-05T16:06:06.125214Z"
    },
    "papermill": {
     "duration": 0.024916,
     "end_time": "2022-08-05T16:06:06.129559",
     "exception": false,
     "start_time": "2022-08-05T16:06:06.104643",
     "status": "completed"
    },
    "tags": []
   },
   "outputs": [
    {
     "name": "stdout",
     "output_type": "stream",
     "text": [
      "PassengerId      object\n",
      "HomePlanet       object\n",
      "CryoSleep        object\n",
      "Cabin            object\n",
      "Destination      object\n",
      "Age             float64\n",
      "VIP              object\n",
      "RoomService     float64\n",
      "FoodCourt       float64\n",
      "ShoppingMall    float64\n",
      "Spa             float64\n",
      "VRDeck          float64\n",
      "Name             object\n",
      "Transported        bool\n",
      "dtype: object\n"
     ]
    }
   ],
   "source": [
    "print(train.dtypes)\n",
    "\n",
    "# Saving the object features as a list \n",
    "obj = train.select_dtypes(['object']).columns"
   ]
  },
  {
   "cell_type": "markdown",
   "id": "04074f4a",
   "metadata": {
    "papermill": {
     "duration": 0.006,
     "end_time": "2022-08-05T16:06:06.142022",
     "exception": false,
     "start_time": "2022-08-05T16:06:06.136022",
     "status": "completed"
    },
    "tags": []
   },
   "source": [
    "### Checking the distribution of our target feature ('Transported') to see if we have to change our sampling \n",
    "The target feature seems to be nearly even distributed, so we have to do no over- or undersampling"
   ]
  },
  {
   "cell_type": "code",
   "execution_count": 9,
   "id": "3dd8b407",
   "metadata": {
    "execution": {
     "iopub.execute_input": "2022-08-05T16:06:06.156443Z",
     "iopub.status.busy": "2022-08-05T16:06:06.155962Z",
     "iopub.status.idle": "2022-08-05T16:06:06.339282Z",
     "shell.execute_reply": "2022-08-05T16:06:06.337963Z"
    },
    "papermill": {
     "duration": 0.194015,
     "end_time": "2022-08-05T16:06:06.342284",
     "exception": false,
     "start_time": "2022-08-05T16:06:06.148269",
     "status": "completed"
    },
    "tags": []
   },
   "outputs": [
    {
     "data": {
      "text/plain": [
       "<AxesSubplot:xlabel='Transported', ylabel='count'>"
      ]
     },
     "execution_count": 9,
     "metadata": {},
     "output_type": "execute_result"
    },
    {
     "data": {
      "image/png": "[encoded data removed]",
      "text/plain": [
       "<Figure size 432x288 with 1 Axes>"
      ]
     },
     "metadata": {
      "needs_background": "light"
     },
     "output_type": "display_data"
    }
   ],
   "source": [
    "sns.countplot(data = train, x = \"Transported\")"
   ]
  },
  {
   "cell_type": "markdown",
   "id": "d46a5249",
   "metadata": {
    "papermill": {
     "duration": 0.006576,
     "end_time": "2022-08-05T16:06:06.356007",
     "exception": false,
     "start_time": "2022-08-05T16:06:06.349431",
     "status": "completed"
    },
    "tags": []
   },
   "source": [
    "## 4. Explorative Data Analysis (EDA)"
   ]
  },
  {
   "cell_type": "code",
   "execution_count": 10,
   "id": "065e41b8",
   "metadata": {
    "execution": {
     "iopub.execute_input": "2022-08-05T16:06:06.371190Z",
     "iopub.status.busy": "2022-08-05T16:06:06.370723Z",
     "iopub.status.idle": "2022-08-05T16:06:06.410346Z",
     "shell.execute_reply": "2022-08-05T16:06:06.409145Z"
    },
    "papermill": {
     "duration": 0.050715,
     "end_time": "2022-08-05T16:06:06.413317",
     "exception": false,
     "start_time": "2022-08-05T16:06:06.362602",
     "status": "completed"
    },
    "tags": []
   },
   "outputs": [
    {
     "data": {
      "text/html": [
       "<div>\n",
       "<style scoped>\n",
       "    .dataframe tbody tr th:only-of-type {\n",
       "        vertical-align: middle;\n",
       "    }\n",
       "\n",
       "    .dataframe tbody tr th {\n",
       "        vertical-align: top;\n",
       "    }\n",
       "\n",
       "    .dataframe thead th {\n",
       "        text-align: right;\n",
       "    }\n",
       "</style>\n",
       "<table border=\"1\" class=\"dataframe\">\n",
       "  <thead>\n",
       "    <tr style=\"text-align: right;\">\n",
       "      <th></th>\n",
       "      <th>Age</th>\n",
       "      <th>RoomService</th>\n",
       "      <th>FoodCourt</th>\n",
       "      <th>ShoppingMall</th>\n",
       "      <th>Spa</th>\n",
       "      <th>VRDeck</th>\n",
       "    </tr>\n",
       "  </thead>\n",
       "  <tbody>\n",
       "    <tr>\n",
       "      <th>count</th>\n",
       "      <td>8514.000000</td>\n",
       "      <td>8512.000000</td>\n",
       "      <td>8510.000000</td>\n",
       "      <td>8485.000000</td>\n",
       "      <td>8510.000000</td>\n",
       "      <td>8505.000000</td>\n",
       "    </tr>\n",
       "    <tr>\n",
       "      <th>mean</th>\n",
       "      <td>28.827930</td>\n",
       "      <td>224.687617</td>\n",
       "      <td>458.077203</td>\n",
       "      <td>173.729169</td>\n",
       "      <td>311.138778</td>\n",
       "      <td>304.854791</td>\n",
       "    </tr>\n",
       "    <tr>\n",
       "      <th>std</th>\n",
       "      <td>14.489021</td>\n",
       "      <td>666.717663</td>\n",
       "      <td>1611.489240</td>\n",
       "      <td>604.696458</td>\n",
       "      <td>1136.705535</td>\n",
       "      <td>1145.717189</td>\n",
       "    </tr>\n",
       "    <tr>\n",
       "      <th>min</th>\n",
       "      <td>0.000000</td>\n",
       "      <td>0.000000</td>\n",
       "      <td>0.000000</td>\n",
       "      <td>0.000000</td>\n",
       "      <td>0.000000</td>\n",
       "      <td>0.000000</td>\n",
       "    </tr>\n",
       "    <tr>\n",
       "      <th>25%</th>\n",
       "      <td>19.000000</td>\n",
       "      <td>0.000000</td>\n",
       "      <td>0.000000</td>\n",
       "      <td>0.000000</td>\n",
       "      <td>0.000000</td>\n",
       "      <td>0.000000</td>\n",
       "    </tr>\n",
       "    <tr>\n",
       "      <th>50%</th>\n",
       "      <td>27.000000</td>\n",
       "      <td>0.000000</td>\n",
       "      <td>0.000000</td>\n",
       "      <td>0.000000</td>\n",
       "      <td>0.000000</td>\n",
       "      <td>0.000000</td>\n",
       "    </tr>\n",
       "    <tr>\n",
       "      <th>75%</th>\n",
       "      <td>38.000000</td>\n",
       "      <td>47.000000</td>\n",
       "      <td>76.000000</td>\n",
       "      <td>27.000000</td>\n",
       "      <td>59.000000</td>\n",
       "      <td>46.000000</td>\n",
       "    </tr>\n",
       "    <tr>\n",
       "      <th>max</th>\n",
       "      <td>79.000000</td>\n",
       "      <td>14327.000000</td>\n",
       "      <td>29813.000000</td>\n",
       "      <td>23492.000000</td>\n",
       "      <td>22408.000000</td>\n",
       "      <td>24133.000000</td>\n",
       "    </tr>\n",
       "  </tbody>\n",
       "</table>\n",
       "</div>"
      ],
      "text/plain": [
       "               Age   RoomService     FoodCourt  ShoppingMall           Spa  \\\n",
       "count  8514.000000   8512.000000   8510.000000   8485.000000   8510.000000   \n",
       "mean     28.827930    224.687617    458.077203    173.729169    311.138778   \n",
       "std      14.489021    666.717663   1611.489240    604.696458   1136.705535   \n",
       "min       0.000000      0.000000      0.000000      0.000000      0.000000   \n",
       "25%      19.000000      0.000000      0.000000      0.000000      0.000000   \n",
       "50%      27.000000      0.000000      0.000000      0.000000      0.000000   \n",
       "75%      38.000000     47.000000     76.000000     27.000000     59.000000   \n",
       "max      79.000000  14327.000000  29813.000000  23492.000000  22408.000000   \n",
       "\n",
       "             VRDeck  \n",
       "count   8505.000000  \n",
       "mean     304.854791  \n",
       "std     1145.717189  \n",
       "min        0.000000  \n",
       "25%        0.000000  \n",
       "50%        0.000000  \n",
       "75%       46.000000  \n",
       "max    24133.000000  "
      ]
     },
     "execution_count": 10,
     "metadata": {},
     "output_type": "execute_result"
    }
   ],
   "source": [
    "train.describe()"
   ]
  },
  {
   "cell_type": "markdown",
   "id": "759e254c",
   "metadata": {
    "papermill": {
     "duration": 0.006763,
     "end_time": "2022-08-05T16:06:06.427199",
     "exception": false,
     "start_time": "2022-08-05T16:06:06.420436",
     "status": "completed"
    },
    "tags": []
   },
   "source": [
    "### Age Distribution"
   ]
  },
  {
   "cell_type": "code",
   "execution_count": 11,
   "id": "9eccb7d9",
   "metadata": {
    "execution": {
     "iopub.execute_input": "2022-08-05T16:06:06.443222Z",
     "iopub.status.busy": "2022-08-05T16:06:06.442772Z",
     "iopub.status.idle": "2022-08-05T16:06:07.183280Z",
     "shell.execute_reply": "2022-08-05T16:06:07.181926Z"
    },
    "papermill": {
     "duration": 0.753574,
     "end_time": "2022-08-05T16:06:07.187858",
     "exception": false,
     "start_time": "2022-08-05T16:06:06.434284",
     "status": "completed"
    },
    "tags": []
   },
   "outputs": [
    {
     "data": {
      "text/plain": [
       "<AxesSubplot:xlabel='Age', ylabel='Count'>"
      ]
     },
     "execution_count": 11,
     "metadata": {},
     "output_type": "execute_result"
    },
    {
     "data": {
      "image/png": "[encoded data removed]",
      "text/plain": [
       "<Figure size 864x360 with 2 Axes>"
      ]
     },
     "metadata": {
      "needs_background": "light"
     },
     "output_type": "display_data"
    }
   ],
   "source": [
    "fig, axs = plt.subplots(ncols = 2, nrows = 1, figsize = (12,5))\n",
    "\n",
    "sns.histplot(x = \"Age\", data = train, kde = True, ax = axs[0])\n",
    "sns.histplot(x = \"Age\", data = train, hue = \"Transported\", kde = True, ax = axs[1])"
   ]
  },
  {
   "cell_type": "code",
   "execution_count": null,
   "id": "d31a534d",
   "metadata": {
    "papermill": {
     "duration": 0.010269,
     "end_time": "2022-08-05T16:06:07.208128",
     "exception": false,
     "start_time": "2022-08-05T16:06:07.197859",
     "status": "completed"
    },
    "tags": []
   },
   "outputs": [],
   "source": []
  }
 ],
 "metadata": {
  "kernelspec": {
   "display_name": "Python 3",
   "language": "python",
   "name": "python3"
  },
  "language_info": {
   "codemirror_mode": {
    "name": "ipython",
    "version": 3
   },
   "file_extension": ".py",
   "mimetype": "text/x-python",
   "name": "python",
   "nbconvert_exporter": "python",
   "pygments_lexer": "ipython3",
   "version": "3.7.12"
  },
  "papermill": {
   "default_parameters": {},
   "duration": 13.666223,
   "end_time": "2022-08-05T16:06:08.144454",
   "environment_variables": {},
   "exception": null,
   "input_path": "__notebook__.ipynb",
   "output_path": "__notebook__.ipynb",
   "parameters": {},
   "start_time": "2022-08-05T16:05:54.478231",
   "version": "2.3.4"
  }
 },
 "nbformat": 4,
 "nbformat_minor": 5
}
