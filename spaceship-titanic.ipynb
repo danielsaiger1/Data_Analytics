{
 "cells": [
  {
   "cell_type": "code",
   "execution_count": 1,
   "id": "8cb43e67",
   "metadata": {
    "_cell_guid": "b1076dfc-b9ad-4769-8c92-a6c4dae69d19",
    "_uuid": "8f2839f25d086af736a60e9eeb907d3b93b6e0e5",
    "execution": {
     "iopub.execute_input": "2022-08-06T14:57:16.497993Z",
     "iopub.status.busy": "2022-08-06T14:57:16.497541Z",
     "iopub.status.idle": "2022-08-06T14:57:16.511854Z",
     "shell.execute_reply": "2022-08-06T14:57:16.510735Z"
    },
    "papermill": {
     "duration": 0.027246,
     "end_time": "2022-08-06T14:57:16.514879",
     "exception": false,
     "start_time": "2022-08-06T14:57:16.487633",
     "status": "completed"
    },
    "tags": []
   },
   "outputs": [
    {
     "name": "stdout",
     "output_type": "stream",
     "text": [
      "/kaggle/input/spaceship-titanic/sample_submission.csv\n",
      "/kaggle/input/spaceship-titanic/train.csv\n",
      "/kaggle/input/spaceship-titanic/test.csv\n"
     ]
    }
   ],
   "source": [
    "# This Python 3 environment comes with many helpful analytics libraries installed\n",
    "# It is defined by the kaggle/python Docker image: https://github.com/kaggle/docker-python\n",
    "# For example, here's several helpful packages to load\n",
    "\n",
    "import numpy as np # linear algebra\n",
    "import pandas as pd # data processing, CSV file I/O (e.g. pd.read_csv)\n",
    "\n",
    "# Input data files are available in the read-only \"../input/\" directory\n",
    "# For example, running this (by clicking run or pressing Shift+Enter) will list all files under the input directory\n",
    "\n",
    "import os\n",
    "for dirname, _, filenames in os.walk('/kaggle/input'):\n",
    "    for filename in filenames:\n",
    "        print(os.path.join(dirname, filename))\n",
    "\n",
    "# You can write up to 20GB to the current directory (/kaggle/working/) that gets preserved as output when you create a version using \"Save & Run All\" \n",
    "# You can also write temporary files to /kaggle/temp/, but they won't be saved outside of the current session"
   ]
  },
  {
   "cell_type": "markdown",
   "id": "15fe7a6a",
   "metadata": {
    "papermill": {
     "duration": 0.006732,
     "end_time": "2022-08-06T14:57:16.529585",
     "exception": false,
     "start_time": "2022-08-06T14:57:16.522853",
     "status": "completed"
    },
    "tags": []
   },
   "source": [
    "## Introduction\n",
    "\n",
    "In this Notebook we will use binary classification algoithms to solve the Spaceship Titanic Challenge. \n",
    "\n",
    "Our goal is to predict wether a passenger is transported to an other dimension after the crash of the space titanic or not. \n",
    "\n"
   ]
  },
  {
   "cell_type": "markdown",
   "id": "25938d30",
   "metadata": {
    "papermill": {
     "duration": 0.006873,
     "end_time": "2022-08-06T14:57:16.543375",
     "exception": false,
     "start_time": "2022-08-06T14:57:16.536502",
     "status": "completed"
    },
    "tags": []
   },
   "source": [
    "![spaceship](https://qph.cf2.quoracdn.net/main-qimg-c8dabaf5c8e26b056f1eda7728c1d002-lq)"
   ]
  },
  {
   "cell_type": "markdown",
   "id": "ebc0f750",
   "metadata": {
    "papermill": {
     "duration": 0.006645,
     "end_time": "2022-08-06T14:57:16.557004",
     "exception": false,
     "start_time": "2022-08-06T14:57:16.550359",
     "status": "completed"
    },
    "tags": []
   },
   "source": [
    "## The Dataset\n",
    "\n",
    "* **Train Data:**\n",
    "    * **PassengerId** - A unique Id for each passenger. Each Id takes the form gggg_pp where gggg indicates a group the passenger is travelling with and pp is their number within the group. People in a group are often family members, but not always.\n",
    "    * **HomePlanet** - The planet the passenger departed from, typically their planet of permanent residence.\n",
    "    * **CryoSleep** - Indicates whether the passenger elected to be put into suspended animation for the duration of the voyage. Passengers in cryosleep are confined to their cabins.\n",
    "    * **Cabin** - The cabin number where the passenger is staying. Takes the form deck/num/side, where side can be either P for Port or S for Starboard.\n",
    "    * **Destination** - The planet the passenger will be debarking to.\n",
    "    * **Age** - The age of the passenger.\n",
    "    * **VIP** - Whether the passenger has paid for special VIP service during the voyage.\n",
    "    * **RoomService, FoodCourt, ShoppingMall, Spa, VRDeck** - Amount the passenger has billed at each of the Spaceship Titanic's many luxury amenities.\n",
    "    * **Name** - The first and last names of the passenger.\n",
    "    * **Transported **- Whether the passenger was transported to another dimension. This is the target, the column we are trying to predict.\n",
    "    \n",
    "    \n",
    "* **Test Data:**\n",
    "    * Personal records for the remaining one-third (~4300) of the passengers, to be used as test data."
   ]
  },
  {
   "cell_type": "markdown",
   "id": "b8ff0ffa",
   "metadata": {
    "papermill": {
     "duration": 0.006648,
     "end_time": "2022-08-06T14:57:16.570607",
     "exception": false,
     "start_time": "2022-08-06T14:57:16.563959",
     "status": "completed"
    },
    "tags": []
   },
   "source": [
    "## 1. Imports"
   ]
  },
  {
   "cell_type": "code",
   "execution_count": 2,
   "id": "ae417466",
   "metadata": {
    "execution": {
     "iopub.execute_input": "2022-08-06T14:57:16.586156Z",
     "iopub.status.busy": "2022-08-06T14:57:16.585747Z",
     "iopub.status.idle": "2022-08-06T14:57:17.707860Z",
     "shell.execute_reply": "2022-08-06T14:57:17.706978Z"
    },
    "papermill": {
     "duration": 1.132669,
     "end_time": "2022-08-06T14:57:17.710268",
     "exception": false,
     "start_time": "2022-08-06T14:57:16.577599",
     "status": "completed"
    },
    "tags": []
   },
   "outputs": [],
   "source": [
    "import pandas as pd\n",
    "import numpy as np\n",
    "import matplotlib.pyplot as plt \n",
    "import seaborn as sns\n",
    "%matplotlib inline "
   ]
  },
  {
   "cell_type": "markdown",
   "id": "29f4d97b",
   "metadata": {
    "papermill": {
     "duration": 0.006831,
     "end_time": "2022-08-06T14:57:17.724287",
     "exception": false,
     "start_time": "2022-08-06T14:57:17.717456",
     "status": "completed"
    },
    "tags": []
   },
   "source": [
    "## 2. Loading the Data "
   ]
  },
  {
   "cell_type": "code",
   "execution_count": 3,
   "id": "e7cfa417",
   "metadata": {
    "execution": {
     "iopub.execute_input": "2022-08-06T14:57:17.740475Z",
     "iopub.status.busy": "2022-08-06T14:57:17.739807Z",
     "iopub.status.idle": "2022-08-06T14:57:17.823397Z",
     "shell.execute_reply": "2022-08-06T14:57:17.822163Z"
    },
    "papermill": {
     "duration": 0.094461,
     "end_time": "2022-08-06T14:57:17.825834",
     "exception": false,
     "start_time": "2022-08-06T14:57:17.731373",
     "status": "completed"
    },
    "tags": []
   },
   "outputs": [
    {
     "name": "stdout",
     "output_type": "stream",
     "text": [
      "The Training Set has: 8693 rows and 14 columns\n",
      "The Test Set has: 4277 rows and 13 columns\n"
     ]
    }
   ],
   "source": [
    "train = pd.read_csv('../input/spaceship-titanic/train.csv')\n",
    "test = pd.read_csv('../input/spaceship-titanic/test.csv')\n",
    "\n",
    "print('The Training Set has:',train.shape[0] ,'rows and' ,train.shape[1] ,'columns')\n",
    "print('The Test Set has:',test.shape[0],'rows and',test.shape[1],'columns')"
   ]
  },
  {
   "cell_type": "code",
   "execution_count": 4,
   "id": "2ab821da",
   "metadata": {
    "execution": {
     "iopub.execute_input": "2022-08-06T14:57:17.842950Z",
     "iopub.status.busy": "2022-08-06T14:57:17.842237Z",
     "iopub.status.idle": "2022-08-06T14:57:17.874131Z",
     "shell.execute_reply": "2022-08-06T14:57:17.872952Z"
    },
    "papermill": {
     "duration": 0.042728,
     "end_time": "2022-08-06T14:57:17.876520",
     "exception": false,
     "start_time": "2022-08-06T14:57:17.833792",
     "status": "completed"
    },
    "tags": []
   },
   "outputs": [
    {
     "data": {
      "text/html": [
       "<div>\n",
       "<style scoped>\n",
       "    .dataframe tbody tr th:only-of-type {\n",
       "        vertical-align: middle;\n",
       "    }\n",
       "\n",
       "    .dataframe tbody tr th {\n",
       "        vertical-align: top;\n",
       "    }\n",
       "\n",
       "    .dataframe thead th {\n",
       "        text-align: right;\n",
       "    }\n",
       "</style>\n",
       "<table border=\"1\" class=\"dataframe\">\n",
       "  <thead>\n",
       "    <tr style=\"text-align: right;\">\n",
       "      <th></th>\n",
       "      <th>PassengerId</th>\n",
       "      <th>HomePlanet</th>\n",
       "      <th>CryoSleep</th>\n",
       "      <th>Cabin</th>\n",
       "      <th>Destination</th>\n",
       "      <th>Age</th>\n",
       "      <th>VIP</th>\n",
       "      <th>RoomService</th>\n",
       "      <th>FoodCourt</th>\n",
       "      <th>ShoppingMall</th>\n",
       "      <th>Spa</th>\n",
       "      <th>VRDeck</th>\n",
       "      <th>Name</th>\n",
       "      <th>Transported</th>\n",
       "    </tr>\n",
       "  </thead>\n",
       "  <tbody>\n",
       "    <tr>\n",
       "      <th>0</th>\n",
       "      <td>0001_01</td>\n",
       "      <td>Europa</td>\n",
       "      <td>False</td>\n",
       "      <td>B/0/P</td>\n",
       "      <td>TRAPPIST-1e</td>\n",
       "      <td>39.0</td>\n",
       "      <td>False</td>\n",
       "      <td>0.0</td>\n",
       "      <td>0.0</td>\n",
       "      <td>0.0</td>\n",
       "      <td>0.0</td>\n",
       "      <td>0.0</td>\n",
       "      <td>Maham Ofracculy</td>\n",
       "      <td>False</td>\n",
       "    </tr>\n",
       "    <tr>\n",
       "      <th>1</th>\n",
       "      <td>0002_01</td>\n",
       "      <td>Earth</td>\n",
       "      <td>False</td>\n",
       "      <td>F/0/S</td>\n",
       "      <td>TRAPPIST-1e</td>\n",
       "      <td>24.0</td>\n",
       "      <td>False</td>\n",
       "      <td>109.0</td>\n",
       "      <td>9.0</td>\n",
       "      <td>25.0</td>\n",
       "      <td>549.0</td>\n",
       "      <td>44.0</td>\n",
       "      <td>Juanna Vines</td>\n",
       "      <td>True</td>\n",
       "    </tr>\n",
       "    <tr>\n",
       "      <th>2</th>\n",
       "      <td>0003_01</td>\n",
       "      <td>Europa</td>\n",
       "      <td>False</td>\n",
       "      <td>A/0/S</td>\n",
       "      <td>TRAPPIST-1e</td>\n",
       "      <td>58.0</td>\n",
       "      <td>True</td>\n",
       "      <td>43.0</td>\n",
       "      <td>3576.0</td>\n",
       "      <td>0.0</td>\n",
       "      <td>6715.0</td>\n",
       "      <td>49.0</td>\n",
       "      <td>Altark Susent</td>\n",
       "      <td>False</td>\n",
       "    </tr>\n",
       "    <tr>\n",
       "      <th>3</th>\n",
       "      <td>0003_02</td>\n",
       "      <td>Europa</td>\n",
       "      <td>False</td>\n",
       "      <td>A/0/S</td>\n",
       "      <td>TRAPPIST-1e</td>\n",
       "      <td>33.0</td>\n",
       "      <td>False</td>\n",
       "      <td>0.0</td>\n",
       "      <td>1283.0</td>\n",
       "      <td>371.0</td>\n",
       "      <td>3329.0</td>\n",
       "      <td>193.0</td>\n",
       "      <td>Solam Susent</td>\n",
       "      <td>False</td>\n",
       "    </tr>\n",
       "    <tr>\n",
       "      <th>4</th>\n",
       "      <td>0004_01</td>\n",
       "      <td>Earth</td>\n",
       "      <td>False</td>\n",
       "      <td>F/1/S</td>\n",
       "      <td>TRAPPIST-1e</td>\n",
       "      <td>16.0</td>\n",
       "      <td>False</td>\n",
       "      <td>303.0</td>\n",
       "      <td>70.0</td>\n",
       "      <td>151.0</td>\n",
       "      <td>565.0</td>\n",
       "      <td>2.0</td>\n",
       "      <td>Willy Santantines</td>\n",
       "      <td>True</td>\n",
       "    </tr>\n",
       "  </tbody>\n",
       "</table>\n",
       "</div>"
      ],
      "text/plain": [
       "  PassengerId HomePlanet CryoSleep  Cabin  Destination   Age    VIP  \\\n",
       "0     0001_01     Europa     False  B/0/P  TRAPPIST-1e  39.0  False   \n",
       "1     0002_01      Earth     False  F/0/S  TRAPPIST-1e  24.0  False   \n",
       "2     0003_01     Europa     False  A/0/S  TRAPPIST-1e  58.0   True   \n",
       "3     0003_02     Europa     False  A/0/S  TRAPPIST-1e  33.0  False   \n",
       "4     0004_01      Earth     False  F/1/S  TRAPPIST-1e  16.0  False   \n",
       "\n",
       "   RoomService  FoodCourt  ShoppingMall     Spa  VRDeck               Name  \\\n",
       "0          0.0        0.0           0.0     0.0     0.0    Maham Ofracculy   \n",
       "1        109.0        9.0          25.0   549.0    44.0       Juanna Vines   \n",
       "2         43.0     3576.0           0.0  6715.0    49.0      Altark Susent   \n",
       "3          0.0     1283.0         371.0  3329.0   193.0       Solam Susent   \n",
       "4        303.0       70.0         151.0   565.0     2.0  Willy Santantines   \n",
       "\n",
       "   Transported  \n",
       "0        False  \n",
       "1         True  \n",
       "2        False  \n",
       "3        False  \n",
       "4         True  "
      ]
     },
     "execution_count": 4,
     "metadata": {},
     "output_type": "execute_result"
    }
   ],
   "source": [
    "train.head()"
   ]
  },
  {
   "cell_type": "markdown",
   "id": "3763b4ba",
   "metadata": {
    "papermill": {
     "duration": 0.007385,
     "end_time": "2022-08-06T14:57:17.891596",
     "exception": false,
     "start_time": "2022-08-06T14:57:17.884211",
     "status": "completed"
    },
    "tags": []
   },
   "source": [
    "## 3. Checking the state of the Data"
   ]
  },
  {
   "cell_type": "markdown",
   "id": "c9cf14e3",
   "metadata": {
    "papermill": {
     "duration": 0.007153,
     "end_time": "2022-08-06T14:57:17.906233",
     "exception": false,
     "start_time": "2022-08-06T14:57:17.899080",
     "status": "completed"
    },
    "tags": []
   },
   "source": [
    "### Missing values"
   ]
  },
  {
   "cell_type": "code",
   "execution_count": 5,
   "id": "5c7488ec",
   "metadata": {
    "execution": {
     "iopub.execute_input": "2022-08-06T14:57:17.923080Z",
     "iopub.status.busy": "2022-08-06T14:57:17.922712Z",
     "iopub.status.idle": "2022-08-06T14:57:17.936139Z",
     "shell.execute_reply": "2022-08-06T14:57:17.934817Z"
    },
    "papermill": {
     "duration": 0.024629,
     "end_time": "2022-08-06T14:57:17.938402",
     "exception": false,
     "start_time": "2022-08-06T14:57:17.913773",
     "status": "completed"
    },
    "tags": []
   },
   "outputs": [
    {
     "name": "stdout",
     "output_type": "stream",
     "text": [
      "The train dataset has 2324 missing values\n",
      "The test dataset has 1117 missing values\n"
     ]
    }
   ],
   "source": [
    "print('The train dataset has', sum(train.isnull().sum()), 'missing values')\n",
    "print('The test dataset has', sum(test.isnull().sum()), 'missing values')"
   ]
  },
  {
   "cell_type": "markdown",
   "id": "ebf74de6",
   "metadata": {
    "papermill": {
     "duration": 0.007375,
     "end_time": "2022-08-06T14:57:17.953427",
     "exception": false,
     "start_time": "2022-08-06T14:57:17.946052",
     "status": "completed"
    },
    "tags": []
   },
   "source": [
    "### Distribution of the missing values\n",
    "\n",
    "We can see that every feature except for the Passenger ID contains null values."
   ]
  },
  {
   "cell_type": "code",
   "execution_count": 6,
   "id": "3d8aec6c",
   "metadata": {
    "execution": {
     "iopub.execute_input": "2022-08-06T14:57:17.970726Z",
     "iopub.status.busy": "2022-08-06T14:57:17.970046Z",
     "iopub.status.idle": "2022-08-06T14:57:17.984867Z",
     "shell.execute_reply": "2022-08-06T14:57:17.983379Z"
    },
    "papermill": {
     "duration": 0.027718,
     "end_time": "2022-08-06T14:57:17.988754",
     "exception": false,
     "start_time": "2022-08-06T14:57:17.961036",
     "status": "completed"
    },
    "tags": []
   },
   "outputs": [
    {
     "name": "stdout",
     "output_type": "stream",
     "text": [
      "Training Set:\n",
      "PassengerId       0\n",
      "HomePlanet      201\n",
      "CryoSleep       217\n",
      "Cabin           199\n",
      "Destination     182\n",
      "Age             179\n",
      "VIP             203\n",
      "RoomService     181\n",
      "FoodCourt       183\n",
      "ShoppingMall    208\n",
      "Spa             183\n",
      "VRDeck          188\n",
      "Name            200\n",
      "Transported       0\n",
      "dtype: int64\n",
      "\n",
      "Test Set:\n",
      "PassengerId       0\n",
      "HomePlanet       87\n",
      "CryoSleep        93\n",
      "Cabin           100\n",
      "Destination      92\n",
      "Age              91\n",
      "VIP              93\n",
      "RoomService      82\n",
      "FoodCourt       106\n",
      "ShoppingMall     98\n",
      "Spa             101\n",
      "VRDeck           80\n",
      "Name             94\n",
      "dtype: int64\n"
     ]
    }
   ],
   "source": [
    "print('Training Set:')\n",
    "print(train.isnull().sum())\n",
    "print('')\n",
    "print('Test Set:')\n",
    "print(test.isnull().sum())"
   ]
  },
  {
   "cell_type": "markdown",
   "id": "8f9bb82f",
   "metadata": {
    "papermill": {
     "duration": 0.007517,
     "end_time": "2022-08-06T14:57:18.004534",
     "exception": false,
     "start_time": "2022-08-06T14:57:17.997017",
     "status": "completed"
    },
    "tags": []
   },
   "source": [
    "### Unique Values in every column"
   ]
  },
  {
   "cell_type": "code",
   "execution_count": 7,
   "id": "99f1fd24",
   "metadata": {
    "execution": {
     "iopub.execute_input": "2022-08-06T14:57:18.022100Z",
     "iopub.status.busy": "2022-08-06T14:57:18.021386Z",
     "iopub.status.idle": "2022-08-06T14:57:18.043278Z",
     "shell.execute_reply": "2022-08-06T14:57:18.042129Z"
    },
    "papermill": {
     "duration": 0.033976,
     "end_time": "2022-08-06T14:57:18.046194",
     "exception": false,
     "start_time": "2022-08-06T14:57:18.012218",
     "status": "completed"
    },
    "tags": []
   },
   "outputs": [
    {
     "data": {
      "text/plain": [
       "PassengerId     8693\n",
       "HomePlanet         3\n",
       "CryoSleep          2\n",
       "Cabin           6560\n",
       "Destination        3\n",
       "Age               80\n",
       "VIP                2\n",
       "RoomService     1273\n",
       "FoodCourt       1507\n",
       "ShoppingMall    1115\n",
       "Spa             1327\n",
       "VRDeck          1306\n",
       "Name            8473\n",
       "Transported        2\n",
       "dtype: int64"
      ]
     },
     "execution_count": 7,
     "metadata": {},
     "output_type": "execute_result"
    }
   ],
   "source": [
    "train.nunique()"
   ]
  },
  {
   "cell_type": "markdown",
   "id": "8407c5c3",
   "metadata": {
    "papermill": {
     "duration": 0.007357,
     "end_time": "2022-08-06T14:57:18.061328",
     "exception": false,
     "start_time": "2022-08-06T14:57:18.053971",
     "status": "completed"
    },
    "tags": []
   },
   "source": [
    "### Data Types\n",
    "All Data needs to be transformed into numeric values for later model building"
   ]
  },
  {
   "cell_type": "code",
   "execution_count": 8,
   "id": "69b52074",
   "metadata": {
    "execution": {
     "iopub.execute_input": "2022-08-06T14:57:18.079261Z",
     "iopub.status.busy": "2022-08-06T14:57:18.078266Z",
     "iopub.status.idle": "2022-08-06T14:57:18.091470Z",
     "shell.execute_reply": "2022-08-06T14:57:18.089774Z"
    },
    "papermill": {
     "duration": 0.02481,
     "end_time": "2022-08-06T14:57:18.093915",
     "exception": false,
     "start_time": "2022-08-06T14:57:18.069105",
     "status": "completed"
    },
    "tags": []
   },
   "outputs": [
    {
     "name": "stdout",
     "output_type": "stream",
     "text": [
      "PassengerId      object\n",
      "HomePlanet       object\n",
      "CryoSleep        object\n",
      "Cabin            object\n",
      "Destination      object\n",
      "Age             float64\n",
      "VIP              object\n",
      "RoomService     float64\n",
      "FoodCourt       float64\n",
      "ShoppingMall    float64\n",
      "Spa             float64\n",
      "VRDeck          float64\n",
      "Name             object\n",
      "Transported        bool\n",
      "dtype: object\n"
     ]
    }
   ],
   "source": [
    "print(train.dtypes)\n",
    "\n",
    "# Saving the object features as a list \n",
    "obj = train.select_dtypes(['object']).columns"
   ]
  },
  {
   "cell_type": "markdown",
   "id": "8526cc4a",
   "metadata": {
    "papermill": {
     "duration": 0.007682,
     "end_time": "2022-08-06T14:57:18.109550",
     "exception": false,
     "start_time": "2022-08-06T14:57:18.101868",
     "status": "completed"
    },
    "tags": []
   },
   "source": [
    "### Checking the distribution of our target feature ('Transported') to see if we have to change our sampling \n",
    "The target feature seems to be nearly even distributed, so we have to do no over- or undersampling"
   ]
  },
  {
   "cell_type": "code",
   "execution_count": 9,
   "id": "92111f67",
   "metadata": {
    "execution": {
     "iopub.execute_input": "2022-08-06T14:57:18.127432Z",
     "iopub.status.busy": "2022-08-06T14:57:18.126401Z",
     "iopub.status.idle": "2022-08-06T14:57:18.323475Z",
     "shell.execute_reply": "2022-08-06T14:57:18.322439Z"
    },
    "papermill": {
     "duration": 0.208645,
     "end_time": "2022-08-06T14:57:18.326009",
     "exception": false,
     "start_time": "2022-08-06T14:57:18.117364",
     "status": "completed"
    },
    "tags": []
   },
   "outputs": [
    {
     "data": {
      "text/plain": [
       "<AxesSubplot:xlabel='Transported', ylabel='count'>"
      ]
     },
     "execution_count": 9,
     "metadata": {},
     "output_type": "execute_result"
    },
    {
     "data": {
      "image/png": "[encoded data removed]",
      "text/plain": [
       "<Figure size 432x288 with 1 Axes>"
      ]
     },
     "metadata": {
      "needs_background": "light"
     },
     "output_type": "display_data"
    }
   ],
   "source": [
    "sns.countplot(data = train, x = \"Transported\")"
   ]
  },
  {
   "cell_type": "markdown",
   "id": "b5ae99a8",
   "metadata": {
    "papermill": {
     "duration": 0.00777,
     "end_time": "2022-08-06T14:57:18.342053",
     "exception": false,
     "start_time": "2022-08-06T14:57:18.334283",
     "status": "completed"
    },
    "tags": []
   },
   "source": [
    "## 4. Explorative Data Analysis (EDA)"
   ]
  },
  {
   "cell_type": "code",
   "execution_count": 10,
   "id": "2f0ed2a6",
   "metadata": {
    "execution": {
     "iopub.execute_input": "2022-08-06T14:57:18.360323Z",
     "iopub.status.busy": "2022-08-06T14:57:18.359712Z",
     "iopub.status.idle": "2022-08-06T14:57:18.379540Z",
     "shell.execute_reply": "2022-08-06T14:57:18.378651Z"
    },
    "papermill": {
     "duration": 0.0315,
     "end_time": "2022-08-06T14:57:18.381663",
     "exception": false,
     "start_time": "2022-08-06T14:57:18.350163",
     "status": "completed"
    },
    "tags": []
   },
   "outputs": [
    {
     "data": {
      "text/html": [
       "<div>\n",
       "<style scoped>\n",
       "    .dataframe tbody tr th:only-of-type {\n",
       "        vertical-align: middle;\n",
       "    }\n",
       "\n",
       "    .dataframe tbody tr th {\n",
       "        vertical-align: top;\n",
       "    }\n",
       "\n",
       "    .dataframe thead th {\n",
       "        text-align: right;\n",
       "    }\n",
       "</style>\n",
       "<table border=\"1\" class=\"dataframe\">\n",
       "  <thead>\n",
       "    <tr style=\"text-align: right;\">\n",
       "      <th></th>\n",
       "      <th>PassengerId</th>\n",
       "      <th>HomePlanet</th>\n",
       "      <th>CryoSleep</th>\n",
       "      <th>Cabin</th>\n",
       "      <th>Destination</th>\n",
       "      <th>Age</th>\n",
       "      <th>VIP</th>\n",
       "      <th>RoomService</th>\n",
       "      <th>FoodCourt</th>\n",
       "      <th>ShoppingMall</th>\n",
       "      <th>Spa</th>\n",
       "      <th>VRDeck</th>\n",
       "      <th>Name</th>\n",
       "      <th>Transported</th>\n",
       "    </tr>\n",
       "  </thead>\n",
       "  <tbody>\n",
       "    <tr>\n",
       "      <th>0</th>\n",
       "      <td>0001_01</td>\n",
       "      <td>Europa</td>\n",
       "      <td>False</td>\n",
       "      <td>B/0/P</td>\n",
       "      <td>TRAPPIST-1e</td>\n",
       "      <td>39.0</td>\n",
       "      <td>False</td>\n",
       "      <td>0.0</td>\n",
       "      <td>0.0</td>\n",
       "      <td>0.0</td>\n",
       "      <td>0.0</td>\n",
       "      <td>0.0</td>\n",
       "      <td>Maham Ofracculy</td>\n",
       "      <td>False</td>\n",
       "    </tr>\n",
       "    <tr>\n",
       "      <th>1</th>\n",
       "      <td>0002_01</td>\n",
       "      <td>Earth</td>\n",
       "      <td>False</td>\n",
       "      <td>F/0/S</td>\n",
       "      <td>TRAPPIST-1e</td>\n",
       "      <td>24.0</td>\n",
       "      <td>False</td>\n",
       "      <td>109.0</td>\n",
       "      <td>9.0</td>\n",
       "      <td>25.0</td>\n",
       "      <td>549.0</td>\n",
       "      <td>44.0</td>\n",
       "      <td>Juanna Vines</td>\n",
       "      <td>True</td>\n",
       "    </tr>\n",
       "    <tr>\n",
       "      <th>2</th>\n",
       "      <td>0003_01</td>\n",
       "      <td>Europa</td>\n",
       "      <td>False</td>\n",
       "      <td>A/0/S</td>\n",
       "      <td>TRAPPIST-1e</td>\n",
       "      <td>58.0</td>\n",
       "      <td>True</td>\n",
       "      <td>43.0</td>\n",
       "      <td>3576.0</td>\n",
       "      <td>0.0</td>\n",
       "      <td>6715.0</td>\n",
       "      <td>49.0</td>\n",
       "      <td>Altark Susent</td>\n",
       "      <td>False</td>\n",
       "    </tr>\n",
       "    <tr>\n",
       "      <th>3</th>\n",
       "      <td>0003_02</td>\n",
       "      <td>Europa</td>\n",
       "      <td>False</td>\n",
       "      <td>A/0/S</td>\n",
       "      <td>TRAPPIST-1e</td>\n",
       "      <td>33.0</td>\n",
       "      <td>False</td>\n",
       "      <td>0.0</td>\n",
       "      <td>1283.0</td>\n",
       "      <td>371.0</td>\n",
       "      <td>3329.0</td>\n",
       "      <td>193.0</td>\n",
       "      <td>Solam Susent</td>\n",
       "      <td>False</td>\n",
       "    </tr>\n",
       "    <tr>\n",
       "      <th>4</th>\n",
       "      <td>0004_01</td>\n",
       "      <td>Earth</td>\n",
       "      <td>False</td>\n",
       "      <td>F/1/S</td>\n",
       "      <td>TRAPPIST-1e</td>\n",
       "      <td>16.0</td>\n",
       "      <td>False</td>\n",
       "      <td>303.0</td>\n",
       "      <td>70.0</td>\n",
       "      <td>151.0</td>\n",
       "      <td>565.0</td>\n",
       "      <td>2.0</td>\n",
       "      <td>Willy Santantines</td>\n",
       "      <td>True</td>\n",
       "    </tr>\n",
       "  </tbody>\n",
       "</table>\n",
       "</div>"
      ],
      "text/plain": [
       "  PassengerId HomePlanet CryoSleep  Cabin  Destination   Age    VIP  \\\n",
       "0     0001_01     Europa     False  B/0/P  TRAPPIST-1e  39.0  False   \n",
       "1     0002_01      Earth     False  F/0/S  TRAPPIST-1e  24.0  False   \n",
       "2     0003_01     Europa     False  A/0/S  TRAPPIST-1e  58.0   True   \n",
       "3     0003_02     Europa     False  A/0/S  TRAPPIST-1e  33.0  False   \n",
       "4     0004_01      Earth     False  F/1/S  TRAPPIST-1e  16.0  False   \n",
       "\n",
       "   RoomService  FoodCourt  ShoppingMall     Spa  VRDeck               Name  \\\n",
       "0          0.0        0.0           0.0     0.0     0.0    Maham Ofracculy   \n",
       "1        109.0        9.0          25.0   549.0    44.0       Juanna Vines   \n",
       "2         43.0     3576.0           0.0  6715.0    49.0      Altark Susent   \n",
       "3          0.0     1283.0         371.0  3329.0   193.0       Solam Susent   \n",
       "4        303.0       70.0         151.0   565.0     2.0  Willy Santantines   \n",
       "\n",
       "   Transported  \n",
       "0        False  \n",
       "1         True  \n",
       "2        False  \n",
       "3        False  \n",
       "4         True  "
      ]
     },
     "execution_count": 10,
     "metadata": {},
     "output_type": "execute_result"
    }
   ],
   "source": [
    "train.head()"
   ]
  },
  {
   "cell_type": "code",
   "execution_count": 11,
   "id": "1c845d5f",
   "metadata": {
    "execution": {
     "iopub.execute_input": "2022-08-06T14:57:18.400463Z",
     "iopub.status.busy": "2022-08-06T14:57:18.399541Z",
     "iopub.status.idle": "2022-08-06T14:57:18.434554Z",
     "shell.execute_reply": "2022-08-06T14:57:18.433464Z"
    },
    "papermill": {
     "duration": 0.046802,
     "end_time": "2022-08-06T14:57:18.436934",
     "exception": false,
     "start_time": "2022-08-06T14:57:18.390132",
     "status": "completed"
    },
    "tags": []
   },
   "outputs": [
    {
     "data": {
      "text/html": [
       "<div>\n",
       "<style scoped>\n",
       "    .dataframe tbody tr th:only-of-type {\n",
       "        vertical-align: middle;\n",
       "    }\n",
       "\n",
       "    .dataframe tbody tr th {\n",
       "        vertical-align: top;\n",
       "    }\n",
       "\n",
       "    .dataframe thead th {\n",
       "        text-align: right;\n",
       "    }\n",
       "</style>\n",
       "<table border=\"1\" class=\"dataframe\">\n",
       "  <thead>\n",
       "    <tr style=\"text-align: right;\">\n",
       "      <th></th>\n",
       "      <th>Age</th>\n",
       "      <th>RoomService</th>\n",
       "      <th>FoodCourt</th>\n",
       "      <th>ShoppingMall</th>\n",
       "      <th>Spa</th>\n",
       "      <th>VRDeck</th>\n",
       "    </tr>\n",
       "  </thead>\n",
       "  <tbody>\n",
       "    <tr>\n",
       "      <th>count</th>\n",
       "      <td>8514.000000</td>\n",
       "      <td>8512.000000</td>\n",
       "      <td>8510.000000</td>\n",
       "      <td>8485.000000</td>\n",
       "      <td>8510.000000</td>\n",
       "      <td>8505.000000</td>\n",
       "    </tr>\n",
       "    <tr>\n",
       "      <th>mean</th>\n",
       "      <td>28.827930</td>\n",
       "      <td>224.687617</td>\n",
       "      <td>458.077203</td>\n",
       "      <td>173.729169</td>\n",
       "      <td>311.138778</td>\n",
       "      <td>304.854791</td>\n",
       "    </tr>\n",
       "    <tr>\n",
       "      <th>std</th>\n",
       "      <td>14.489021</td>\n",
       "      <td>666.717663</td>\n",
       "      <td>1611.489240</td>\n",
       "      <td>604.696458</td>\n",
       "      <td>1136.705535</td>\n",
       "      <td>1145.717189</td>\n",
       "    </tr>\n",
       "    <tr>\n",
       "      <th>min</th>\n",
       "      <td>0.000000</td>\n",
       "      <td>0.000000</td>\n",
       "      <td>0.000000</td>\n",
       "      <td>0.000000</td>\n",
       "      <td>0.000000</td>\n",
       "      <td>0.000000</td>\n",
       "    </tr>\n",
       "    <tr>\n",
       "      <th>25%</th>\n",
       "      <td>19.000000</td>\n",
       "      <td>0.000000</td>\n",
       "      <td>0.000000</td>\n",
       "      <td>0.000000</td>\n",
       "      <td>0.000000</td>\n",
       "      <td>0.000000</td>\n",
       "    </tr>\n",
       "    <tr>\n",
       "      <th>50%</th>\n",
       "      <td>27.000000</td>\n",
       "      <td>0.000000</td>\n",
       "      <td>0.000000</td>\n",
       "      <td>0.000000</td>\n",
       "      <td>0.000000</td>\n",
       "      <td>0.000000</td>\n",
       "    </tr>\n",
       "    <tr>\n",
       "      <th>75%</th>\n",
       "      <td>38.000000</td>\n",
       "      <td>47.000000</td>\n",
       "      <td>76.000000</td>\n",
       "      <td>27.000000</td>\n",
       "      <td>59.000000</td>\n",
       "      <td>46.000000</td>\n",
       "    </tr>\n",
       "    <tr>\n",
       "      <th>max</th>\n",
       "      <td>79.000000</td>\n",
       "      <td>14327.000000</td>\n",
       "      <td>29813.000000</td>\n",
       "      <td>23492.000000</td>\n",
       "      <td>22408.000000</td>\n",
       "      <td>24133.000000</td>\n",
       "    </tr>\n",
       "  </tbody>\n",
       "</table>\n",
       "</div>"
      ],
      "text/plain": [
       "               Age   RoomService     FoodCourt  ShoppingMall           Spa  \\\n",
       "count  8514.000000   8512.000000   8510.000000   8485.000000   8510.000000   \n",
       "mean     28.827930    224.687617    458.077203    173.729169    311.138778   \n",
       "std      14.489021    666.717663   1611.489240    604.696458   1136.705535   \n",
       "min       0.000000      0.000000      0.000000      0.000000      0.000000   \n",
       "25%      19.000000      0.000000      0.000000      0.000000      0.000000   \n",
       "50%      27.000000      0.000000      0.000000      0.000000      0.000000   \n",
       "75%      38.000000     47.000000     76.000000     27.000000     59.000000   \n",
       "max      79.000000  14327.000000  29813.000000  23492.000000  22408.000000   \n",
       "\n",
       "             VRDeck  \n",
       "count   8505.000000  \n",
       "mean     304.854791  \n",
       "std     1145.717189  \n",
       "min        0.000000  \n",
       "25%        0.000000  \n",
       "50%        0.000000  \n",
       "75%       46.000000  \n",
       "max    24133.000000  "
      ]
     },
     "execution_count": 11,
     "metadata": {},
     "output_type": "execute_result"
    }
   ],
   "source": [
    "train.describe()"
   ]
  },
  {
   "cell_type": "markdown",
   "id": "ea22853c",
   "metadata": {
    "papermill": {
     "duration": 0.008553,
     "end_time": "2022-08-06T14:57:18.454443",
     "exception": false,
     "start_time": "2022-08-06T14:57:18.445890",
     "status": "completed"
    },
    "tags": []
   },
   "source": [
    "### Continuous Feature Correlation with Transported"
   ]
  },
  {
   "cell_type": "code",
   "execution_count": 12,
   "id": "5b50817b",
   "metadata": {
    "execution": {
     "iopub.execute_input": "2022-08-06T14:57:18.473411Z",
     "iopub.status.busy": "2022-08-06T14:57:18.473010Z",
     "iopub.status.idle": "2022-08-06T14:57:18.696836Z",
     "shell.execute_reply": "2022-08-06T14:57:18.695412Z"
    },
    "papermill": {
     "duration": 0.237249,
     "end_time": "2022-08-06T14:57:18.700308",
     "exception": false,
     "start_time": "2022-08-06T14:57:18.463059",
     "status": "completed"
    },
    "tags": []
   },
   "outputs": [
    {
     "name": "stdout",
     "output_type": "stream",
     "text": [
      "Age            -0.075026\n",
      "RoomService    -0.244611\n",
      "FoodCourt       0.046566\n",
      "ShoppingMall    0.010141\n",
      "Spa            -0.221131\n",
      "VRDeck         -0.207075\n",
      "Transported     1.000000\n",
      "Name: Transported, dtype: float64\n"
     ]
    },
    {
     "data": {
      "text/plain": [
       "<AxesSubplot:>"
      ]
     },
     "execution_count": 12,
     "metadata": {},
     "output_type": "execute_result"
    },
    {
     "data": {
      "image/png": "[encoded data removed]",
      "text/plain": [
       "<Figure size 432x288 with 1 Axes>"
      ]
     },
     "metadata": {
      "needs_background": "light"
     },
     "output_type": "display_data"
    }
   ],
   "source": [
    "print(train.corr()['Transported'])\n",
    "\n",
    "train.corr()['Transported'].drop('Transported').sort_values(ascending = False).plot(kind = 'bar')"
   ]
  },
  {
   "cell_type": "markdown",
   "id": "e7af42fe",
   "metadata": {
    "papermill": {
     "duration": 0.008884,
     "end_time": "2022-08-06T14:57:18.719452",
     "exception": false,
     "start_time": "2022-08-06T14:57:18.710568",
     "status": "completed"
    },
    "tags": []
   },
   "source": [
    "### Age Distribution\n",
    "\n",
    "We can see that:\n",
    "\n",
    "* Most Passengers are in the range from 13 to 35 years old\n",
    "* Younger Passengers  in the range from 0 - 18 have a higher probability to get transported than older passengers \n"
   ]
  },
  {
   "cell_type": "code",
   "execution_count": 13,
   "id": "c429e8cd",
   "metadata": {
    "execution": {
     "iopub.execute_input": "2022-08-06T14:57:18.739515Z",
     "iopub.status.busy": "2022-08-06T14:57:18.739120Z",
     "iopub.status.idle": "2022-08-06T14:57:19.469625Z",
     "shell.execute_reply": "2022-08-06T14:57:19.468617Z"
    },
    "papermill": {
     "duration": 0.743442,
     "end_time": "2022-08-06T14:57:19.472285",
     "exception": false,
     "start_time": "2022-08-06T14:57:18.728843",
     "status": "completed"
    },
    "tags": []
   },
   "outputs": [
    {
     "data": {
      "text/plain": [
       "<AxesSubplot:xlabel='Age', ylabel='Count'>"
      ]
     },
     "execution_count": 13,
     "metadata": {},
     "output_type": "execute_result"
    },
    {
     "data": {
      "image/png": "[encoded data removed]",
      "text/plain": [
       "<Figure size 864x360 with 2 Axes>"
      ]
     },
     "metadata": {
      "needs_background": "light"
     },
     "output_type": "display_data"
    }
   ],
   "source": [
    "fig, axs = plt.subplots(ncols = 2, nrows = 1, figsize = (12,5))\n",
    "\n",
    "sns.histplot(x = \"Age\", data = train, kde = True, ax = axs[0])\n",
    "sns.histplot(x = \"Age\", data = train, hue = \"Transported\", kde = True, ax = axs[1])"
   ]
  },
  {
   "cell_type": "markdown",
   "id": "1d47f169",
   "metadata": {
    "papermill": {
     "duration": 0.009556,
     "end_time": "2022-08-06T14:57:19.492186",
     "exception": false,
     "start_time": "2022-08-06T14:57:19.482630",
     "status": "completed"
    },
    "tags": []
   },
   "source": [
    "### VRDeck, Spa, Room service and Shopping Mall\n",
    "\n",
    "We'll now have a closer look at the Spaceship Titanic's luxury amenities and how their relationship to the Transported feature looks like.\n",
    "\n",
    "* Most of the passengers used very little to none luxury amenities\n",
    "* Except for the shooping mall users, the passengers who used none to very little luxury amenities, have a higher chance to be rescued. "
   ]
  },
  {
   "cell_type": "code",
   "execution_count": 14,
   "id": "193967d5",
   "metadata": {
    "execution": {
     "iopub.execute_input": "2022-08-06T14:57:19.513808Z",
     "iopub.status.busy": "2022-08-06T14:57:19.513374Z",
     "iopub.status.idle": "2022-08-06T14:57:20.711631Z",
     "shell.execute_reply": "2022-08-06T14:57:20.710493Z"
    },
    "papermill": {
     "duration": 1.212057,
     "end_time": "2022-08-06T14:57:20.714137",
     "exception": false,
     "start_time": "2022-08-06T14:57:19.502080",
     "status": "completed"
    },
    "tags": []
   },
   "outputs": [
    {
     "data": {
      "image/png": "[encoded data removed]",
      "text/plain": [
       "<Figure size 864x360 with 4 Axes>"
      ]
     },
     "metadata": {
      "needs_background": "light"
     },
     "output_type": "display_data"
    }
   ],
   "source": [
    "lux_am = ['VRDeck', 'Spa', 'RoomService', 'ShoppingMall']\n",
    "\n",
    "fig, axs = plt.subplots(ncols = len(lux_am), nrows = 1, sharey='row', figsize = (12,5))\n",
    "fig.tight_layout()\n",
    "\n",
    "\n",
    "for i, feat in enumerate(lux_am):\n",
    "    ax = sns.histplot(data = train, x = feat, bins = 30,hue = 'Transported', ax = axs[i])\n",
    "    ax.set_title(feat)"
   ]
  },
  {
   "cell_type": "code",
   "execution_count": 15,
   "id": "1bd63791",
   "metadata": {
    "execution": {
     "iopub.execute_input": "2022-08-06T14:57:20.736951Z",
     "iopub.status.busy": "2022-08-06T14:57:20.736554Z",
     "iopub.status.idle": "2022-08-06T14:57:22.031803Z",
     "shell.execute_reply": "2022-08-06T14:57:22.030926Z"
    },
    "papermill": {
     "duration": 1.30948,
     "end_time": "2022-08-06T14:57:22.034257",
     "exception": false,
     "start_time": "2022-08-06T14:57:20.724777",
     "status": "completed"
    },
    "tags": []
   },
   "outputs": [
    {
     "data": {
      "image/png": "[encoded data removed]",
      "text/plain": [
       "<Figure size 864x360 with 4 Axes>"
      ]
     },
     "metadata": {
      "needs_background": "light"
     },
     "output_type": "display_data"
    }
   ],
   "source": [
    "# zooming in to the guests who used more of the luxury amenities\n",
    "fig, axs = plt.subplots(ncols = len(lux_am), nrows = 1, sharey='row', figsize = (12,5))\n",
    "fig.tight_layout()\n",
    "\n",
    "\n",
    "for i, feat in enumerate(lux_am):\n",
    "    if i == 0:\n",
    "        sns.histplot(data = train, x = feat, bins = 30,hue = 'Transported', ax = axs[i])\n",
    "        plt.ylim(0, 400)\n",
    "        ax.set_title(feat)\n",
    "    else:\n",
    "        sns.histplot(data = train, x = feat, bins = 30,hue = 'Transported', ax = axs[i])\n",
    "        ax.set_title(feat)\n",
    "        handles, labels = ax.get_legend_handles_labels()\n",
    "\n",
    "        "
   ]
  },
  {
   "cell_type": "markdown",
   "id": "e8184b07",
   "metadata": {
    "papermill": {
     "duration": 0.011402,
     "end_time": "2022-08-06T14:57:22.056887",
     "exception": false,
     "start_time": "2022-08-06T14:57:22.045485",
     "status": "completed"
    },
    "tags": []
   },
   "source": [
    "### Next, we take a look at the distribution of the categorial features"
   ]
  },
  {
   "cell_type": "code",
   "execution_count": 16,
   "id": "f01165b8",
   "metadata": {
    "execution": {
     "iopub.execute_input": "2022-08-06T14:57:22.080711Z",
     "iopub.status.busy": "2022-08-06T14:57:22.080057Z",
     "iopub.status.idle": "2022-08-06T14:57:22.100941Z",
     "shell.execute_reply": "2022-08-06T14:57:22.099751Z"
    },
    "papermill": {
     "duration": 0.035636,
     "end_time": "2022-08-06T14:57:22.103456",
     "exception": false,
     "start_time": "2022-08-06T14:57:22.067820",
     "status": "completed"
    },
    "tags": []
   },
   "outputs": [
    {
     "data": {
      "text/html": [
       "<div>\n",
       "<style scoped>\n",
       "    .dataframe tbody tr th:only-of-type {\n",
       "        vertical-align: middle;\n",
       "    }\n",
       "\n",
       "    .dataframe tbody tr th {\n",
       "        vertical-align: top;\n",
       "    }\n",
       "\n",
       "    .dataframe thead th {\n",
       "        text-align: right;\n",
       "    }\n",
       "</style>\n",
       "<table border=\"1\" class=\"dataframe\">\n",
       "  <thead>\n",
       "    <tr style=\"text-align: right;\">\n",
       "      <th></th>\n",
       "      <th>PassengerId</th>\n",
       "      <th>HomePlanet</th>\n",
       "      <th>CryoSleep</th>\n",
       "      <th>Cabin</th>\n",
       "      <th>Destination</th>\n",
       "      <th>Age</th>\n",
       "      <th>VIP</th>\n",
       "      <th>RoomService</th>\n",
       "      <th>FoodCourt</th>\n",
       "      <th>ShoppingMall</th>\n",
       "      <th>Spa</th>\n",
       "      <th>VRDeck</th>\n",
       "      <th>Name</th>\n",
       "      <th>Transported</th>\n",
       "    </tr>\n",
       "  </thead>\n",
       "  <tbody>\n",
       "    <tr>\n",
       "      <th>0</th>\n",
       "      <td>0001_01</td>\n",
       "      <td>Europa</td>\n",
       "      <td>False</td>\n",
       "      <td>B/0/P</td>\n",
       "      <td>TRAPPIST-1e</td>\n",
       "      <td>39.0</td>\n",
       "      <td>False</td>\n",
       "      <td>0.0</td>\n",
       "      <td>0.0</td>\n",
       "      <td>0.0</td>\n",
       "      <td>0.0</td>\n",
       "      <td>0.0</td>\n",
       "      <td>Maham Ofracculy</td>\n",
       "      <td>False</td>\n",
       "    </tr>\n",
       "    <tr>\n",
       "      <th>1</th>\n",
       "      <td>0002_01</td>\n",
       "      <td>Earth</td>\n",
       "      <td>False</td>\n",
       "      <td>F/0/S</td>\n",
       "      <td>TRAPPIST-1e</td>\n",
       "      <td>24.0</td>\n",
       "      <td>False</td>\n",
       "      <td>109.0</td>\n",
       "      <td>9.0</td>\n",
       "      <td>25.0</td>\n",
       "      <td>549.0</td>\n",
       "      <td>44.0</td>\n",
       "      <td>Juanna Vines</td>\n",
       "      <td>True</td>\n",
       "    </tr>\n",
       "    <tr>\n",
       "      <th>2</th>\n",
       "      <td>0003_01</td>\n",
       "      <td>Europa</td>\n",
       "      <td>False</td>\n",
       "      <td>A/0/S</td>\n",
       "      <td>TRAPPIST-1e</td>\n",
       "      <td>58.0</td>\n",
       "      <td>True</td>\n",
       "      <td>43.0</td>\n",
       "      <td>3576.0</td>\n",
       "      <td>0.0</td>\n",
       "      <td>6715.0</td>\n",
       "      <td>49.0</td>\n",
       "      <td>Altark Susent</td>\n",
       "      <td>False</td>\n",
       "    </tr>\n",
       "    <tr>\n",
       "      <th>3</th>\n",
       "      <td>0003_02</td>\n",
       "      <td>Europa</td>\n",
       "      <td>False</td>\n",
       "      <td>A/0/S</td>\n",
       "      <td>TRAPPIST-1e</td>\n",
       "      <td>33.0</td>\n",
       "      <td>False</td>\n",
       "      <td>0.0</td>\n",
       "      <td>1283.0</td>\n",
       "      <td>371.0</td>\n",
       "      <td>3329.0</td>\n",
       "      <td>193.0</td>\n",
       "      <td>Solam Susent</td>\n",
       "      <td>False</td>\n",
       "    </tr>\n",
       "    <tr>\n",
       "      <th>4</th>\n",
       "      <td>0004_01</td>\n",
       "      <td>Earth</td>\n",
       "      <td>False</td>\n",
       "      <td>F/1/S</td>\n",
       "      <td>TRAPPIST-1e</td>\n",
       "      <td>16.0</td>\n",
       "      <td>False</td>\n",
       "      <td>303.0</td>\n",
       "      <td>70.0</td>\n",
       "      <td>151.0</td>\n",
       "      <td>565.0</td>\n",
       "      <td>2.0</td>\n",
       "      <td>Willy Santantines</td>\n",
       "      <td>True</td>\n",
       "    </tr>\n",
       "  </tbody>\n",
       "</table>\n",
       "</div>"
      ],
      "text/plain": [
       "  PassengerId HomePlanet CryoSleep  Cabin  Destination   Age    VIP  \\\n",
       "0     0001_01     Europa     False  B/0/P  TRAPPIST-1e  39.0  False   \n",
       "1     0002_01      Earth     False  F/0/S  TRAPPIST-1e  24.0  False   \n",
       "2     0003_01     Europa     False  A/0/S  TRAPPIST-1e  58.0   True   \n",
       "3     0003_02     Europa     False  A/0/S  TRAPPIST-1e  33.0  False   \n",
       "4     0004_01      Earth     False  F/1/S  TRAPPIST-1e  16.0  False   \n",
       "\n",
       "   RoomService  FoodCourt  ShoppingMall     Spa  VRDeck               Name  \\\n",
       "0          0.0        0.0           0.0     0.0     0.0    Maham Ofracculy   \n",
       "1        109.0        9.0          25.0   549.0    44.0       Juanna Vines   \n",
       "2         43.0     3576.0           0.0  6715.0    49.0      Altark Susent   \n",
       "3          0.0     1283.0         371.0  3329.0   193.0       Solam Susent   \n",
       "4        303.0       70.0         151.0   565.0     2.0  Willy Santantines   \n",
       "\n",
       "   Transported  \n",
       "0        False  \n",
       "1         True  \n",
       "2        False  \n",
       "3        False  \n",
       "4         True  "
      ]
     },
     "execution_count": 16,
     "metadata": {},
     "output_type": "execute_result"
    }
   ],
   "source": [
    "train.head()"
   ]
  },
  {
   "cell_type": "code",
   "execution_count": 17,
   "id": "5f0b8a04",
   "metadata": {
    "execution": {
     "iopub.execute_input": "2022-08-06T14:57:22.127764Z",
     "iopub.status.busy": "2022-08-06T14:57:22.127310Z",
     "iopub.status.idle": "2022-08-06T14:57:22.943822Z",
     "shell.execute_reply": "2022-08-06T14:57:22.942573Z"
    },
    "papermill": {
     "duration": 0.83194,
     "end_time": "2022-08-06T14:57:22.946556",
     "exception": false,
     "start_time": "2022-08-06T14:57:22.114616",
     "status": "completed"
    },
    "tags": []
   },
   "outputs": [
    {
     "data": {
      "image/png": "[encoded data removed]",
      "text/plain": [
       "<Figure size 720x1152 with 4 Axes>"
      ]
     },
     "metadata": {
      "needs_background": "light"
     },
     "output_type": "display_data"
    }
   ],
   "source": [
    "cat_feats = ['CryoSleep', 'VIP', 'HomePlanet', 'Destination']\n",
    "\n",
    "fig.tight_layout()\n",
    "\n",
    "left  = 0.125  # the left side of the subplots of the figure\n",
    "right = 0.9    # the right side of the subplots of the figure\n",
    "bottom = 0.1   # the bottom of the subplots of the figure\n",
    "top = 1        # the top of the subplots of the figure\n",
    "wspace = 0.3   # the amount of width reserved for blank space between subplots\n",
    "hspace = 0.4   # the amount of height reserved for white space between subplots\n",
    "\n",
    "\n",
    "\n",
    "fig=plt.figure(figsize=(10,16))\n",
    "for i, var_name in enumerate(cat_feats):\n",
    "    ax=fig.add_subplot(4,1,i+1)\n",
    "    sns.countplot(data=train, x=var_name, axes=ax, hue='Transported')\n",
    "    ax.set_title(var_name)\n",
    "    plt.subplots_adjust(left, bottom, right, top, wspace, hspace)"
   ]
  },
  {
   "cell_type": "code",
   "execution_count": null,
   "id": "ec441220",
   "metadata": {
    "papermill": {
     "duration": 0.011008,
     "end_time": "2022-08-06T14:57:22.969133",
     "exception": false,
     "start_time": "2022-08-06T14:57:22.958125",
     "status": "completed"
    },
    "tags": []
   },
   "outputs": [],
   "source": []
  }
 ],
 "metadata": {
  "kernelspec": {
   "display_name": "Python 3",
   "language": "python",
   "name": "python3"
  },
  "language_info": {
   "codemirror_mode": {
    "name": "ipython",
    "version": 3
   },
   "file_extension": ".py",
   "mimetype": "text/x-python",
   "name": "python",
   "nbconvert_exporter": "python",
   "pygments_lexer": "ipython3",
   "version": "3.7.12"
  },
  "papermill": {
   "default_parameters": {},
   "duration": 16.712783,
   "end_time": "2022-08-06T14:57:23.802854",
   "environment_variables": {},
   "exception": null,
   "input_path": "__notebook__.ipynb",
   "output_path": "__notebook__.ipynb",
   "parameters": {},
   "start_time": "2022-08-06T14:57:07.090071",
   "version": "2.3.4"
  }
 },
 "nbformat": 4,
 "nbformat_minor": 5
}
