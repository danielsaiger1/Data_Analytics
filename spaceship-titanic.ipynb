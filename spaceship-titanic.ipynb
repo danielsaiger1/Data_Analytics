{
 "cells": [
  {
   "cell_type": "code",
   "execution_count": 1,
   "id": "048ef5c3",
   "metadata": {
    "_cell_guid": "b1076dfc-b9ad-4769-8c92-a6c4dae69d19",
    "_uuid": "8f2839f25d086af736a60e9eeb907d3b93b6e0e5",
    "execution": {
     "iopub.execute_input": "2022-08-10T14:41:25.215005Z",
     "iopub.status.busy": "2022-08-10T14:41:25.213955Z",
     "iopub.status.idle": "2022-08-10T14:41:25.233003Z",
     "shell.execute_reply": "2022-08-10T14:41:25.231994Z"
    },
    "papermill": {
     "duration": 0.037616,
     "end_time": "2022-08-10T14:41:25.236454",
     "exception": false,
     "start_time": "2022-08-10T14:41:25.198838",
     "status": "completed"
    },
    "tags": []
   },
   "outputs": [
    {
     "name": "stdout",
     "output_type": "stream",
     "text": [
      "/kaggle/input/spaceship-titanic/sample_submission.csv\n",
      "/kaggle/input/spaceship-titanic/train.csv\n",
      "/kaggle/input/spaceship-titanic/test.csv\n"
     ]
    }
   ],
   "source": [
    "# This Python 3 environment comes with many helpful analytics libraries installed\n",
    "# It is defined by the kaggle/python Docker image: https://github.com/kaggle/docker-python\n",
    "# For example, here's several helpful packages to load\n",
    "\n",
    "import numpy as np # linear algebra\n",
    "import pandas as pd # data processing, CSV file I/O (e.g. pd.read_csv)\n",
    "\n",
    "# Input data files are available in the read-only \"../input/\" directory\n",
    "# For example, running this (by clicking run or pressing Shift+Enter) will list all files under the input directory\n",
    "\n",
    "import os\n",
    "for dirname, _, filenames in os.walk('/kaggle/input'):\n",
    "    for filename in filenames:\n",
    "        print(os.path.join(dirname, filename))\n",
    "\n",
    "# You can write up to 20GB to the current directory (/kaggle/working/) that gets preserved as output when you create a version using \"Save & Run All\" \n",
    "# You can also write temporary files to /kaggle/temp/, but they won't be saved outside of the current session"
   ]
  },
  {
   "cell_type": "markdown",
   "id": "1f8c314f",
   "metadata": {
    "papermill": {
     "duration": 0.009809,
     "end_time": "2022-08-10T14:41:25.257171",
     "exception": false,
     "start_time": "2022-08-10T14:41:25.247362",
     "status": "completed"
    },
    "tags": []
   },
   "source": [
    "## Introduction\n",
    "\n",
    "In this Notebook we will use binary classification algoithms to solve the Spaceship Titanic Challenge. \n",
    "\n",
    "Our goal is to predict wether a passenger is transported to an other dimension after the crash of the space titanic or not. \n",
    "\n"
   ]
  },
  {
   "cell_type": "markdown",
   "id": "f2d651fe",
   "metadata": {
    "papermill": {
     "duration": 0.009678,
     "end_time": "2022-08-10T14:41:25.277037",
     "exception": false,
     "start_time": "2022-08-10T14:41:25.267359",
     "status": "completed"
    },
    "tags": []
   },
   "source": [
    "![spaceship](https://qph.cf2.quoracdn.net/main-qimg-c8dabaf5c8e26b056f1eda7728c1d002-lq)"
   ]
  },
  {
   "cell_type": "markdown",
   "id": "ab35a6ee",
   "metadata": {
    "papermill": {
     "duration": 0.009716,
     "end_time": "2022-08-10T14:41:25.296826",
     "exception": false,
     "start_time": "2022-08-10T14:41:25.287110",
     "status": "completed"
    },
    "tags": []
   },
   "source": [
    "## The Dataset\n",
    "\n",
    "* **Train Data:**\n",
    "    * **PassengerId** - A unique Id for each passenger. Each Id takes the form gggg_pp where gggg indicates a group the passenger is travelling with and pp is their number within the group. People in a group are often family members, but not always.\n",
    "    * **HomePlanet** - The planet the passenger departed from, typically their planet of permanent residence.\n",
    "    * **CryoSleep** - Indicates whether the passenger elected to be put into suspended animation for the duration of the voyage. Passengers in cryosleep are confined to their cabins.\n",
    "    * **Cabin** - The cabin number where the passenger is staying. Takes the form deck/num/side, where side can be either P for Port or S for Starboard.\n",
    "    * **Destination** - The planet the passenger will be debarking to.\n",
    "    * **Age** - The age of the passenger.\n",
    "    * **VIP** - Whether the passenger has paid for special VIP service during the voyage.\n",
    "    * **RoomService, FoodCourt, ShoppingMall, Spa, VRDeck** - Amount the passenger has billed at each of the Spaceship Titanic's many luxury amenities.\n",
    "    * **Name** - The first and last names of the passenger.\n",
    "    * **Transported **- Whether the passenger was transported to another dimension. This is the target, the column we are trying to predict.\n",
    "    \n",
    "    \n",
    "* **Test Data:**\n",
    "    * Personal records for the remaining one-third (~4300) of the passengers, to be used as test data."
   ]
  },
  {
   "cell_type": "markdown",
   "id": "8aa499c7",
   "metadata": {
    "papermill": {
     "duration": 0.010079,
     "end_time": "2022-08-10T14:41:25.318042",
     "exception": false,
     "start_time": "2022-08-10T14:41:25.307963",
     "status": "completed"
    },
    "tags": []
   },
   "source": [
    "## 1. Imports"
   ]
  },
  {
   "cell_type": "code",
   "execution_count": 2,
   "id": "1bf7fa3d",
   "metadata": {
    "execution": {
     "iopub.execute_input": "2022-08-10T14:41:25.340456Z",
     "iopub.status.busy": "2022-08-10T14:41:25.340006Z",
     "iopub.status.idle": "2022-08-10T14:41:26.531702Z",
     "shell.execute_reply": "2022-08-10T14:41:26.530247Z"
    },
    "papermill": {
     "duration": 1.206807,
     "end_time": "2022-08-10T14:41:26.535110",
     "exception": false,
     "start_time": "2022-08-10T14:41:25.328303",
     "status": "completed"
    },
    "tags": []
   },
   "outputs": [],
   "source": [
    "import pandas as pd\n",
    "import numpy as np\n",
    "import matplotlib.pyplot as plt \n",
    "import seaborn as sns\n",
    "%matplotlib inline "
   ]
  },
  {
   "cell_type": "markdown",
   "id": "94b185ed",
   "metadata": {
    "papermill": {
     "duration": 0.010039,
     "end_time": "2022-08-10T14:41:26.555601",
     "exception": false,
     "start_time": "2022-08-10T14:41:26.545562",
     "status": "completed"
    },
    "tags": []
   },
   "source": [
    "## 2. Loading the Data "
   ]
  },
  {
   "cell_type": "code",
   "execution_count": 3,
   "id": "ead1ebfd",
   "metadata": {
    "execution": {
     "iopub.execute_input": "2022-08-10T14:41:26.578516Z",
     "iopub.status.busy": "2022-08-10T14:41:26.577597Z",
     "iopub.status.idle": "2022-08-10T14:41:26.665819Z",
     "shell.execute_reply": "2022-08-10T14:41:26.664500Z"
    },
    "papermill": {
     "duration": 0.105203,
     "end_time": "2022-08-10T14:41:26.670940",
     "exception": false,
     "start_time": "2022-08-10T14:41:26.565737",
     "status": "completed"
    },
    "tags": []
   },
   "outputs": [
    {
     "name": "stdout",
     "output_type": "stream",
     "text": [
      "The Training Set has: 8693 rows and 14 columns\n",
      "The Test Set has: 4277 rows and 13 columns\n"
     ]
    }
   ],
   "source": [
    "train = pd.read_csv('../input/spaceship-titanic/train.csv')\n",
    "test = pd.read_csv('../input/spaceship-titanic/test.csv')\n",
    "\n",
    "print('The Training Set has:',train.shape[0] ,'rows and' ,train.shape[1] ,'columns')\n",
    "print('The Test Set has:',test.shape[0],'rows and',test.shape[1],'columns')"
   ]
  },
  {
   "cell_type": "code",
   "execution_count": 4,
   "id": "eb2ca387",
   "metadata": {
    "execution": {
     "iopub.execute_input": "2022-08-10T14:41:26.698696Z",
     "iopub.status.busy": "2022-08-10T14:41:26.698258Z",
     "iopub.status.idle": "2022-08-10T14:41:26.739718Z",
     "shell.execute_reply": "2022-08-10T14:41:26.738298Z"
    },
    "papermill": {
     "duration": 0.058863,
     "end_time": "2022-08-10T14:41:26.743658",
     "exception": false,
     "start_time": "2022-08-10T14:41:26.684795",
     "status": "completed"
    },
    "tags": []
   },
   "outputs": [
    {
     "data": {
      "text/html": [
       "<div>\n",
       "<style scoped>\n",
       "    .dataframe tbody tr th:only-of-type {\n",
       "        vertical-align: middle;\n",
       "    }\n",
       "\n",
       "    .dataframe tbody tr th {\n",
       "        vertical-align: top;\n",
       "    }\n",
       "\n",
       "    .dataframe thead th {\n",
       "        text-align: right;\n",
       "    }\n",
       "</style>\n",
       "<table border=\"1\" class=\"dataframe\">\n",
       "  <thead>\n",
       "    <tr style=\"text-align: right;\">\n",
       "      <th></th>\n",
       "      <th>PassengerId</th>\n",
       "      <th>HomePlanet</th>\n",
       "      <th>CryoSleep</th>\n",
       "      <th>Cabin</th>\n",
       "      <th>Destination</th>\n",
       "      <th>Age</th>\n",
       "      <th>VIP</th>\n",
       "      <th>RoomService</th>\n",
       "      <th>FoodCourt</th>\n",
       "      <th>ShoppingMall</th>\n",
       "      <th>Spa</th>\n",
       "      <th>VRDeck</th>\n",
       "      <th>Name</th>\n",
       "      <th>Transported</th>\n",
       "    </tr>\n",
       "  </thead>\n",
       "  <tbody>\n",
       "    <tr>\n",
       "      <th>0</th>\n",
       "      <td>0001_01</td>\n",
       "      <td>Europa</td>\n",
       "      <td>False</td>\n",
       "      <td>B/0/P</td>\n",
       "      <td>TRAPPIST-1e</td>\n",
       "      <td>39.0</td>\n",
       "      <td>False</td>\n",
       "      <td>0.0</td>\n",
       "      <td>0.0</td>\n",
       "      <td>0.0</td>\n",
       "      <td>0.0</td>\n",
       "      <td>0.0</td>\n",
       "      <td>Maham Ofracculy</td>\n",
       "      <td>False</td>\n",
       "    </tr>\n",
       "    <tr>\n",
       "      <th>1</th>\n",
       "      <td>0002_01</td>\n",
       "      <td>Earth</td>\n",
       "      <td>False</td>\n",
       "      <td>F/0/S</td>\n",
       "      <td>TRAPPIST-1e</td>\n",
       "      <td>24.0</td>\n",
       "      <td>False</td>\n",
       "      <td>109.0</td>\n",
       "      <td>9.0</td>\n",
       "      <td>25.0</td>\n",
       "      <td>549.0</td>\n",
       "      <td>44.0</td>\n",
       "      <td>Juanna Vines</td>\n",
       "      <td>True</td>\n",
       "    </tr>\n",
       "    <tr>\n",
       "      <th>2</th>\n",
       "      <td>0003_01</td>\n",
       "      <td>Europa</td>\n",
       "      <td>False</td>\n",
       "      <td>A/0/S</td>\n",
       "      <td>TRAPPIST-1e</td>\n",
       "      <td>58.0</td>\n",
       "      <td>True</td>\n",
       "      <td>43.0</td>\n",
       "      <td>3576.0</td>\n",
       "      <td>0.0</td>\n",
       "      <td>6715.0</td>\n",
       "      <td>49.0</td>\n",
       "      <td>Altark Susent</td>\n",
       "      <td>False</td>\n",
       "    </tr>\n",
       "    <tr>\n",
       "      <th>3</th>\n",
       "      <td>0003_02</td>\n",
       "      <td>Europa</td>\n",
       "      <td>False</td>\n",
       "      <td>A/0/S</td>\n",
       "      <td>TRAPPIST-1e</td>\n",
       "      <td>33.0</td>\n",
       "      <td>False</td>\n",
       "      <td>0.0</td>\n",
       "      <td>1283.0</td>\n",
       "      <td>371.0</td>\n",
       "      <td>3329.0</td>\n",
       "      <td>193.0</td>\n",
       "      <td>Solam Susent</td>\n",
       "      <td>False</td>\n",
       "    </tr>\n",
       "    <tr>\n",
       "      <th>4</th>\n",
       "      <td>0004_01</td>\n",
       "      <td>Earth</td>\n",
       "      <td>False</td>\n",
       "      <td>F/1/S</td>\n",
       "      <td>TRAPPIST-1e</td>\n",
       "      <td>16.0</td>\n",
       "      <td>False</td>\n",
       "      <td>303.0</td>\n",
       "      <td>70.0</td>\n",
       "      <td>151.0</td>\n",
       "      <td>565.0</td>\n",
       "      <td>2.0</td>\n",
       "      <td>Willy Santantines</td>\n",
       "      <td>True</td>\n",
       "    </tr>\n",
       "  </tbody>\n",
       "</table>\n",
       "</div>"
      ],
      "text/plain": [
       "  PassengerId HomePlanet CryoSleep  Cabin  Destination   Age    VIP  \\\n",
       "0     0001_01     Europa     False  B/0/P  TRAPPIST-1e  39.0  False   \n",
       "1     0002_01      Earth     False  F/0/S  TRAPPIST-1e  24.0  False   \n",
       "2     0003_01     Europa     False  A/0/S  TRAPPIST-1e  58.0   True   \n",
       "3     0003_02     Europa     False  A/0/S  TRAPPIST-1e  33.0  False   \n",
       "4     0004_01      Earth     False  F/1/S  TRAPPIST-1e  16.0  False   \n",
       "\n",
       "   RoomService  FoodCourt  ShoppingMall     Spa  VRDeck               Name  \\\n",
       "0          0.0        0.0           0.0     0.0     0.0    Maham Ofracculy   \n",
       "1        109.0        9.0          25.0   549.0    44.0       Juanna Vines   \n",
       "2         43.0     3576.0           0.0  6715.0    49.0      Altark Susent   \n",
       "3          0.0     1283.0         371.0  3329.0   193.0       Solam Susent   \n",
       "4        303.0       70.0         151.0   565.0     2.0  Willy Santantines   \n",
       "\n",
       "   Transported  \n",
       "0        False  \n",
       "1         True  \n",
       "2        False  \n",
       "3        False  \n",
       "4         True  "
      ]
     },
     "execution_count": 4,
     "metadata": {},
     "output_type": "execute_result"
    }
   ],
   "source": [
    "train.head()"
   ]
  },
  {
   "cell_type": "markdown",
   "id": "b31e0e97",
   "metadata": {
    "papermill": {
     "duration": 0.016014,
     "end_time": "2022-08-10T14:41:26.776740",
     "exception": false,
     "start_time": "2022-08-10T14:41:26.760726",
     "status": "completed"
    },
    "tags": []
   },
   "source": [
    "## 3. Checking the state of the Data"
   ]
  },
  {
   "cell_type": "markdown",
   "id": "cb4146ea",
   "metadata": {
    "papermill": {
     "duration": 0.010428,
     "end_time": "2022-08-10T14:41:26.797764",
     "exception": false,
     "start_time": "2022-08-10T14:41:26.787336",
     "status": "completed"
    },
    "tags": []
   },
   "source": [
    "### Missing values"
   ]
  },
  {
   "cell_type": "code",
   "execution_count": 5,
   "id": "d853db29",
   "metadata": {
    "execution": {
     "iopub.execute_input": "2022-08-10T14:41:26.821177Z",
     "iopub.status.busy": "2022-08-10T14:41:26.820429Z",
     "iopub.status.idle": "2022-08-10T14:41:26.836813Z",
     "shell.execute_reply": "2022-08-10T14:41:26.835419Z"
    },
    "papermill": {
     "duration": 0.033012,
     "end_time": "2022-08-10T14:41:26.841370",
     "exception": false,
     "start_time": "2022-08-10T14:41:26.808358",
     "status": "completed"
    },
    "tags": []
   },
   "outputs": [
    {
     "name": "stdout",
     "output_type": "stream",
     "text": [
      "The train dataset has 2324 missing values\n",
      "The test dataset has 1117 missing values\n"
     ]
    }
   ],
   "source": [
    "print('The train dataset has', sum(train.isnull().sum()), 'missing values')\n",
    "print('The test dataset has', sum(test.isnull().sum()), 'missing values')"
   ]
  },
  {
   "cell_type": "markdown",
   "id": "2af88371",
   "metadata": {
    "papermill": {
     "duration": 0.010285,
     "end_time": "2022-08-10T14:41:26.862983",
     "exception": false,
     "start_time": "2022-08-10T14:41:26.852698",
     "status": "completed"
    },
    "tags": []
   },
   "source": [
    "### Distribution of the missing values\n",
    "\n",
    "We can see that every feature except for the Passenger ID contains null values."
   ]
  },
  {
   "cell_type": "code",
   "execution_count": 6,
   "id": "789d6705",
   "metadata": {
    "execution": {
     "iopub.execute_input": "2022-08-10T14:41:26.886252Z",
     "iopub.status.busy": "2022-08-10T14:41:26.885787Z",
     "iopub.status.idle": "2022-08-10T14:41:26.902307Z",
     "shell.execute_reply": "2022-08-10T14:41:26.900721Z"
    },
    "papermill": {
     "duration": 0.032161,
     "end_time": "2022-08-10T14:41:26.905844",
     "exception": false,
     "start_time": "2022-08-10T14:41:26.873683",
     "status": "completed"
    },
    "tags": []
   },
   "outputs": [
    {
     "name": "stdout",
     "output_type": "stream",
     "text": [
      "Training Set:\n",
      "PassengerId       0\n",
      "HomePlanet      201\n",
      "CryoSleep       217\n",
      "Cabin           199\n",
      "Destination     182\n",
      "Age             179\n",
      "VIP             203\n",
      "RoomService     181\n",
      "FoodCourt       183\n",
      "ShoppingMall    208\n",
      "Spa             183\n",
      "VRDeck          188\n",
      "Name            200\n",
      "Transported       0\n",
      "dtype: int64\n",
      "\n",
      "Test Set:\n",
      "PassengerId       0\n",
      "HomePlanet       87\n",
      "CryoSleep        93\n",
      "Cabin           100\n",
      "Destination      92\n",
      "Age              91\n",
      "VIP              93\n",
      "RoomService      82\n",
      "FoodCourt       106\n",
      "ShoppingMall     98\n",
      "Spa             101\n",
      "VRDeck           80\n",
      "Name             94\n",
      "dtype: int64\n"
     ]
    }
   ],
   "source": [
    "print('Training Set:')\n",
    "print(train.isnull().sum())\n",
    "print('')\n",
    "print('Test Set:')\n",
    "print(test.isnull().sum())"
   ]
  },
  {
   "cell_type": "markdown",
   "id": "ad4b36de",
   "metadata": {
    "papermill": {
     "duration": 0.01055,
     "end_time": "2022-08-10T14:41:26.927733",
     "exception": false,
     "start_time": "2022-08-10T14:41:26.917183",
     "status": "completed"
    },
    "tags": []
   },
   "source": [
    "### Unique Values in every column"
   ]
  },
  {
   "cell_type": "code",
   "execution_count": 7,
   "id": "39e76f69",
   "metadata": {
    "execution": {
     "iopub.execute_input": "2022-08-10T14:41:26.952111Z",
     "iopub.status.busy": "2022-08-10T14:41:26.951290Z",
     "iopub.status.idle": "2022-08-10T14:41:26.975106Z",
     "shell.execute_reply": "2022-08-10T14:41:26.974244Z"
    },
    "papermill": {
     "duration": 0.03891,
     "end_time": "2022-08-10T14:41:26.977492",
     "exception": false,
     "start_time": "2022-08-10T14:41:26.938582",
     "status": "completed"
    },
    "tags": []
   },
   "outputs": [
    {
     "data": {
      "text/plain": [
       "PassengerId     8693\n",
       "HomePlanet         3\n",
       "CryoSleep          2\n",
       "Cabin           6560\n",
       "Destination        3\n",
       "Age               80\n",
       "VIP                2\n",
       "RoomService     1273\n",
       "FoodCourt       1507\n",
       "ShoppingMall    1115\n",
       "Spa             1327\n",
       "VRDeck          1306\n",
       "Name            8473\n",
       "Transported        2\n",
       "dtype: int64"
      ]
     },
     "execution_count": 7,
     "metadata": {},
     "output_type": "execute_result"
    }
   ],
   "source": [
    "train.nunique()"
   ]
  },
  {
   "cell_type": "markdown",
   "id": "e65b6afb",
   "metadata": {
    "papermill": {
     "duration": 0.01143,
     "end_time": "2022-08-10T14:41:26.999924",
     "exception": false,
     "start_time": "2022-08-10T14:41:26.988494",
     "status": "completed"
    },
    "tags": []
   },
   "source": [
    "### Data Types\n",
    "All Data needs to be transformed into numeric values for later model building"
   ]
  },
  {
   "cell_type": "code",
   "execution_count": 8,
   "id": "67d1209f",
   "metadata": {
    "execution": {
     "iopub.execute_input": "2022-08-10T14:41:27.024833Z",
     "iopub.status.busy": "2022-08-10T14:41:27.024044Z",
     "iopub.status.idle": "2022-08-10T14:41:27.039354Z",
     "shell.execute_reply": "2022-08-10T14:41:27.037576Z"
    },
    "papermill": {
     "duration": 0.032268,
     "end_time": "2022-08-10T14:41:27.043344",
     "exception": false,
     "start_time": "2022-08-10T14:41:27.011076",
     "status": "completed"
    },
    "tags": []
   },
   "outputs": [
    {
     "name": "stdout",
     "output_type": "stream",
     "text": [
      "PassengerId      object\n",
      "HomePlanet       object\n",
      "CryoSleep        object\n",
      "Cabin            object\n",
      "Destination      object\n",
      "Age             float64\n",
      "VIP              object\n",
      "RoomService     float64\n",
      "FoodCourt       float64\n",
      "ShoppingMall    float64\n",
      "Spa             float64\n",
      "VRDeck          float64\n",
      "Name             object\n",
      "Transported        bool\n",
      "dtype: object\n"
     ]
    }
   ],
   "source": [
    "print(train.dtypes)\n",
    "\n",
    "# Saving the object features as a list \n",
    "obj = train.select_dtypes(['object']).columns"
   ]
  },
  {
   "cell_type": "markdown",
   "id": "8fc5f5e7",
   "metadata": {
    "papermill": {
     "duration": 0.010728,
     "end_time": "2022-08-10T14:41:27.065485",
     "exception": false,
     "start_time": "2022-08-10T14:41:27.054757",
     "status": "completed"
    },
    "tags": []
   },
   "source": [
    "### Checking the distribution of our target feature ('Transported') to see if we have to change our sampling \n",
    "The target feature seems to be nearly even distributed, so we have to do no over- or undersampling"
   ]
  },
  {
   "cell_type": "code",
   "execution_count": 9,
   "id": "ab366981",
   "metadata": {
    "execution": {
     "iopub.execute_input": "2022-08-10T14:41:27.089786Z",
     "iopub.status.busy": "2022-08-10T14:41:27.089057Z",
     "iopub.status.idle": "2022-08-10T14:41:27.243483Z",
     "shell.execute_reply": "2022-08-10T14:41:27.242101Z"
    },
    "papermill": {
     "duration": 0.169876,
     "end_time": "2022-08-10T14:41:27.246536",
     "exception": false,
     "start_time": "2022-08-10T14:41:27.076660",
     "status": "completed"
    },
    "tags": []
   },
   "outputs": [
    {
     "data": {
      "text/plain": [
       "<AxesSubplot:xlabel='Transported', ylabel='count'>"
      ]
     },
     "execution_count": 9,
     "metadata": {},
     "output_type": "execute_result"
    },
    {
     "data": {
      "image/png": "[encoded data removed]",
      "text/plain": [
       "<Figure size 432x288 with 1 Axes>"
      ]
     },
     "metadata": {
      "needs_background": "light"
     },
     "output_type": "display_data"
    }
   ],
   "source": [
    "sns.countplot(data = train, x = \"Transported\")"
   ]
  },
  {
   "cell_type": "markdown",
   "id": "82e71f24",
   "metadata": {
    "papermill": {
     "duration": 0.010903,
     "end_time": "2022-08-10T14:41:27.268949",
     "exception": false,
     "start_time": "2022-08-10T14:41:27.258046",
     "status": "completed"
    },
    "tags": []
   },
   "source": [
    "## 4. Explorative Data Analysis (EDA)"
   ]
  },
  {
   "cell_type": "code",
   "execution_count": 10,
   "id": "7eb81adc",
   "metadata": {
    "execution": {
     "iopub.execute_input": "2022-08-10T14:41:27.294410Z",
     "iopub.status.busy": "2022-08-10T14:41:27.293915Z",
     "iopub.status.idle": "2022-08-10T14:41:27.317665Z",
     "shell.execute_reply": "2022-08-10T14:41:27.316232Z"
    },
    "papermill": {
     "duration": 0.040113,
     "end_time": "2022-08-10T14:41:27.320739",
     "exception": false,
     "start_time": "2022-08-10T14:41:27.280626",
     "status": "completed"
    },
    "tags": []
   },
   "outputs": [
    {
     "data": {
      "text/html": [
       "<div>\n",
       "<style scoped>\n",
       "    .dataframe tbody tr th:only-of-type {\n",
       "        vertical-align: middle;\n",
       "    }\n",
       "\n",
       "    .dataframe tbody tr th {\n",
       "        vertical-align: top;\n",
       "    }\n",
       "\n",
       "    .dataframe thead th {\n",
       "        text-align: right;\n",
       "    }\n",
       "</style>\n",
       "<table border=\"1\" class=\"dataframe\">\n",
       "  <thead>\n",
       "    <tr style=\"text-align: right;\">\n",
       "      <th></th>\n",
       "      <th>PassengerId</th>\n",
       "      <th>HomePlanet</th>\n",
       "      <th>CryoSleep</th>\n",
       "      <th>Cabin</th>\n",
       "      <th>Destination</th>\n",
       "      <th>Age</th>\n",
       "      <th>VIP</th>\n",
       "      <th>RoomService</th>\n",
       "      <th>FoodCourt</th>\n",
       "      <th>ShoppingMall</th>\n",
       "      <th>Spa</th>\n",
       "      <th>VRDeck</th>\n",
       "      <th>Name</th>\n",
       "      <th>Transported</th>\n",
       "    </tr>\n",
       "  </thead>\n",
       "  <tbody>\n",
       "    <tr>\n",
       "      <th>0</th>\n",
       "      <td>0001_01</td>\n",
       "      <td>Europa</td>\n",
       "      <td>False</td>\n",
       "      <td>B/0/P</td>\n",
       "      <td>TRAPPIST-1e</td>\n",
       "      <td>39.0</td>\n",
       "      <td>False</td>\n",
       "      <td>0.0</td>\n",
       "      <td>0.0</td>\n",
       "      <td>0.0</td>\n",
       "      <td>0.0</td>\n",
       "      <td>0.0</td>\n",
       "      <td>Maham Ofracculy</td>\n",
       "      <td>False</td>\n",
       "    </tr>\n",
       "    <tr>\n",
       "      <th>1</th>\n",
       "      <td>0002_01</td>\n",
       "      <td>Earth</td>\n",
       "      <td>False</td>\n",
       "      <td>F/0/S</td>\n",
       "      <td>TRAPPIST-1e</td>\n",
       "      <td>24.0</td>\n",
       "      <td>False</td>\n",
       "      <td>109.0</td>\n",
       "      <td>9.0</td>\n",
       "      <td>25.0</td>\n",
       "      <td>549.0</td>\n",
       "      <td>44.0</td>\n",
       "      <td>Juanna Vines</td>\n",
       "      <td>True</td>\n",
       "    </tr>\n",
       "    <tr>\n",
       "      <th>2</th>\n",
       "      <td>0003_01</td>\n",
       "      <td>Europa</td>\n",
       "      <td>False</td>\n",
       "      <td>A/0/S</td>\n",
       "      <td>TRAPPIST-1e</td>\n",
       "      <td>58.0</td>\n",
       "      <td>True</td>\n",
       "      <td>43.0</td>\n",
       "      <td>3576.0</td>\n",
       "      <td>0.0</td>\n",
       "      <td>6715.0</td>\n",
       "      <td>49.0</td>\n",
       "      <td>Altark Susent</td>\n",
       "      <td>False</td>\n",
       "    </tr>\n",
       "    <tr>\n",
       "      <th>3</th>\n",
       "      <td>0003_02</td>\n",
       "      <td>Europa</td>\n",
       "      <td>False</td>\n",
       "      <td>A/0/S</td>\n",
       "      <td>TRAPPIST-1e</td>\n",
       "      <td>33.0</td>\n",
       "      <td>False</td>\n",
       "      <td>0.0</td>\n",
       "      <td>1283.0</td>\n",
       "      <td>371.0</td>\n",
       "      <td>3329.0</td>\n",
       "      <td>193.0</td>\n",
       "      <td>Solam Susent</td>\n",
       "      <td>False</td>\n",
       "    </tr>\n",
       "    <tr>\n",
       "      <th>4</th>\n",
       "      <td>0004_01</td>\n",
       "      <td>Earth</td>\n",
       "      <td>False</td>\n",
       "      <td>F/1/S</td>\n",
       "      <td>TRAPPIST-1e</td>\n",
       "      <td>16.0</td>\n",
       "      <td>False</td>\n",
       "      <td>303.0</td>\n",
       "      <td>70.0</td>\n",
       "      <td>151.0</td>\n",
       "      <td>565.0</td>\n",
       "      <td>2.0</td>\n",
       "      <td>Willy Santantines</td>\n",
       "      <td>True</td>\n",
       "    </tr>\n",
       "  </tbody>\n",
       "</table>\n",
       "</div>"
      ],
      "text/plain": [
       "  PassengerId HomePlanet CryoSleep  Cabin  Destination   Age    VIP  \\\n",
       "0     0001_01     Europa     False  B/0/P  TRAPPIST-1e  39.0  False   \n",
       "1     0002_01      Earth     False  F/0/S  TRAPPIST-1e  24.0  False   \n",
       "2     0003_01     Europa     False  A/0/S  TRAPPIST-1e  58.0   True   \n",
       "3     0003_02     Europa     False  A/0/S  TRAPPIST-1e  33.0  False   \n",
       "4     0004_01      Earth     False  F/1/S  TRAPPIST-1e  16.0  False   \n",
       "\n",
       "   RoomService  FoodCourt  ShoppingMall     Spa  VRDeck               Name  \\\n",
       "0          0.0        0.0           0.0     0.0     0.0    Maham Ofracculy   \n",
       "1        109.0        9.0          25.0   549.0    44.0       Juanna Vines   \n",
       "2         43.0     3576.0           0.0  6715.0    49.0      Altark Susent   \n",
       "3          0.0     1283.0         371.0  3329.0   193.0       Solam Susent   \n",
       "4        303.0       70.0         151.0   565.0     2.0  Willy Santantines   \n",
       "\n",
       "   Transported  \n",
       "0        False  \n",
       "1         True  \n",
       "2        False  \n",
       "3        False  \n",
       "4         True  "
      ]
     },
     "execution_count": 10,
     "metadata": {},
     "output_type": "execute_result"
    }
   ],
   "source": [
    "train.head()"
   ]
  },
  {
   "cell_type": "code",
   "execution_count": 11,
   "id": "03f5c3e4",
   "metadata": {
    "execution": {
     "iopub.execute_input": "2022-08-10T14:41:27.346711Z",
     "iopub.status.busy": "2022-08-10T14:41:27.346277Z",
     "iopub.status.idle": "2022-08-10T14:41:27.385701Z",
     "shell.execute_reply": "2022-08-10T14:41:27.384418Z"
    },
    "papermill": {
     "duration": 0.055877,
     "end_time": "2022-08-10T14:41:27.388534",
     "exception": false,
     "start_time": "2022-08-10T14:41:27.332657",
     "status": "completed"
    },
    "tags": []
   },
   "outputs": [
    {
     "data": {
      "text/html": [
       "<div>\n",
       "<style scoped>\n",
       "    .dataframe tbody tr th:only-of-type {\n",
       "        vertical-align: middle;\n",
       "    }\n",
       "\n",
       "    .dataframe tbody tr th {\n",
       "        vertical-align: top;\n",
       "    }\n",
       "\n",
       "    .dataframe thead th {\n",
       "        text-align: right;\n",
       "    }\n",
       "</style>\n",
       "<table border=\"1\" class=\"dataframe\">\n",
       "  <thead>\n",
       "    <tr style=\"text-align: right;\">\n",
       "      <th></th>\n",
       "      <th>Age</th>\n",
       "      <th>RoomService</th>\n",
       "      <th>FoodCourt</th>\n",
       "      <th>ShoppingMall</th>\n",
       "      <th>Spa</th>\n",
       "      <th>VRDeck</th>\n",
       "    </tr>\n",
       "  </thead>\n",
       "  <tbody>\n",
       "    <tr>\n",
       "      <th>count</th>\n",
       "      <td>8514.000000</td>\n",
       "      <td>8512.000000</td>\n",
       "      <td>8510.000000</td>\n",
       "      <td>8485.000000</td>\n",
       "      <td>8510.000000</td>\n",
       "      <td>8505.000000</td>\n",
       "    </tr>\n",
       "    <tr>\n",
       "      <th>mean</th>\n",
       "      <td>28.827930</td>\n",
       "      <td>224.687617</td>\n",
       "      <td>458.077203</td>\n",
       "      <td>173.729169</td>\n",
       "      <td>311.138778</td>\n",
       "      <td>304.854791</td>\n",
       "    </tr>\n",
       "    <tr>\n",
       "      <th>std</th>\n",
       "      <td>14.489021</td>\n",
       "      <td>666.717663</td>\n",
       "      <td>1611.489240</td>\n",
       "      <td>604.696458</td>\n",
       "      <td>1136.705535</td>\n",
       "      <td>1145.717189</td>\n",
       "    </tr>\n",
       "    <tr>\n",
       "      <th>min</th>\n",
       "      <td>0.000000</td>\n",
       "      <td>0.000000</td>\n",
       "      <td>0.000000</td>\n",
       "      <td>0.000000</td>\n",
       "      <td>0.000000</td>\n",
       "      <td>0.000000</td>\n",
       "    </tr>\n",
       "    <tr>\n",
       "      <th>25%</th>\n",
       "      <td>19.000000</td>\n",
       "      <td>0.000000</td>\n",
       "      <td>0.000000</td>\n",
       "      <td>0.000000</td>\n",
       "      <td>0.000000</td>\n",
       "      <td>0.000000</td>\n",
       "    </tr>\n",
       "    <tr>\n",
       "      <th>50%</th>\n",
       "      <td>27.000000</td>\n",
       "      <td>0.000000</td>\n",
       "      <td>0.000000</td>\n",
       "      <td>0.000000</td>\n",
       "      <td>0.000000</td>\n",
       "      <td>0.000000</td>\n",
       "    </tr>\n",
       "    <tr>\n",
       "      <th>75%</th>\n",
       "      <td>38.000000</td>\n",
       "      <td>47.000000</td>\n",
       "      <td>76.000000</td>\n",
       "      <td>27.000000</td>\n",
       "      <td>59.000000</td>\n",
       "      <td>46.000000</td>\n",
       "    </tr>\n",
       "    <tr>\n",
       "      <th>max</th>\n",
       "      <td>79.000000</td>\n",
       "      <td>14327.000000</td>\n",
       "      <td>29813.000000</td>\n",
       "      <td>23492.000000</td>\n",
       "      <td>22408.000000</td>\n",
       "      <td>24133.000000</td>\n",
       "    </tr>\n",
       "  </tbody>\n",
       "</table>\n",
       "</div>"
      ],
      "text/plain": [
       "               Age   RoomService     FoodCourt  ShoppingMall           Spa  \\\n",
       "count  8514.000000   8512.000000   8510.000000   8485.000000   8510.000000   \n",
       "mean     28.827930    224.687617    458.077203    173.729169    311.138778   \n",
       "std      14.489021    666.717663   1611.489240    604.696458   1136.705535   \n",
       "min       0.000000      0.000000      0.000000      0.000000      0.000000   \n",
       "25%      19.000000      0.000000      0.000000      0.000000      0.000000   \n",
       "50%      27.000000      0.000000      0.000000      0.000000      0.000000   \n",
       "75%      38.000000     47.000000     76.000000     27.000000     59.000000   \n",
       "max      79.000000  14327.000000  29813.000000  23492.000000  22408.000000   \n",
       "\n",
       "             VRDeck  \n",
       "count   8505.000000  \n",
       "mean     304.854791  \n",
       "std     1145.717189  \n",
       "min        0.000000  \n",
       "25%        0.000000  \n",
       "50%        0.000000  \n",
       "75%       46.000000  \n",
       "max    24133.000000  "
      ]
     },
     "execution_count": 11,
     "metadata": {},
     "output_type": "execute_result"
    }
   ],
   "source": [
    "train.describe()"
   ]
  },
  {
   "cell_type": "markdown",
   "id": "e5cdf5b7",
   "metadata": {
    "papermill": {
     "duration": 0.011333,
     "end_time": "2022-08-10T14:41:27.411974",
     "exception": false,
     "start_time": "2022-08-10T14:41:27.400641",
     "status": "completed"
    },
    "tags": []
   },
   "source": [
    "### Continuous Feature Correlation with Transported"
   ]
  },
  {
   "cell_type": "code",
   "execution_count": 12,
   "id": "15d15383",
   "metadata": {
    "execution": {
     "iopub.execute_input": "2022-08-10T14:41:27.438856Z",
     "iopub.status.busy": "2022-08-10T14:41:27.437475Z",
     "iopub.status.idle": "2022-08-10T14:41:27.669133Z",
     "shell.execute_reply": "2022-08-10T14:41:27.667689Z"
    },
    "papermill": {
     "duration": 0.247923,
     "end_time": "2022-08-10T14:41:27.672022",
     "exception": false,
     "start_time": "2022-08-10T14:41:27.424099",
     "status": "completed"
    },
    "tags": []
   },
   "outputs": [
    {
     "name": "stdout",
     "output_type": "stream",
     "text": [
      "Age            -0.075026\n",
      "RoomService    -0.244611\n",
      "FoodCourt       0.046566\n",
      "ShoppingMall    0.010141\n",
      "Spa            -0.221131\n",
      "VRDeck         -0.207075\n",
      "Transported     1.000000\n",
      "Name: Transported, dtype: float64\n"
     ]
    },
    {
     "data": {
      "text/plain": [
       "<AxesSubplot:>"
      ]
     },
     "execution_count": 12,
     "metadata": {},
     "output_type": "execute_result"
    },
    {
     "data": {
      "image/png": "[encoded data removed]",
      "text/plain": [
       "<Figure size 432x288 with 1 Axes>"
      ]
     },
     "metadata": {
      "needs_background": "light"
     },
     "output_type": "display_data"
    }
   ],
   "source": [
    "print(train.corr()['Transported'])\n",
    "\n",
    "train.corr()['Transported'].drop('Transported').sort_values(ascending = False).plot(kind = 'bar')"
   ]
  },
  {
   "cell_type": "markdown",
   "id": "5c4f1bb0",
   "metadata": {
    "papermill": {
     "duration": 0.021693,
     "end_time": "2022-08-10T14:41:27.707978",
     "exception": false,
     "start_time": "2022-08-10T14:41:27.686285",
     "status": "completed"
    },
    "tags": []
   },
   "source": [
    "### Age Distribution\n",
    "\n",
    "We can see that:\n",
    "\n",
    "* Most Passengers are in the range from 13 to 35 years old\n",
    "* Younger Passengers  in the range from 0 - 18 have a higher probability to get transported than older passengers \n"
   ]
  },
  {
   "cell_type": "code",
   "execution_count": 13,
   "id": "837ce9ca",
   "metadata": {
    "execution": {
     "iopub.execute_input": "2022-08-10T14:41:27.743774Z",
     "iopub.status.busy": "2022-08-10T14:41:27.742189Z",
     "iopub.status.idle": "2022-08-10T14:41:28.510663Z",
     "shell.execute_reply": "2022-08-10T14:41:28.509432Z"
    },
    "papermill": {
     "duration": 0.788719,
     "end_time": "2022-08-10T14:41:28.513575",
     "exception": false,
     "start_time": "2022-08-10T14:41:27.724856",
     "status": "completed"
    },
    "tags": []
   },
   "outputs": [
    {
     "data": {
      "text/plain": [
       "<AxesSubplot:xlabel='Age', ylabel='Count'>"
      ]
     },
     "execution_count": 13,
     "metadata": {},
     "output_type": "execute_result"
    },
    {
     "data": {
      "image/png": "[encoded data removed]",
      "text/plain": [
       "<Figure size 864x360 with 2 Axes>"
      ]
     },
     "metadata": {
      "needs_background": "light"
     },
     "output_type": "display_data"
    }
   ],
   "source": [
    "fig, axs = plt.subplots(ncols = 2, nrows = 1, figsize = (12,5))\n",
    "\n",
    "sns.histplot(x = \"Age\", data = train, kde = True, ax = axs[0])\n",
    "sns.histplot(x = \"Age\", data = train, hue = \"Transported\", kde = True, ax = axs[1])"
   ]
  },
  {
   "cell_type": "markdown",
   "id": "cdeb7230",
   "metadata": {
    "papermill": {
     "duration": 0.013017,
     "end_time": "2022-08-10T14:41:28.539633",
     "exception": false,
     "start_time": "2022-08-10T14:41:28.526616",
     "status": "completed"
    },
    "tags": []
   },
   "source": [
    "### VRDeck, Spa, Room service and Shopping Mall\n",
    "\n",
    "We'll now have a closer look at the Spaceship Titanic's luxury amenities and how their relationship to the Transported feature looks like.\n",
    "\n",
    "* Most of the passengers used very little to none luxury amenities\n",
    "* Except for the shooping mall users, the passengers who used none to very little luxury amenities, have a higher chance to be rescued. "
   ]
  },
  {
   "cell_type": "code",
   "execution_count": 14,
   "id": "32c15bc1",
   "metadata": {
    "execution": {
     "iopub.execute_input": "2022-08-10T14:41:28.567760Z",
     "iopub.status.busy": "2022-08-10T14:41:28.567285Z",
     "iopub.status.idle": "2022-08-10T14:41:30.108864Z",
     "shell.execute_reply": "2022-08-10T14:41:30.107799Z"
    },
    "papermill": {
     "duration": 1.559321,
     "end_time": "2022-08-10T14:41:30.112122",
     "exception": false,
     "start_time": "2022-08-10T14:41:28.552801",
     "status": "completed"
    },
    "tags": []
   },
   "outputs": [
    {
     "data": {
      "image/png": "[encoded data removed]",
      "text/plain": [
       "<Figure size 1080x360 with 5 Axes>"
      ]
     },
     "metadata": {
      "needs_background": "light"
     },
     "output_type": "display_data"
    }
   ],
   "source": [
    "lux_am = ['VRDeck', 'Spa', 'RoomService', 'ShoppingMall', 'FoodCourt']\n",
    "\n",
    "fig, axs = plt.subplots(ncols = len(lux_am), nrows = 1, sharey='row', figsize = (15,5))\n",
    "fig.tight_layout()\n",
    "\n",
    "\n",
    "for i, feat in enumerate(lux_am):\n",
    "    ax = sns.histplot(data = train, x = feat, bins = 30,hue = 'Transported', ax = axs[i])\n",
    "    ax.set_title(feat)"
   ]
  },
  {
   "cell_type": "code",
   "execution_count": 15,
   "id": "cd4c563e",
   "metadata": {
    "execution": {
     "iopub.execute_input": "2022-08-10T14:41:30.142040Z",
     "iopub.status.busy": "2022-08-10T14:41:30.141562Z",
     "iopub.status.idle": "2022-08-10T14:41:31.795352Z",
     "shell.execute_reply": "2022-08-10T14:41:31.794066Z"
    },
    "papermill": {
     "duration": 1.672841,
     "end_time": "2022-08-10T14:41:31.798340",
     "exception": false,
     "start_time": "2022-08-10T14:41:30.125499",
     "status": "completed"
    },
    "tags": []
   },
   "outputs": [
    {
     "data": {
      "image/png": "[encoded data removed]",
      "text/plain": [
       "<Figure size 1080x360 with 5 Axes>"
      ]
     },
     "metadata": {
      "needs_background": "light"
     },
     "output_type": "display_data"
    }
   ],
   "source": [
    "# zooming in to the guests who used more of the luxury amenities\n",
    "fig, axs = plt.subplots(ncols = len(lux_am), nrows = 1, sharey='row', figsize = (15,5))\n",
    "fig.tight_layout()\n",
    "\n",
    "\n",
    "for i, feat in enumerate(lux_am):\n",
    "    if i == 0:\n",
    "        sns.histplot(data = train, x = feat, bins = 30,hue = 'Transported', ax = axs[i])\n",
    "        plt.ylim(0, 400)\n",
    "        ax.set_title(feat)\n",
    "    else:\n",
    "        sns.histplot(data = train, x = feat, bins = 30,hue = 'Transported', ax = axs[i])\n",
    "        ax.set_title(feat)\n",
    "        handles, labels = ax.get_legend_handles_labels()\n",
    "\n",
    "        "
   ]
  },
  {
   "cell_type": "markdown",
   "id": "c47f0b27",
   "metadata": {
    "papermill": {
     "duration": 0.013041,
     "end_time": "2022-08-10T14:41:31.825052",
     "exception": false,
     "start_time": "2022-08-10T14:41:31.812011",
     "status": "completed"
    },
    "tags": []
   },
   "source": [
    "### Next, we take a look at the distribution of the categorial features"
   ]
  },
  {
   "cell_type": "code",
   "execution_count": 16,
   "id": "eecb4a48",
   "metadata": {
    "execution": {
     "iopub.execute_input": "2022-08-10T14:41:31.854894Z",
     "iopub.status.busy": "2022-08-10T14:41:31.853897Z",
     "iopub.status.idle": "2022-08-10T14:41:31.876595Z",
     "shell.execute_reply": "2022-08-10T14:41:31.875402Z"
    },
    "papermill": {
     "duration": 0.040779,
     "end_time": "2022-08-10T14:41:31.879342",
     "exception": false,
     "start_time": "2022-08-10T14:41:31.838563",
     "status": "completed"
    },
    "tags": []
   },
   "outputs": [
    {
     "data": {
      "text/html": [
       "<div>\n",
       "<style scoped>\n",
       "    .dataframe tbody tr th:only-of-type {\n",
       "        vertical-align: middle;\n",
       "    }\n",
       "\n",
       "    .dataframe tbody tr th {\n",
       "        vertical-align: top;\n",
       "    }\n",
       "\n",
       "    .dataframe thead th {\n",
       "        text-align: right;\n",
       "    }\n",
       "</style>\n",
       "<table border=\"1\" class=\"dataframe\">\n",
       "  <thead>\n",
       "    <tr style=\"text-align: right;\">\n",
       "      <th></th>\n",
       "      <th>PassengerId</th>\n",
       "      <th>HomePlanet</th>\n",
       "      <th>CryoSleep</th>\n",
       "      <th>Cabin</th>\n",
       "      <th>Destination</th>\n",
       "      <th>Age</th>\n",
       "      <th>VIP</th>\n",
       "      <th>RoomService</th>\n",
       "      <th>FoodCourt</th>\n",
       "      <th>ShoppingMall</th>\n",
       "      <th>Spa</th>\n",
       "      <th>VRDeck</th>\n",
       "      <th>Name</th>\n",
       "      <th>Transported</th>\n",
       "    </tr>\n",
       "  </thead>\n",
       "  <tbody>\n",
       "    <tr>\n",
       "      <th>0</th>\n",
       "      <td>0001_01</td>\n",
       "      <td>Europa</td>\n",
       "      <td>False</td>\n",
       "      <td>B/0/P</td>\n",
       "      <td>TRAPPIST-1e</td>\n",
       "      <td>39.0</td>\n",
       "      <td>False</td>\n",
       "      <td>0.0</td>\n",
       "      <td>0.0</td>\n",
       "      <td>0.0</td>\n",
       "      <td>0.0</td>\n",
       "      <td>0.0</td>\n",
       "      <td>Maham Ofracculy</td>\n",
       "      <td>False</td>\n",
       "    </tr>\n",
       "    <tr>\n",
       "      <th>1</th>\n",
       "      <td>0002_01</td>\n",
       "      <td>Earth</td>\n",
       "      <td>False</td>\n",
       "      <td>F/0/S</td>\n",
       "      <td>TRAPPIST-1e</td>\n",
       "      <td>24.0</td>\n",
       "      <td>False</td>\n",
       "      <td>109.0</td>\n",
       "      <td>9.0</td>\n",
       "      <td>25.0</td>\n",
       "      <td>549.0</td>\n",
       "      <td>44.0</td>\n",
       "      <td>Juanna Vines</td>\n",
       "      <td>True</td>\n",
       "    </tr>\n",
       "    <tr>\n",
       "      <th>2</th>\n",
       "      <td>0003_01</td>\n",
       "      <td>Europa</td>\n",
       "      <td>False</td>\n",
       "      <td>A/0/S</td>\n",
       "      <td>TRAPPIST-1e</td>\n",
       "      <td>58.0</td>\n",
       "      <td>True</td>\n",
       "      <td>43.0</td>\n",
       "      <td>3576.0</td>\n",
       "      <td>0.0</td>\n",
       "      <td>6715.0</td>\n",
       "      <td>49.0</td>\n",
       "      <td>Altark Susent</td>\n",
       "      <td>False</td>\n",
       "    </tr>\n",
       "    <tr>\n",
       "      <th>3</th>\n",
       "      <td>0003_02</td>\n",
       "      <td>Europa</td>\n",
       "      <td>False</td>\n",
       "      <td>A/0/S</td>\n",
       "      <td>TRAPPIST-1e</td>\n",
       "      <td>33.0</td>\n",
       "      <td>False</td>\n",
       "      <td>0.0</td>\n",
       "      <td>1283.0</td>\n",
       "      <td>371.0</td>\n",
       "      <td>3329.0</td>\n",
       "      <td>193.0</td>\n",
       "      <td>Solam Susent</td>\n",
       "      <td>False</td>\n",
       "    </tr>\n",
       "    <tr>\n",
       "      <th>4</th>\n",
       "      <td>0004_01</td>\n",
       "      <td>Earth</td>\n",
       "      <td>False</td>\n",
       "      <td>F/1/S</td>\n",
       "      <td>TRAPPIST-1e</td>\n",
       "      <td>16.0</td>\n",
       "      <td>False</td>\n",
       "      <td>303.0</td>\n",
       "      <td>70.0</td>\n",
       "      <td>151.0</td>\n",
       "      <td>565.0</td>\n",
       "      <td>2.0</td>\n",
       "      <td>Willy Santantines</td>\n",
       "      <td>True</td>\n",
       "    </tr>\n",
       "  </tbody>\n",
       "</table>\n",
       "</div>"
      ],
      "text/plain": [
       "  PassengerId HomePlanet CryoSleep  Cabin  Destination   Age    VIP  \\\n",
       "0     0001_01     Europa     False  B/0/P  TRAPPIST-1e  39.0  False   \n",
       "1     0002_01      Earth     False  F/0/S  TRAPPIST-1e  24.0  False   \n",
       "2     0003_01     Europa     False  A/0/S  TRAPPIST-1e  58.0   True   \n",
       "3     0003_02     Europa     False  A/0/S  TRAPPIST-1e  33.0  False   \n",
       "4     0004_01      Earth     False  F/1/S  TRAPPIST-1e  16.0  False   \n",
       "\n",
       "   RoomService  FoodCourt  ShoppingMall     Spa  VRDeck               Name  \\\n",
       "0          0.0        0.0           0.0     0.0     0.0    Maham Ofracculy   \n",
       "1        109.0        9.0          25.0   549.0    44.0       Juanna Vines   \n",
       "2         43.0     3576.0           0.0  6715.0    49.0      Altark Susent   \n",
       "3          0.0     1283.0         371.0  3329.0   193.0       Solam Susent   \n",
       "4        303.0       70.0         151.0   565.0     2.0  Willy Santantines   \n",
       "\n",
       "   Transported  \n",
       "0        False  \n",
       "1         True  \n",
       "2        False  \n",
       "3        False  \n",
       "4         True  "
      ]
     },
     "execution_count": 16,
     "metadata": {},
     "output_type": "execute_result"
    }
   ],
   "source": [
    "train.head()"
   ]
  },
  {
   "cell_type": "code",
   "execution_count": 17,
   "id": "a6c616a5",
   "metadata": {
    "execution": {
     "iopub.execute_input": "2022-08-10T14:41:31.912090Z",
     "iopub.status.busy": "2022-08-10T14:41:31.910900Z",
     "iopub.status.idle": "2022-08-10T14:41:32.776064Z",
     "shell.execute_reply": "2022-08-10T14:41:32.774749Z"
    },
    "papermill": {
     "duration": 0.884206,
     "end_time": "2022-08-10T14:41:32.779150",
     "exception": false,
     "start_time": "2022-08-10T14:41:31.894944",
     "status": "completed"
    },
    "tags": []
   },
   "outputs": [
    {
     "data": {
      "image/png": "[encoded data removed]",
      "text/plain": [
       "<Figure size 720x1152 with 4 Axes>"
      ]
     },
     "metadata": {
      "needs_background": "light"
     },
     "output_type": "display_data"
    }
   ],
   "source": [
    "cat_feat = ['CryoSleep', 'VIP', 'HomePlanet', 'Destination']\n",
    "\n",
    "fig.tight_layout()\n",
    "\n",
    "left  = 0.125  # the left side of the subplots of the figure\n",
    "right = 0.9    # the right side of the subplots of the figure\n",
    "bottom = 0.1   # the bottom of the subplots of the figure\n",
    "top = 1        # the top of the subplots of the figure\n",
    "wspace = 0.3   # the amount of width reserved for blank space between subplots\n",
    "hspace = 0.4   # the amount of height reserved for white space between subplots\n",
    "\n",
    "\n",
    "\n",
    "fig=plt.figure(figsize=(10,16))\n",
    "for i, value in enumerate(cat_feat):\n",
    "    ax=fig.add_subplot(4,1,i+1)\n",
    "    sns.countplot(data=train, x=value, axes=ax, hue='Transported')\n",
    "    ax.set_title(value)\n",
    "    plt.subplots_adjust(left, bottom, right, top, wspace, hspace)"
   ]
  },
  {
   "cell_type": "markdown",
   "id": "398a1329",
   "metadata": {
    "papermill": {
     "duration": 0.014616,
     "end_time": "2022-08-10T14:41:32.808478",
     "exception": false,
     "start_time": "2022-08-10T14:41:32.793862",
     "status": "completed"
    },
    "tags": []
   },
   "source": [
    "### Qualitative Features\n",
    "\n",
    "Since we can't plot the qualitative Features we just take a quick look at them:"
   ]
  },
  {
   "cell_type": "code",
   "execution_count": 18,
   "id": "e65d67f3",
   "metadata": {
    "execution": {
     "iopub.execute_input": "2022-08-10T14:41:32.840711Z",
     "iopub.status.busy": "2022-08-10T14:41:32.839872Z",
     "iopub.status.idle": "2022-08-10T14:41:32.853447Z",
     "shell.execute_reply": "2022-08-10T14:41:32.852527Z"
    },
    "papermill": {
     "duration": 0.032594,
     "end_time": "2022-08-10T14:41:32.855925",
     "exception": false,
     "start_time": "2022-08-10T14:41:32.823331",
     "status": "completed"
    },
    "tags": []
   },
   "outputs": [
    {
     "data": {
      "text/html": [
       "<div>\n",
       "<style scoped>\n",
       "    .dataframe tbody tr th:only-of-type {\n",
       "        vertical-align: middle;\n",
       "    }\n",
       "\n",
       "    .dataframe tbody tr th {\n",
       "        vertical-align: top;\n",
       "    }\n",
       "\n",
       "    .dataframe thead th {\n",
       "        text-align: right;\n",
       "    }\n",
       "</style>\n",
       "<table border=\"1\" class=\"dataframe\">\n",
       "  <thead>\n",
       "    <tr style=\"text-align: right;\">\n",
       "      <th></th>\n",
       "      <th>PassengerId</th>\n",
       "      <th>Cabin</th>\n",
       "      <th>Name</th>\n",
       "    </tr>\n",
       "  </thead>\n",
       "  <tbody>\n",
       "    <tr>\n",
       "      <th>0</th>\n",
       "      <td>0001_01</td>\n",
       "      <td>B/0/P</td>\n",
       "      <td>Maham Ofracculy</td>\n",
       "    </tr>\n",
       "    <tr>\n",
       "      <th>1</th>\n",
       "      <td>0002_01</td>\n",
       "      <td>F/0/S</td>\n",
       "      <td>Juanna Vines</td>\n",
       "    </tr>\n",
       "    <tr>\n",
       "      <th>2</th>\n",
       "      <td>0003_01</td>\n",
       "      <td>A/0/S</td>\n",
       "      <td>Altark Susent</td>\n",
       "    </tr>\n",
       "    <tr>\n",
       "      <th>3</th>\n",
       "      <td>0003_02</td>\n",
       "      <td>A/0/S</td>\n",
       "      <td>Solam Susent</td>\n",
       "    </tr>\n",
       "    <tr>\n",
       "      <th>4</th>\n",
       "      <td>0004_01</td>\n",
       "      <td>F/1/S</td>\n",
       "      <td>Willy Santantines</td>\n",
       "    </tr>\n",
       "  </tbody>\n",
       "</table>\n",
       "</div>"
      ],
      "text/plain": [
       "  PassengerId  Cabin               Name\n",
       "0     0001_01  B/0/P    Maham Ofracculy\n",
       "1     0002_01  F/0/S       Juanna Vines\n",
       "2     0003_01  A/0/S      Altark Susent\n",
       "3     0003_02  A/0/S       Solam Susent\n",
       "4     0004_01  F/1/S  Willy Santantines"
      ]
     },
     "execution_count": 18,
     "metadata": {},
     "output_type": "execute_result"
    }
   ],
   "source": [
    "train[['PassengerId', 'Cabin', 'Name']].head()"
   ]
  },
  {
   "cell_type": "markdown",
   "id": "c96f8e59",
   "metadata": {
    "papermill": {
     "duration": 0.014741,
     "end_time": "2022-08-10T14:41:32.885869",
     "exception": false,
     "start_time": "2022-08-10T14:41:32.871128",
     "status": "completed"
    },
    "tags": []
   },
   "source": [
    "## 5. Feature Engineering\n",
    "\n",
    "In the next step we want to work on our features to get a better result from our model.\n",
    "\n",
    "Steps we will undergo are:\n",
    "\n",
    "* Classifying the age groups\n",
    "* Get the total expenditures as the sum of all spendings on amentities \n",
    "* Based on the previous step, classify passengers who had and had not done spendings\n",
    "* Extract the Group Size \n",
    "* Extract the location data from the cabin column\n",
    "* Extract the family size"
   ]
  },
  {
   "cell_type": "markdown",
   "id": "5b5ba809",
   "metadata": {
    "papermill": {
     "duration": 0.014608,
     "end_time": "2022-08-10T14:41:32.915571",
     "exception": false,
     "start_time": "2022-08-10T14:41:32.900963",
     "status": "completed"
    },
    "tags": []
   },
   "source": [
    "### Age groups "
   ]
  },
  {
   "cell_type": "code",
   "execution_count": 19,
   "id": "da7f9946",
   "metadata": {
    "execution": {
     "iopub.execute_input": "2022-08-10T14:41:32.948068Z",
     "iopub.status.busy": "2022-08-10T14:41:32.947239Z",
     "iopub.status.idle": "2022-08-10T14:41:32.969908Z",
     "shell.execute_reply": "2022-08-10T14:41:32.968634Z"
    },
    "papermill": {
     "duration": 0.042561,
     "end_time": "2022-08-10T14:41:32.973287",
     "exception": false,
     "start_time": "2022-08-10T14:41:32.930726",
     "status": "completed"
    },
    "tags": []
   },
   "outputs": [],
   "source": [
    "dfs = [train, test]\n",
    "\n",
    "for i in dfs:\n",
    "    i['AgeGroup'] = np.nan\n",
    "    i.loc[(i['Age'] < 12), 'AgeGroup'] = 'Age_0-12'\n",
    "    i.loc[(i['Age'] > 12) & (i['Age'] < 18), 'AgeGroup'] = 'Age_13-17'\n",
    "    i.loc[(i['Age'] > 17) & (i['Age'] < 26), 'AgeGroup'] = 'Age_18-25'\n",
    "    i.loc[(i['Age'] > 25) & (i['Age'] < 31), 'AgeGroup'] = 'Age_26-30'\n",
    "    i.loc[(i['Age'] > 30) & (i['Age'] < 51), 'AgeGroup'] = 'Age_31-50'\n",
    "    i.loc[(i['Age'] > 50), 'AgeGroup'] = 'Age_51+'\n"
   ]
  },
  {
   "cell_type": "code",
   "execution_count": 20,
   "id": "7b56f78d",
   "metadata": {
    "execution": {
     "iopub.execute_input": "2022-08-10T14:41:33.006104Z",
     "iopub.status.busy": "2022-08-10T14:41:33.005653Z",
     "iopub.status.idle": "2022-08-10T14:41:33.279923Z",
     "shell.execute_reply": "2022-08-10T14:41:33.278726Z"
    },
    "papermill": {
     "duration": 0.293898,
     "end_time": "2022-08-10T14:41:33.282981",
     "exception": false,
     "start_time": "2022-08-10T14:41:32.989083",
     "status": "completed"
    },
    "tags": []
   },
   "outputs": [
    {
     "data": {
      "text/plain": [
       "Text(0.5, 1.0, 'Distribution of Age groups')"
      ]
     },
     "execution_count": 20,
     "metadata": {},
     "output_type": "execute_result"
    },
    {
     "data": {
      "image/png": "[encoded data removed]",
      "text/plain": [
       "<Figure size 864x360 with 1 Axes>"
      ]
     },
     "metadata": {
      "needs_background": "light"
     },
     "output_type": "display_data"
    }
   ],
   "source": [
    "#Distribution of the new feature\n",
    "plt.figure(figsize = (12,5))\n",
    "\n",
    "sns.countplot(data = train, x = \"AgeGroup\", hue = \"Transported\", \n",
    "              order=['Age_0-12','Age_13-17','Age_18-25','Age_26-30','Age_31-50','Age_51+'])\n",
    "\n",
    "plt.title('Distribution of Age groups')"
   ]
  },
  {
   "cell_type": "markdown",
   "id": "75dce4b9",
   "metadata": {
    "papermill": {
     "duration": 0.016234,
     "end_time": "2022-08-10T14:41:33.315020",
     "exception": false,
     "start_time": "2022-08-10T14:41:33.298786",
     "status": "completed"
    },
    "tags": []
   },
   "source": [
    "### Total expenditure"
   ]
  },
  {
   "cell_type": "code",
   "execution_count": 21,
   "id": "20ff4638",
   "metadata": {
    "execution": {
     "iopub.execute_input": "2022-08-10T14:41:33.349723Z",
     "iopub.status.busy": "2022-08-10T14:41:33.348426Z",
     "iopub.status.idle": "2022-08-10T14:41:33.372896Z",
     "shell.execute_reply": "2022-08-10T14:41:33.371685Z"
    },
    "papermill": {
     "duration": 0.044501,
     "end_time": "2022-08-10T14:41:33.375692",
     "exception": false,
     "start_time": "2022-08-10T14:41:33.331191",
     "status": "completed"
    },
    "tags": []
   },
   "outputs": [],
   "source": [
    "#Adding the total expenditures column\n",
    "for i in dfs:\n",
    "    i['Total_Exp'] = np.nan\n",
    "    i['Total_Exp']= i[lux_am].sum(axis=1)\n",
    "    \n",
    "#Classifying Passengers who did and who didn't spend money\n",
    "#Spent Money: 1\n",
    "#Didn't spend money: 0\n",
    "\n",
    "\n",
    "def spent(x):\n",
    "    if x > 0:\n",
    "        return 1\n",
    "    else:\n",
    "        return 0\n",
    "\n",
    "for i in dfs:\n",
    "    i['SpentMoney'] = i['Total_Exp'].apply(lambda x: spent(x))\n"
   ]
  },
  {
   "cell_type": "code",
   "execution_count": 22,
   "id": "e94cd516",
   "metadata": {
    "execution": {
     "iopub.execute_input": "2022-08-10T14:41:33.407974Z",
     "iopub.status.busy": "2022-08-10T14:41:33.407509Z",
     "iopub.status.idle": "2022-08-10T14:41:35.376254Z",
     "shell.execute_reply": "2022-08-10T14:41:35.375037Z"
    },
    "papermill": {
     "duration": 1.988545,
     "end_time": "2022-08-10T14:41:35.379397",
     "exception": false,
     "start_time": "2022-08-10T14:41:33.390852",
     "status": "completed"
    },
    "tags": []
   },
   "outputs": [
    {
     "data": {
      "text/plain": [
       "<AxesSubplot:title={'center':'Customers who spent money'}, xlabel='SpentMoney', ylabel='count'>"
      ]
     },
     "execution_count": 22,
     "metadata": {},
     "output_type": "execute_result"
    },
    {
     "data": {
      "image/png": "[encoded data removed]",
      "text/plain": [
       "<Figure size 1296x360 with 3 Axes>"
      ]
     },
     "metadata": {
      "needs_background": "light"
     },
     "output_type": "display_data"
    }
   ],
   "source": [
    "#Plotting the distribution of the new feature\n",
    "plt.figure(figsize = (18,5))\n",
    "plt.subplot(1,3,1)\n",
    "plt.title('Total Expenditure')\n",
    "sns.histplot(data = train, x = 'Total_Exp', hue = 'Transported', bins = 100)\n",
    "\n",
    "plt.subplot(1,3,2)\n",
    "plt.title('Total Expenditure (zoomed in)')\n",
    "sns.histplot(data = train, x = 'Total_Exp', hue = 'Transported', bins =200)\n",
    "plt.xlim([0,10000])\n",
    "plt.ylim([0, 500])\n",
    "\n",
    "plt.subplot(1,3,3)\n",
    "plt.title('Customers who spent money')\n",
    "sns.countplot(data = train, x = \"SpentMoney\", hue = 'Transported')\n"
   ]
  },
  {
   "cell_type": "markdown",
   "id": "ccfc6880",
   "metadata": {
    "papermill": {
     "duration": 0.015407,
     "end_time": "2022-08-10T14:41:35.410639",
     "exception": false,
     "start_time": "2022-08-10T14:41:35.395232",
     "status": "completed"
    },
    "tags": []
   },
   "source": [
    "### Passenger Groups"
   ]
  },
  {
   "cell_type": "code",
   "execution_count": 23,
   "id": "f0f4f3f9",
   "metadata": {
    "execution": {
     "iopub.execute_input": "2022-08-10T14:41:35.445299Z",
     "iopub.status.busy": "2022-08-10T14:41:35.444381Z",
     "iopub.status.idle": "2022-08-10T14:41:46.040489Z",
     "shell.execute_reply": "2022-08-10T14:41:46.039262Z"
    },
    "papermill": {
     "duration": 10.617294,
     "end_time": "2022-08-10T14:41:46.043899",
     "exception": false,
     "start_time": "2022-08-10T14:41:35.426605",
     "status": "completed"
    },
    "tags": []
   },
   "outputs": [],
   "source": [
    "#group\n",
    "for i in dfs:\n",
    "    i['Group'] = train['PassengerId'].str.split('_').str[0].astype(int)\n",
    "\n",
    "#group_size\n",
    "for i in dfs:\n",
    "    i['Group_size']=i['Group'].map(lambda x: i['Group'].value_counts()[x])"
   ]
  },
  {
   "cell_type": "code",
   "execution_count": 24,
   "id": "205eac37",
   "metadata": {
    "execution": {
     "iopub.execute_input": "2022-08-10T14:41:46.078639Z",
     "iopub.status.busy": "2022-08-10T14:41:46.078087Z",
     "iopub.status.idle": "2022-08-10T14:41:46.946137Z",
     "shell.execute_reply": "2022-08-10T14:41:46.945184Z"
    },
    "papermill": {
     "duration": 0.888951,
     "end_time": "2022-08-10T14:41:46.948912",
     "exception": false,
     "start_time": "2022-08-10T14:41:46.059961",
     "status": "completed"
    },
    "tags": []
   },
   "outputs": [
    {
     "data": {
      "text/plain": [
       "<AxesSubplot:title={'center':'Group Sizes'}, xlabel='Group_size', ylabel='count'>"
      ]
     },
     "execution_count": 24,
     "metadata": {},
     "output_type": "execute_result"
    },
    {
     "data": {
      "image/png": "[encoded data removed]",
      "text/plain": [
       "<Figure size 1440x360 with 2 Axes>"
      ]
     },
     "metadata": {
      "needs_background": "light"
     },
     "output_type": "display_data"
    }
   ],
   "source": [
    "plt.figure(figsize = (20,5))\n",
    "plt.subplot(1,2,1)\n",
    "plt.title('Groups')\n",
    "sns.histplot(data = train, x = 'Group', hue = 'Transported', bins = 100)\n",
    "\n",
    "plt.subplot(1,2,2)\n",
    "plt.title('Group Sizes')\n",
    "sns.countplot(data = train, x = \"Group_size\", hue = \"Transported\")\n",
    "\n",
    "\n"
   ]
  },
  {
   "cell_type": "markdown",
   "id": "7c03257a",
   "metadata": {
    "papermill": {
     "duration": 0.01649,
     "end_time": "2022-08-10T14:41:46.982267",
     "exception": false,
     "start_time": "2022-08-10T14:41:46.965777",
     "status": "completed"
    },
    "tags": []
   },
   "source": [
    "Seems like we can't really use the group feature and only the group size"
   ]
  },
  {
   "cell_type": "code",
   "execution_count": 25,
   "id": "bb341c56",
   "metadata": {
    "execution": {
     "iopub.execute_input": "2022-08-10T14:41:47.018755Z",
     "iopub.status.busy": "2022-08-10T14:41:47.018268Z",
     "iopub.status.idle": "2022-08-10T14:41:47.045469Z",
     "shell.execute_reply": "2022-08-10T14:41:47.044151Z"
    },
    "papermill": {
     "duration": 0.048735,
     "end_time": "2022-08-10T14:41:47.048468",
     "exception": false,
     "start_time": "2022-08-10T14:41:46.999733",
     "status": "completed"
    },
    "tags": []
   },
   "outputs": [
    {
     "data": {
      "text/html": [
       "<div>\n",
       "<style scoped>\n",
       "    .dataframe tbody tr th:only-of-type {\n",
       "        vertical-align: middle;\n",
       "    }\n",
       "\n",
       "    .dataframe tbody tr th {\n",
       "        vertical-align: top;\n",
       "    }\n",
       "\n",
       "    .dataframe thead th {\n",
       "        text-align: right;\n",
       "    }\n",
       "</style>\n",
       "<table border=\"1\" class=\"dataframe\">\n",
       "  <thead>\n",
       "    <tr style=\"text-align: right;\">\n",
       "      <th></th>\n",
       "      <th>PassengerId</th>\n",
       "      <th>HomePlanet</th>\n",
       "      <th>CryoSleep</th>\n",
       "      <th>Cabin</th>\n",
       "      <th>Destination</th>\n",
       "      <th>Age</th>\n",
       "      <th>VIP</th>\n",
       "      <th>RoomService</th>\n",
       "      <th>FoodCourt</th>\n",
       "      <th>ShoppingMall</th>\n",
       "      <th>Spa</th>\n",
       "      <th>VRDeck</th>\n",
       "      <th>Name</th>\n",
       "      <th>Transported</th>\n",
       "      <th>AgeGroup</th>\n",
       "      <th>Total_Exp</th>\n",
       "      <th>SpentMoney</th>\n",
       "      <th>Group</th>\n",
       "      <th>Group_size</th>\n",
       "    </tr>\n",
       "  </thead>\n",
       "  <tbody>\n",
       "    <tr>\n",
       "      <th>0</th>\n",
       "      <td>0001_01</td>\n",
       "      <td>Europa</td>\n",
       "      <td>False</td>\n",
       "      <td>B/0/P</td>\n",
       "      <td>TRAPPIST-1e</td>\n",
       "      <td>39.0</td>\n",
       "      <td>False</td>\n",
       "      <td>0.0</td>\n",
       "      <td>0.0</td>\n",
       "      <td>0.0</td>\n",
       "      <td>0.0</td>\n",
       "      <td>0.0</td>\n",
       "      <td>Maham Ofracculy</td>\n",
       "      <td>False</td>\n",
       "      <td>Age_31-50</td>\n",
       "      <td>0.0</td>\n",
       "      <td>0</td>\n",
       "      <td>1</td>\n",
       "      <td>1</td>\n",
       "    </tr>\n",
       "    <tr>\n",
       "      <th>1</th>\n",
       "      <td>0002_01</td>\n",
       "      <td>Earth</td>\n",
       "      <td>False</td>\n",
       "      <td>F/0/S</td>\n",
       "      <td>TRAPPIST-1e</td>\n",
       "      <td>24.0</td>\n",
       "      <td>False</td>\n",
       "      <td>109.0</td>\n",
       "      <td>9.0</td>\n",
       "      <td>25.0</td>\n",
       "      <td>549.0</td>\n",
       "      <td>44.0</td>\n",
       "      <td>Juanna Vines</td>\n",
       "      <td>True</td>\n",
       "      <td>Age_18-25</td>\n",
       "      <td>736.0</td>\n",
       "      <td>1</td>\n",
       "      <td>2</td>\n",
       "      <td>1</td>\n",
       "    </tr>\n",
       "    <tr>\n",
       "      <th>2</th>\n",
       "      <td>0003_01</td>\n",
       "      <td>Europa</td>\n",
       "      <td>False</td>\n",
       "      <td>A/0/S</td>\n",
       "      <td>TRAPPIST-1e</td>\n",
       "      <td>58.0</td>\n",
       "      <td>True</td>\n",
       "      <td>43.0</td>\n",
       "      <td>3576.0</td>\n",
       "      <td>0.0</td>\n",
       "      <td>6715.0</td>\n",
       "      <td>49.0</td>\n",
       "      <td>Altark Susent</td>\n",
       "      <td>False</td>\n",
       "      <td>Age_51+</td>\n",
       "      <td>10383.0</td>\n",
       "      <td>1</td>\n",
       "      <td>3</td>\n",
       "      <td>2</td>\n",
       "    </tr>\n",
       "    <tr>\n",
       "      <th>3</th>\n",
       "      <td>0003_02</td>\n",
       "      <td>Europa</td>\n",
       "      <td>False</td>\n",
       "      <td>A/0/S</td>\n",
       "      <td>TRAPPIST-1e</td>\n",
       "      <td>33.0</td>\n",
       "      <td>False</td>\n",
       "      <td>0.0</td>\n",
       "      <td>1283.0</td>\n",
       "      <td>371.0</td>\n",
       "      <td>3329.0</td>\n",
       "      <td>193.0</td>\n",
       "      <td>Solam Susent</td>\n",
       "      <td>False</td>\n",
       "      <td>Age_31-50</td>\n",
       "      <td>5176.0</td>\n",
       "      <td>1</td>\n",
       "      <td>3</td>\n",
       "      <td>2</td>\n",
       "    </tr>\n",
       "    <tr>\n",
       "      <th>4</th>\n",
       "      <td>0004_01</td>\n",
       "      <td>Earth</td>\n",
       "      <td>False</td>\n",
       "      <td>F/1/S</td>\n",
       "      <td>TRAPPIST-1e</td>\n",
       "      <td>16.0</td>\n",
       "      <td>False</td>\n",
       "      <td>303.0</td>\n",
       "      <td>70.0</td>\n",
       "      <td>151.0</td>\n",
       "      <td>565.0</td>\n",
       "      <td>2.0</td>\n",
       "      <td>Willy Santantines</td>\n",
       "      <td>True</td>\n",
       "      <td>Age_13-17</td>\n",
       "      <td>1091.0</td>\n",
       "      <td>1</td>\n",
       "      <td>4</td>\n",
       "      <td>1</td>\n",
       "    </tr>\n",
       "  </tbody>\n",
       "</table>\n",
       "</div>"
      ],
      "text/plain": [
       "  PassengerId HomePlanet CryoSleep  Cabin  Destination   Age    VIP  \\\n",
       "0     0001_01     Europa     False  B/0/P  TRAPPIST-1e  39.0  False   \n",
       "1     0002_01      Earth     False  F/0/S  TRAPPIST-1e  24.0  False   \n",
       "2     0003_01     Europa     False  A/0/S  TRAPPIST-1e  58.0   True   \n",
       "3     0003_02     Europa     False  A/0/S  TRAPPIST-1e  33.0  False   \n",
       "4     0004_01      Earth     False  F/1/S  TRAPPIST-1e  16.0  False   \n",
       "\n",
       "   RoomService  FoodCourt  ShoppingMall     Spa  VRDeck               Name  \\\n",
       "0          0.0        0.0           0.0     0.0     0.0    Maham Ofracculy   \n",
       "1        109.0        9.0          25.0   549.0    44.0       Juanna Vines   \n",
       "2         43.0     3576.0           0.0  6715.0    49.0      Altark Susent   \n",
       "3          0.0     1283.0         371.0  3329.0   193.0       Solam Susent   \n",
       "4        303.0       70.0         151.0   565.0     2.0  Willy Santantines   \n",
       "\n",
       "   Transported   AgeGroup  Total_Exp  SpentMoney  Group  Group_size  \n",
       "0        False  Age_31-50        0.0           0      1           1  \n",
       "1         True  Age_18-25      736.0           1      2           1  \n",
       "2        False    Age_51+    10383.0           1      3           2  \n",
       "3        False  Age_31-50     5176.0           1      3           2  \n",
       "4         True  Age_13-17     1091.0           1      4           1  "
      ]
     },
     "execution_count": 25,
     "metadata": {},
     "output_type": "execute_result"
    }
   ],
   "source": [
    "train.head()"
   ]
  },
  {
   "cell_type": "code",
   "execution_count": null,
   "id": "4cddfc9a",
   "metadata": {
    "papermill": {
     "duration": 0.016714,
     "end_time": "2022-08-10T14:41:47.082869",
     "exception": false,
     "start_time": "2022-08-10T14:41:47.066155",
     "status": "completed"
    },
    "tags": []
   },
   "outputs": [],
   "source": []
  }
 ],
 "metadata": {
  "kernelspec": {
   "display_name": "Python 3",
   "language": "python",
   "name": "python3"
  },
  "language_info": {
   "codemirror_mode": {
    "name": "ipython",
    "version": 3
   },
   "file_extension": ".py",
   "mimetype": "text/x-python",
   "name": "python",
   "nbconvert_exporter": "python",
   "pygments_lexer": "ipython3",
   "version": "3.7.12"
  },
  "papermill": {
   "default_parameters": {},
   "duration": 32.379287,
   "end_time": "2022-08-10T14:41:48.226820",
   "environment_variables": {},
   "exception": null,
   "input_path": "__notebook__.ipynb",
   "output_path": "__notebook__.ipynb",
   "parameters": {},
   "start_time": "2022-08-10T14:41:15.847533",
   "version": "2.3.4"
  }
 },
 "nbformat": 4,
 "nbformat_minor": 5
}
