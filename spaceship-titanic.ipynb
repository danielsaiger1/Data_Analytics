{
 "cells": [
  {
   "cell_type": "code",
   "execution_count": 1,
   "id": "b75a50c7",
   "metadata": {
    "_cell_guid": "b1076dfc-b9ad-4769-8c92-a6c4dae69d19",
    "_uuid": "8f2839f25d086af736a60e9eeb907d3b93b6e0e5",
    "execution": {
     "iopub.execute_input": "2022-10-06T18:43:43.437534Z",
     "iopub.status.busy": "2022-10-06T18:43:43.436488Z",
     "iopub.status.idle": "2022-10-06T18:43:43.454872Z",
     "shell.execute_reply": "2022-10-06T18:43:43.453552Z"
    },
    "papermill": {
     "duration": 0.038606,
     "end_time": "2022-10-06T18:43:43.458146",
     "exception": false,
     "start_time": "2022-10-06T18:43:43.419540",
     "status": "completed"
    },
    "tags": []
   },
   "outputs": [
    {
     "name": "stdout",
     "output_type": "stream",
     "text": [
      "/kaggle/input/spaceship-titanic/sample_submission.csv\n",
      "/kaggle/input/spaceship-titanic/train.csv\n",
      "/kaggle/input/spaceship-titanic/test.csv\n"
     ]
    }
   ],
   "source": [
    "# This Python 3 environment comes with many helpful analytics libraries installed\n",
    "# It is defined by the kaggle/python Docker image: https://github.com/kaggle/docker-python\n",
    "# For example, here's several helpful packages to load\n",
    "\n",
    "import numpy as np # linear algebra\n",
    "import pandas as pd # data processing, CSV file I/O (e.g. pd.read_csv)\n",
    "\n",
    "# Input data files are available in the read-only \"../input/\" directory\n",
    "# For example, running this (by clicking run or pressing Shift+Enter) will list all files under the input directory\n",
    "\n",
    "import os\n",
    "for dirname, _, filenames in os.walk('/kaggle/input'):\n",
    "    for filename in filenames:\n",
    "        print(os.path.join(dirname, filename))\n",
    "\n",
    "# You can write up to 20GB to the current directory (/kaggle/working/) that gets preserved as output when you create a version using \"Save & Run All\" \n",
    "# You can also write temporary files to /kaggle/temp/, but they won't be saved outside of the current session"
   ]
  },
  {
   "cell_type": "markdown",
   "id": "912f2355",
   "metadata": {
    "papermill": {
     "duration": 0.013912,
     "end_time": "2022-10-06T18:43:43.486204",
     "exception": false,
     "start_time": "2022-10-06T18:43:43.472292",
     "status": "completed"
    },
    "tags": []
   },
   "source": [
    "## Introduction\n",
    "\n",
    "In this Notebook we will use binary classification algoithms to solve the Spaceship Titanic Challenge. \n",
    "\n",
    "Our goal is to predict wether a passenger is transported to an other dimension after the crash of the space titanic or not. \n",
    "\n"
   ]
  },
  {
   "cell_type": "markdown",
   "id": "7925dcb1",
   "metadata": {
    "papermill": {
     "duration": 0.013286,
     "end_time": "2022-10-06T18:43:43.514755",
     "exception": false,
     "start_time": "2022-10-06T18:43:43.501469",
     "status": "completed"
    },
    "tags": []
   },
   "source": [
    "![spaceship](https://qph.cf2.quoracdn.net/main-qimg-c8dabaf5c8e26b056f1eda7728c1d002-lq)"
   ]
  },
  {
   "cell_type": "markdown",
   "id": "0027ff22",
   "metadata": {
    "papermill": {
     "duration": 0.013625,
     "end_time": "2022-10-06T18:43:43.542649",
     "exception": false,
     "start_time": "2022-10-06T18:43:43.529024",
     "status": "completed"
    },
    "tags": []
   },
   "source": [
    "## The Dataset\n",
    "\n",
    "* **Train Data:**\n",
    "    * **PassengerId** - A unique Id for each passenger. Each Id takes the form gggg_pp where gggg indicates a group the passenger is travelling with and pp is their number within the group. People in a group are often family members, but not always.\n",
    "    * **HomePlanet** - The planet the passenger departed from, typically their planet of permanent residence.\n",
    "    * **CryoSleep** - Indicates whether the passenger elected to be put into suspended animation for the duration of the voyage. Passengers in cryosleep are confined to their cabins.\n",
    "    * **Cabin** - The cabin number where the passenger is staying. Takes the form deck/num/side, where side can be either P for Port or S for Starboard.\n",
    "    * **Destination** - The planet the passenger will be debarking to.\n",
    "    * **Age** - The age of the passenger.\n",
    "    * **VIP** - Whether the passenger has paid for special VIP service during the voyage.\n",
    "    * **RoomService, FoodCourt, ShoppingMall, Spa, VRDeck** - Amount the passenger has billed at each of the Spaceship Titanic's many luxury amenities.\n",
    "    * **Name** - The first and last names of the passenger.\n",
    "    * **Transported **- Whether the passenger was transported to another dimension. This is the target, the column we are trying to predict.\n",
    "    \n",
    "    \n",
    "* **Test Data:**\n",
    "    * Personal records for the remaining one-third (~4300) of the passengers, to be used as test data."
   ]
  },
  {
   "cell_type": "markdown",
   "id": "d90cc125",
   "metadata": {
    "papermill": {
     "duration": 0.014046,
     "end_time": "2022-10-06T18:43:43.571104",
     "exception": false,
     "start_time": "2022-10-06T18:43:43.557058",
     "status": "completed"
    },
    "tags": []
   },
   "source": [
    "## 1. Imports"
   ]
  },
  {
   "cell_type": "code",
   "execution_count": 2,
   "id": "810a4a08",
   "metadata": {
    "execution": {
     "iopub.execute_input": "2022-10-06T18:43:43.602059Z",
     "iopub.status.busy": "2022-10-06T18:43:43.601313Z",
     "iopub.status.idle": "2022-10-06T18:43:44.752715Z",
     "shell.execute_reply": "2022-10-06T18:43:44.751577Z"
    },
    "papermill": {
     "duration": 1.170111,
     "end_time": "2022-10-06T18:43:44.755794",
     "exception": false,
     "start_time": "2022-10-06T18:43:43.585683",
     "status": "completed"
    },
    "tags": []
   },
   "outputs": [],
   "source": [
    "import pandas as pd\n",
    "import numpy as np\n",
    "import matplotlib.pyplot as plt \n",
    "import seaborn as sns\n",
    "%matplotlib inline "
   ]
  },
  {
   "cell_type": "markdown",
   "id": "fe3dfc3b",
   "metadata": {
    "papermill": {
     "duration": 0.014194,
     "end_time": "2022-10-06T18:43:44.785456",
     "exception": false,
     "start_time": "2022-10-06T18:43:44.771262",
     "status": "completed"
    },
    "tags": []
   },
   "source": [
    "## 2. Loading the Data "
   ]
  },
  {
   "cell_type": "code",
   "execution_count": 3,
   "id": "6f1609fa",
   "metadata": {
    "execution": {
     "iopub.execute_input": "2022-10-06T18:43:44.816767Z",
     "iopub.status.busy": "2022-10-06T18:43:44.816382Z",
     "iopub.status.idle": "2022-10-06T18:43:44.902380Z",
     "shell.execute_reply": "2022-10-06T18:43:44.900665Z"
    },
    "papermill": {
     "duration": 0.105272,
     "end_time": "2022-10-06T18:43:44.905654",
     "exception": false,
     "start_time": "2022-10-06T18:43:44.800382",
     "status": "completed"
    },
    "tags": []
   },
   "outputs": [
    {
     "name": "stdout",
     "output_type": "stream",
     "text": [
      "The Training Set has: 8693 rows and 14 columns\n",
      "The Test Set has: 4277 rows and 13 columns\n"
     ]
    }
   ],
   "source": [
    "train = pd.read_csv('../input/spaceship-titanic/train.csv')\n",
    "test = pd.read_csv('../input/spaceship-titanic/test.csv')\n",
    "\n",
    "print('The Training Set has:',train.shape[0] ,'rows and' ,train.shape[1] ,'columns')\n",
    "print('The Test Set has:',test.shape[0],'rows and',test.shape[1],'columns')"
   ]
  },
  {
   "cell_type": "code",
   "execution_count": 4,
   "id": "6b344fae",
   "metadata": {
    "execution": {
     "iopub.execute_input": "2022-10-06T18:43:44.936291Z",
     "iopub.status.busy": "2022-10-06T18:43:44.935816Z",
     "iopub.status.idle": "2022-10-06T18:43:44.967674Z",
     "shell.execute_reply": "2022-10-06T18:43:44.966288Z"
    },
    "papermill": {
     "duration": 0.050599,
     "end_time": "2022-10-06T18:43:44.970300",
     "exception": false,
     "start_time": "2022-10-06T18:43:44.919701",
     "status": "completed"
    },
    "tags": []
   },
   "outputs": [
    {
     "data": {
      "text/html": [
       "<div>\n",
       "<style scoped>\n",
       "    .dataframe tbody tr th:only-of-type {\n",
       "        vertical-align: middle;\n",
       "    }\n",
       "\n",
       "    .dataframe tbody tr th {\n",
       "        vertical-align: top;\n",
       "    }\n",
       "\n",
       "    .dataframe thead th {\n",
       "        text-align: right;\n",
       "    }\n",
       "</style>\n",
       "<table border=\"1\" class=\"dataframe\">\n",
       "  <thead>\n",
       "    <tr style=\"text-align: right;\">\n",
       "      <th></th>\n",
       "      <th>PassengerId</th>\n",
       "      <th>HomePlanet</th>\n",
       "      <th>CryoSleep</th>\n",
       "      <th>Cabin</th>\n",
       "      <th>Destination</th>\n",
       "      <th>Age</th>\n",
       "      <th>VIP</th>\n",
       "      <th>RoomService</th>\n",
       "      <th>FoodCourt</th>\n",
       "      <th>ShoppingMall</th>\n",
       "      <th>Spa</th>\n",
       "      <th>VRDeck</th>\n",
       "      <th>Name</th>\n",
       "      <th>Transported</th>\n",
       "    </tr>\n",
       "  </thead>\n",
       "  <tbody>\n",
       "    <tr>\n",
       "      <th>0</th>\n",
       "      <td>0001_01</td>\n",
       "      <td>Europa</td>\n",
       "      <td>False</td>\n",
       "      <td>B/0/P</td>\n",
       "      <td>TRAPPIST-1e</td>\n",
       "      <td>39.0</td>\n",
       "      <td>False</td>\n",
       "      <td>0.0</td>\n",
       "      <td>0.0</td>\n",
       "      <td>0.0</td>\n",
       "      <td>0.0</td>\n",
       "      <td>0.0</td>\n",
       "      <td>Maham Ofracculy</td>\n",
       "      <td>False</td>\n",
       "    </tr>\n",
       "    <tr>\n",
       "      <th>1</th>\n",
       "      <td>0002_01</td>\n",
       "      <td>Earth</td>\n",
       "      <td>False</td>\n",
       "      <td>F/0/S</td>\n",
       "      <td>TRAPPIST-1e</td>\n",
       "      <td>24.0</td>\n",
       "      <td>False</td>\n",
       "      <td>109.0</td>\n",
       "      <td>9.0</td>\n",
       "      <td>25.0</td>\n",
       "      <td>549.0</td>\n",
       "      <td>44.0</td>\n",
       "      <td>Juanna Vines</td>\n",
       "      <td>True</td>\n",
       "    </tr>\n",
       "    <tr>\n",
       "      <th>2</th>\n",
       "      <td>0003_01</td>\n",
       "      <td>Europa</td>\n",
       "      <td>False</td>\n",
       "      <td>A/0/S</td>\n",
       "      <td>TRAPPIST-1e</td>\n",
       "      <td>58.0</td>\n",
       "      <td>True</td>\n",
       "      <td>43.0</td>\n",
       "      <td>3576.0</td>\n",
       "      <td>0.0</td>\n",
       "      <td>6715.0</td>\n",
       "      <td>49.0</td>\n",
       "      <td>Altark Susent</td>\n",
       "      <td>False</td>\n",
       "    </tr>\n",
       "    <tr>\n",
       "      <th>3</th>\n",
       "      <td>0003_02</td>\n",
       "      <td>Europa</td>\n",
       "      <td>False</td>\n",
       "      <td>A/0/S</td>\n",
       "      <td>TRAPPIST-1e</td>\n",
       "      <td>33.0</td>\n",
       "      <td>False</td>\n",
       "      <td>0.0</td>\n",
       "      <td>1283.0</td>\n",
       "      <td>371.0</td>\n",
       "      <td>3329.0</td>\n",
       "      <td>193.0</td>\n",
       "      <td>Solam Susent</td>\n",
       "      <td>False</td>\n",
       "    </tr>\n",
       "    <tr>\n",
       "      <th>4</th>\n",
       "      <td>0004_01</td>\n",
       "      <td>Earth</td>\n",
       "      <td>False</td>\n",
       "      <td>F/1/S</td>\n",
       "      <td>TRAPPIST-1e</td>\n",
       "      <td>16.0</td>\n",
       "      <td>False</td>\n",
       "      <td>303.0</td>\n",
       "      <td>70.0</td>\n",
       "      <td>151.0</td>\n",
       "      <td>565.0</td>\n",
       "      <td>2.0</td>\n",
       "      <td>Willy Santantines</td>\n",
       "      <td>True</td>\n",
       "    </tr>\n",
       "  </tbody>\n",
       "</table>\n",
       "</div>"
      ],
      "text/plain": [
       "  PassengerId HomePlanet CryoSleep  Cabin  Destination   Age    VIP  \\\n",
       "0     0001_01     Europa     False  B/0/P  TRAPPIST-1e  39.0  False   \n",
       "1     0002_01      Earth     False  F/0/S  TRAPPIST-1e  24.0  False   \n",
       "2     0003_01     Europa     False  A/0/S  TRAPPIST-1e  58.0   True   \n",
       "3     0003_02     Europa     False  A/0/S  TRAPPIST-1e  33.0  False   \n",
       "4     0004_01      Earth     False  F/1/S  TRAPPIST-1e  16.0  False   \n",
       "\n",
       "   RoomService  FoodCourt  ShoppingMall     Spa  VRDeck               Name  \\\n",
       "0          0.0        0.0           0.0     0.0     0.0    Maham Ofracculy   \n",
       "1        109.0        9.0          25.0   549.0    44.0       Juanna Vines   \n",
       "2         43.0     3576.0           0.0  6715.0    49.0      Altark Susent   \n",
       "3          0.0     1283.0         371.0  3329.0   193.0       Solam Susent   \n",
       "4        303.0       70.0         151.0   565.0     2.0  Willy Santantines   \n",
       "\n",
       "   Transported  \n",
       "0        False  \n",
       "1         True  \n",
       "2        False  \n",
       "3        False  \n",
       "4         True  "
      ]
     },
     "execution_count": 4,
     "metadata": {},
     "output_type": "execute_result"
    }
   ],
   "source": [
    "train.head()"
   ]
  },
  {
   "cell_type": "markdown",
   "id": "8133ec8d",
   "metadata": {
    "papermill": {
     "duration": 0.013267,
     "end_time": "2022-10-06T18:43:44.997189",
     "exception": false,
     "start_time": "2022-10-06T18:43:44.983922",
     "status": "completed"
    },
    "tags": []
   },
   "source": [
    "## 3. Checking the state of the Data"
   ]
  },
  {
   "cell_type": "markdown",
   "id": "9f62666b",
   "metadata": {
    "papermill": {
     "duration": 0.01308,
     "end_time": "2022-10-06T18:43:45.023838",
     "exception": false,
     "start_time": "2022-10-06T18:43:45.010758",
     "status": "completed"
    },
    "tags": []
   },
   "source": [
    "### Missing values"
   ]
  },
  {
   "cell_type": "code",
   "execution_count": 5,
   "id": "952bb964",
   "metadata": {
    "execution": {
     "iopub.execute_input": "2022-10-06T18:43:45.053065Z",
     "iopub.status.busy": "2022-10-06T18:43:45.052640Z",
     "iopub.status.idle": "2022-10-06T18:43:45.067136Z",
     "shell.execute_reply": "2022-10-06T18:43:45.066184Z"
    },
    "papermill": {
     "duration": 0.032231,
     "end_time": "2022-10-06T18:43:45.069553",
     "exception": false,
     "start_time": "2022-10-06T18:43:45.037322",
     "status": "completed"
    },
    "tags": []
   },
   "outputs": [
    {
     "name": "stdout",
     "output_type": "stream",
     "text": [
      "The train dataset has 2324 missing values\n",
      "The test dataset has 1117 missing values\n"
     ]
    }
   ],
   "source": [
    "print('The train dataset has', sum(train.isnull().sum()), 'missing values')\n",
    "print('The test dataset has', sum(test.isnull().sum()), 'missing values')"
   ]
  },
  {
   "cell_type": "markdown",
   "id": "341ac1a6",
   "metadata": {
    "papermill": {
     "duration": 0.015793,
     "end_time": "2022-10-06T18:43:45.100370",
     "exception": false,
     "start_time": "2022-10-06T18:43:45.084577",
     "status": "completed"
    },
    "tags": []
   },
   "source": [
    "### Distribution of the missing values\n",
    "\n",
    "We can see that every feature except for the Passenger ID contains null values."
   ]
  },
  {
   "cell_type": "code",
   "execution_count": 6,
   "id": "6526d858",
   "metadata": {
    "execution": {
     "iopub.execute_input": "2022-10-06T18:43:45.131413Z",
     "iopub.status.busy": "2022-10-06T18:43:45.130968Z",
     "iopub.status.idle": "2022-10-06T18:43:45.146784Z",
     "shell.execute_reply": "2022-10-06T18:43:45.145206Z"
    },
    "papermill": {
     "duration": 0.034359,
     "end_time": "2022-10-06T18:43:45.149489",
     "exception": false,
     "start_time": "2022-10-06T18:43:45.115130",
     "status": "completed"
    },
    "tags": []
   },
   "outputs": [
    {
     "name": "stdout",
     "output_type": "stream",
     "text": [
      "Training Set:\n",
      "PassengerId       0\n",
      "HomePlanet      201\n",
      "CryoSleep       217\n",
      "Cabin           199\n",
      "Destination     182\n",
      "Age             179\n",
      "VIP             203\n",
      "RoomService     181\n",
      "FoodCourt       183\n",
      "ShoppingMall    208\n",
      "Spa             183\n",
      "VRDeck          188\n",
      "Name            200\n",
      "Transported       0\n",
      "dtype: int64\n",
      "\n",
      "Test Set:\n",
      "PassengerId       0\n",
      "HomePlanet       87\n",
      "CryoSleep        93\n",
      "Cabin           100\n",
      "Destination      92\n",
      "Age              91\n",
      "VIP              93\n",
      "RoomService      82\n",
      "FoodCourt       106\n",
      "ShoppingMall     98\n",
      "Spa             101\n",
      "VRDeck           80\n",
      "Name             94\n",
      "dtype: int64\n"
     ]
    }
   ],
   "source": [
    "print('Training Set:')\n",
    "print(train.isnull().sum())\n",
    "print('')\n",
    "print('Test Set:')\n",
    "print(test.isnull().sum())"
   ]
  },
  {
   "cell_type": "markdown",
   "id": "95863cff",
   "metadata": {
    "papermill": {
     "duration": 0.013809,
     "end_time": "2022-10-06T18:43:45.176984",
     "exception": false,
     "start_time": "2022-10-06T18:43:45.163175",
     "status": "completed"
    },
    "tags": []
   },
   "source": [
    "### Unique Values in every column"
   ]
  },
  {
   "cell_type": "code",
   "execution_count": 7,
   "id": "947ed56b",
   "metadata": {
    "execution": {
     "iopub.execute_input": "2022-10-06T18:43:45.205708Z",
     "iopub.status.busy": "2022-10-06T18:43:45.205281Z",
     "iopub.status.idle": "2022-10-06T18:43:45.230730Z",
     "shell.execute_reply": "2022-10-06T18:43:45.229398Z"
    },
    "papermill": {
     "duration": 0.043036,
     "end_time": "2022-10-06T18:43:45.233487",
     "exception": false,
     "start_time": "2022-10-06T18:43:45.190451",
     "status": "completed"
    },
    "tags": []
   },
   "outputs": [
    {
     "data": {
      "text/plain": [
       "PassengerId     8693\n",
       "HomePlanet         3\n",
       "CryoSleep          2\n",
       "Cabin           6560\n",
       "Destination        3\n",
       "Age               80\n",
       "VIP                2\n",
       "RoomService     1273\n",
       "FoodCourt       1507\n",
       "ShoppingMall    1115\n",
       "Spa             1327\n",
       "VRDeck          1306\n",
       "Name            8473\n",
       "Transported        2\n",
       "dtype: int64"
      ]
     },
     "execution_count": 7,
     "metadata": {},
     "output_type": "execute_result"
    }
   ],
   "source": [
    "train.nunique()"
   ]
  },
  {
   "cell_type": "markdown",
   "id": "7167c697",
   "metadata": {
    "papermill": {
     "duration": 0.014478,
     "end_time": "2022-10-06T18:43:45.261680",
     "exception": false,
     "start_time": "2022-10-06T18:43:45.247202",
     "status": "completed"
    },
    "tags": []
   },
   "source": [
    "### Data Types\n",
    "All Data needs to be transformed into numeric values for later model building"
   ]
  },
  {
   "cell_type": "code",
   "execution_count": 8,
   "id": "8aec5163",
   "metadata": {
    "execution": {
     "iopub.execute_input": "2022-10-06T18:43:45.292168Z",
     "iopub.status.busy": "2022-10-06T18:43:45.291706Z",
     "iopub.status.idle": "2022-10-06T18:43:45.306433Z",
     "shell.execute_reply": "2022-10-06T18:43:45.305060Z"
    },
    "papermill": {
     "duration": 0.032905,
     "end_time": "2022-10-06T18:43:45.309043",
     "exception": false,
     "start_time": "2022-10-06T18:43:45.276138",
     "status": "completed"
    },
    "tags": []
   },
   "outputs": [
    {
     "name": "stdout",
     "output_type": "stream",
     "text": [
      "PassengerId      object\n",
      "HomePlanet       object\n",
      "CryoSleep        object\n",
      "Cabin            object\n",
      "Destination      object\n",
      "Age             float64\n",
      "VIP              object\n",
      "RoomService     float64\n",
      "FoodCourt       float64\n",
      "ShoppingMall    float64\n",
      "Spa             float64\n",
      "VRDeck          float64\n",
      "Name             object\n",
      "Transported        bool\n",
      "dtype: object\n"
     ]
    }
   ],
   "source": [
    "print(train.dtypes)\n",
    "\n",
    "# Saving the object features as a list \n",
    "obj = train.select_dtypes(['object']).columns"
   ]
  },
  {
   "cell_type": "markdown",
   "id": "1aab3c71",
   "metadata": {
    "papermill": {
     "duration": 0.013347,
     "end_time": "2022-10-06T18:43:45.337678",
     "exception": false,
     "start_time": "2022-10-06T18:43:45.324331",
     "status": "completed"
    },
    "tags": []
   },
   "source": [
    "### Checking the distribution of our target feature ('Transported') to see if we have to change our sampling \n",
    "The target feature seems to be nearly even distributed, so we have to do no over- or undersampling"
   ]
  },
  {
   "cell_type": "code",
   "execution_count": 9,
   "id": "0aa6a2ce",
   "metadata": {
    "execution": {
     "iopub.execute_input": "2022-10-06T18:43:45.368875Z",
     "iopub.status.busy": "2022-10-06T18:43:45.368080Z",
     "iopub.status.idle": "2022-10-06T18:43:45.582346Z",
     "shell.execute_reply": "2022-10-06T18:43:45.580800Z"
    },
    "papermill": {
     "duration": 0.233895,
     "end_time": "2022-10-06T18:43:45.585353",
     "exception": false,
     "start_time": "2022-10-06T18:43:45.351458",
     "status": "completed"
    },
    "tags": []
   },
   "outputs": [
    {
     "data": {
      "text/plain": [
       "<AxesSubplot:xlabel='Transported', ylabel='count'>"
      ]
     },
     "execution_count": 9,
     "metadata": {},
     "output_type": "execute_result"
    },
    {
     "data": {
      "image/png": "[encoded data removed]",
      "text/plain": [
       "<Figure size 432x288 with 1 Axes>"
      ]
     },
     "metadata": {
      "needs_background": "light"
     },
     "output_type": "display_data"
    }
   ],
   "source": [
    "sns.countplot(data = train, x = \"Transported\")"
   ]
  },
  {
   "cell_type": "markdown",
   "id": "bb328095",
   "metadata": {
    "papermill": {
     "duration": 0.015916,
     "end_time": "2022-10-06T18:43:45.617158",
     "exception": false,
     "start_time": "2022-10-06T18:43:45.601242",
     "status": "completed"
    },
    "tags": []
   },
   "source": [
    "## 4. Explorative Data Analysis (EDA)"
   ]
  },
  {
   "cell_type": "code",
   "execution_count": 10,
   "id": "7e448821",
   "metadata": {
    "execution": {
     "iopub.execute_input": "2022-10-06T18:43:45.652610Z",
     "iopub.status.busy": "2022-10-06T18:43:45.652165Z",
     "iopub.status.idle": "2022-10-06T18:43:45.677012Z",
     "shell.execute_reply": "2022-10-06T18:43:45.675708Z"
    },
    "papermill": {
     "duration": 0.046075,
     "end_time": "2022-10-06T18:43:45.679506",
     "exception": false,
     "start_time": "2022-10-06T18:43:45.633431",
     "status": "completed"
    },
    "tags": []
   },
   "outputs": [
    {
     "data": {
      "text/html": [
       "<div>\n",
       "<style scoped>\n",
       "    .dataframe tbody tr th:only-of-type {\n",
       "        vertical-align: middle;\n",
       "    }\n",
       "\n",
       "    .dataframe tbody tr th {\n",
       "        vertical-align: top;\n",
       "    }\n",
       "\n",
       "    .dataframe thead th {\n",
       "        text-align: right;\n",
       "    }\n",
       "</style>\n",
       "<table border=\"1\" class=\"dataframe\">\n",
       "  <thead>\n",
       "    <tr style=\"text-align: right;\">\n",
       "      <th></th>\n",
       "      <th>PassengerId</th>\n",
       "      <th>HomePlanet</th>\n",
       "      <th>CryoSleep</th>\n",
       "      <th>Cabin</th>\n",
       "      <th>Destination</th>\n",
       "      <th>Age</th>\n",
       "      <th>VIP</th>\n",
       "      <th>RoomService</th>\n",
       "      <th>FoodCourt</th>\n",
       "      <th>ShoppingMall</th>\n",
       "      <th>Spa</th>\n",
       "      <th>VRDeck</th>\n",
       "      <th>Name</th>\n",
       "      <th>Transported</th>\n",
       "    </tr>\n",
       "  </thead>\n",
       "  <tbody>\n",
       "    <tr>\n",
       "      <th>0</th>\n",
       "      <td>0001_01</td>\n",
       "      <td>Europa</td>\n",
       "      <td>False</td>\n",
       "      <td>B/0/P</td>\n",
       "      <td>TRAPPIST-1e</td>\n",
       "      <td>39.0</td>\n",
       "      <td>False</td>\n",
       "      <td>0.0</td>\n",
       "      <td>0.0</td>\n",
       "      <td>0.0</td>\n",
       "      <td>0.0</td>\n",
       "      <td>0.0</td>\n",
       "      <td>Maham Ofracculy</td>\n",
       "      <td>False</td>\n",
       "    </tr>\n",
       "    <tr>\n",
       "      <th>1</th>\n",
       "      <td>0002_01</td>\n",
       "      <td>Earth</td>\n",
       "      <td>False</td>\n",
       "      <td>F/0/S</td>\n",
       "      <td>TRAPPIST-1e</td>\n",
       "      <td>24.0</td>\n",
       "      <td>False</td>\n",
       "      <td>109.0</td>\n",
       "      <td>9.0</td>\n",
       "      <td>25.0</td>\n",
       "      <td>549.0</td>\n",
       "      <td>44.0</td>\n",
       "      <td>Juanna Vines</td>\n",
       "      <td>True</td>\n",
       "    </tr>\n",
       "    <tr>\n",
       "      <th>2</th>\n",
       "      <td>0003_01</td>\n",
       "      <td>Europa</td>\n",
       "      <td>False</td>\n",
       "      <td>A/0/S</td>\n",
       "      <td>TRAPPIST-1e</td>\n",
       "      <td>58.0</td>\n",
       "      <td>True</td>\n",
       "      <td>43.0</td>\n",
       "      <td>3576.0</td>\n",
       "      <td>0.0</td>\n",
       "      <td>6715.0</td>\n",
       "      <td>49.0</td>\n",
       "      <td>Altark Susent</td>\n",
       "      <td>False</td>\n",
       "    </tr>\n",
       "    <tr>\n",
       "      <th>3</th>\n",
       "      <td>0003_02</td>\n",
       "      <td>Europa</td>\n",
       "      <td>False</td>\n",
       "      <td>A/0/S</td>\n",
       "      <td>TRAPPIST-1e</td>\n",
       "      <td>33.0</td>\n",
       "      <td>False</td>\n",
       "      <td>0.0</td>\n",
       "      <td>1283.0</td>\n",
       "      <td>371.0</td>\n",
       "      <td>3329.0</td>\n",
       "      <td>193.0</td>\n",
       "      <td>Solam Susent</td>\n",
       "      <td>False</td>\n",
       "    </tr>\n",
       "    <tr>\n",
       "      <th>4</th>\n",
       "      <td>0004_01</td>\n",
       "      <td>Earth</td>\n",
       "      <td>False</td>\n",
       "      <td>F/1/S</td>\n",
       "      <td>TRAPPIST-1e</td>\n",
       "      <td>16.0</td>\n",
       "      <td>False</td>\n",
       "      <td>303.0</td>\n",
       "      <td>70.0</td>\n",
       "      <td>151.0</td>\n",
       "      <td>565.0</td>\n",
       "      <td>2.0</td>\n",
       "      <td>Willy Santantines</td>\n",
       "      <td>True</td>\n",
       "    </tr>\n",
       "  </tbody>\n",
       "</table>\n",
       "</div>"
      ],
      "text/plain": [
       "  PassengerId HomePlanet CryoSleep  Cabin  Destination   Age    VIP  \\\n",
       "0     0001_01     Europa     False  B/0/P  TRAPPIST-1e  39.0  False   \n",
       "1     0002_01      Earth     False  F/0/S  TRAPPIST-1e  24.0  False   \n",
       "2     0003_01     Europa     False  A/0/S  TRAPPIST-1e  58.0   True   \n",
       "3     0003_02     Europa     False  A/0/S  TRAPPIST-1e  33.0  False   \n",
       "4     0004_01      Earth     False  F/1/S  TRAPPIST-1e  16.0  False   \n",
       "\n",
       "   RoomService  FoodCourt  ShoppingMall     Spa  VRDeck               Name  \\\n",
       "0          0.0        0.0           0.0     0.0     0.0    Maham Ofracculy   \n",
       "1        109.0        9.0          25.0   549.0    44.0       Juanna Vines   \n",
       "2         43.0     3576.0           0.0  6715.0    49.0      Altark Susent   \n",
       "3          0.0     1283.0         371.0  3329.0   193.0       Solam Susent   \n",
       "4        303.0       70.0         151.0   565.0     2.0  Willy Santantines   \n",
       "\n",
       "   Transported  \n",
       "0        False  \n",
       "1         True  \n",
       "2        False  \n",
       "3        False  \n",
       "4         True  "
      ]
     },
     "execution_count": 10,
     "metadata": {},
     "output_type": "execute_result"
    }
   ],
   "source": [
    "train.head()"
   ]
  },
  {
   "cell_type": "code",
   "execution_count": 11,
   "id": "0acf4e0a",
   "metadata": {
    "execution": {
     "iopub.execute_input": "2022-10-06T18:43:45.711384Z",
     "iopub.status.busy": "2022-10-06T18:43:45.710700Z",
     "iopub.status.idle": "2022-10-06T18:43:45.750324Z",
     "shell.execute_reply": "2022-10-06T18:43:45.748890Z"
    },
    "papermill": {
     "duration": 0.059401,
     "end_time": "2022-10-06T18:43:45.753450",
     "exception": false,
     "start_time": "2022-10-06T18:43:45.694049",
     "status": "completed"
    },
    "tags": []
   },
   "outputs": [
    {
     "data": {
      "text/html": [
       "<div>\n",
       "<style scoped>\n",
       "    .dataframe tbody tr th:only-of-type {\n",
       "        vertical-align: middle;\n",
       "    }\n",
       "\n",
       "    .dataframe tbody tr th {\n",
       "        vertical-align: top;\n",
       "    }\n",
       "\n",
       "    .dataframe thead th {\n",
       "        text-align: right;\n",
       "    }\n",
       "</style>\n",
       "<table border=\"1\" class=\"dataframe\">\n",
       "  <thead>\n",
       "    <tr style=\"text-align: right;\">\n",
       "      <th></th>\n",
       "      <th>Age</th>\n",
       "      <th>RoomService</th>\n",
       "      <th>FoodCourt</th>\n",
       "      <th>ShoppingMall</th>\n",
       "      <th>Spa</th>\n",
       "      <th>VRDeck</th>\n",
       "    </tr>\n",
       "  </thead>\n",
       "  <tbody>\n",
       "    <tr>\n",
       "      <th>count</th>\n",
       "      <td>8514.000000</td>\n",
       "      <td>8512.000000</td>\n",
       "      <td>8510.000000</td>\n",
       "      <td>8485.000000</td>\n",
       "      <td>8510.000000</td>\n",
       "      <td>8505.000000</td>\n",
       "    </tr>\n",
       "    <tr>\n",
       "      <th>mean</th>\n",
       "      <td>28.827930</td>\n",
       "      <td>224.687617</td>\n",
       "      <td>458.077203</td>\n",
       "      <td>173.729169</td>\n",
       "      <td>311.138778</td>\n",
       "      <td>304.854791</td>\n",
       "    </tr>\n",
       "    <tr>\n",
       "      <th>std</th>\n",
       "      <td>14.489021</td>\n",
       "      <td>666.717663</td>\n",
       "      <td>1611.489240</td>\n",
       "      <td>604.696458</td>\n",
       "      <td>1136.705535</td>\n",
       "      <td>1145.717189</td>\n",
       "    </tr>\n",
       "    <tr>\n",
       "      <th>min</th>\n",
       "      <td>0.000000</td>\n",
       "      <td>0.000000</td>\n",
       "      <td>0.000000</td>\n",
       "      <td>0.000000</td>\n",
       "      <td>0.000000</td>\n",
       "      <td>0.000000</td>\n",
       "    </tr>\n",
       "    <tr>\n",
       "      <th>25%</th>\n",
       "      <td>19.000000</td>\n",
       "      <td>0.000000</td>\n",
       "      <td>0.000000</td>\n",
       "      <td>0.000000</td>\n",
       "      <td>0.000000</td>\n",
       "      <td>0.000000</td>\n",
       "    </tr>\n",
       "    <tr>\n",
       "      <th>50%</th>\n",
       "      <td>27.000000</td>\n",
       "      <td>0.000000</td>\n",
       "      <td>0.000000</td>\n",
       "      <td>0.000000</td>\n",
       "      <td>0.000000</td>\n",
       "      <td>0.000000</td>\n",
       "    </tr>\n",
       "    <tr>\n",
       "      <th>75%</th>\n",
       "      <td>38.000000</td>\n",
       "      <td>47.000000</td>\n",
       "      <td>76.000000</td>\n",
       "      <td>27.000000</td>\n",
       "      <td>59.000000</td>\n",
       "      <td>46.000000</td>\n",
       "    </tr>\n",
       "    <tr>\n",
       "      <th>max</th>\n",
       "      <td>79.000000</td>\n",
       "      <td>14327.000000</td>\n",
       "      <td>29813.000000</td>\n",
       "      <td>23492.000000</td>\n",
       "      <td>22408.000000</td>\n",
       "      <td>24133.000000</td>\n",
       "    </tr>\n",
       "  </tbody>\n",
       "</table>\n",
       "</div>"
      ],
      "text/plain": [
       "               Age   RoomService     FoodCourt  ShoppingMall           Spa  \\\n",
       "count  8514.000000   8512.000000   8510.000000   8485.000000   8510.000000   \n",
       "mean     28.827930    224.687617    458.077203    173.729169    311.138778   \n",
       "std      14.489021    666.717663   1611.489240    604.696458   1136.705535   \n",
       "min       0.000000      0.000000      0.000000      0.000000      0.000000   \n",
       "25%      19.000000      0.000000      0.000000      0.000000      0.000000   \n",
       "50%      27.000000      0.000000      0.000000      0.000000      0.000000   \n",
       "75%      38.000000     47.000000     76.000000     27.000000     59.000000   \n",
       "max      79.000000  14327.000000  29813.000000  23492.000000  22408.000000   \n",
       "\n",
       "             VRDeck  \n",
       "count   8505.000000  \n",
       "mean     304.854791  \n",
       "std     1145.717189  \n",
       "min        0.000000  \n",
       "25%        0.000000  \n",
       "50%        0.000000  \n",
       "75%       46.000000  \n",
       "max    24133.000000  "
      ]
     },
     "execution_count": 11,
     "metadata": {},
     "output_type": "execute_result"
    }
   ],
   "source": [
    "train.describe()"
   ]
  },
  {
   "cell_type": "markdown",
   "id": "5c9e160c",
   "metadata": {
    "papermill": {
     "duration": 0.016477,
     "end_time": "2022-10-06T18:43:45.786535",
     "exception": false,
     "start_time": "2022-10-06T18:43:45.770058",
     "status": "completed"
    },
    "tags": []
   },
   "source": [
    "### Continuous Feature Correlation with Transported"
   ]
  },
  {
   "cell_type": "code",
   "execution_count": 12,
   "id": "66d5894e",
   "metadata": {
    "execution": {
     "iopub.execute_input": "2022-10-06T18:43:45.819692Z",
     "iopub.status.busy": "2022-10-06T18:43:45.819311Z",
     "iopub.status.idle": "2022-10-06T18:43:46.069221Z",
     "shell.execute_reply": "2022-10-06T18:43:46.067905Z"
    },
    "papermill": {
     "duration": 0.272167,
     "end_time": "2022-10-06T18:43:46.074857",
     "exception": false,
     "start_time": "2022-10-06T18:43:45.802690",
     "status": "completed"
    },
    "tags": []
   },
   "outputs": [
    {
     "name": "stdout",
     "output_type": "stream",
     "text": [
      "Age            -0.075026\n",
      "RoomService    -0.244611\n",
      "FoodCourt       0.046566\n",
      "ShoppingMall    0.010141\n",
      "Spa            -0.221131\n",
      "VRDeck         -0.207075\n",
      "Transported     1.000000\n",
      "Name: Transported, dtype: float64\n"
     ]
    },
    {
     "data": {
      "text/plain": [
       "<AxesSubplot:>"
      ]
     },
     "execution_count": 12,
     "metadata": {},
     "output_type": "execute_result"
    },
    {
     "data": {
      "image/png": "[encoded data removed]",
      "text/plain": [
       "<Figure size 432x288 with 1 Axes>"
      ]
     },
     "metadata": {
      "needs_background": "light"
     },
     "output_type": "display_data"
    }
   ],
   "source": [
    "print(train.corr()['Transported'])\n",
    "\n",
    "train.corr()['Transported'].drop('Transported').sort_values(ascending = False).plot(kind = 'bar')"
   ]
  },
  {
   "cell_type": "markdown",
   "id": "cf791b5e",
   "metadata": {
    "papermill": {
     "duration": 0.015093,
     "end_time": "2022-10-06T18:43:46.106585",
     "exception": false,
     "start_time": "2022-10-06T18:43:46.091492",
     "status": "completed"
    },
    "tags": []
   },
   "source": [
    "### Age Distribution\n",
    "\n",
    "We can see that:\n",
    "\n",
    "* Most Passengers are in the range from 13 to 35 years old\n",
    "* Younger Passengers  in the range from 0 - 18 have a higher probability to get transported than older passengers \n"
   ]
  },
  {
   "cell_type": "code",
   "execution_count": 13,
   "id": "f446ef12",
   "metadata": {
    "execution": {
     "iopub.execute_input": "2022-10-06T18:43:46.139057Z",
     "iopub.status.busy": "2022-10-06T18:43:46.138605Z",
     "iopub.status.idle": "2022-10-06T18:43:46.901941Z",
     "shell.execute_reply": "2022-10-06T18:43:46.900568Z"
    },
    "papermill": {
     "duration": 0.782873,
     "end_time": "2022-10-06T18:43:46.904649",
     "exception": false,
     "start_time": "2022-10-06T18:43:46.121776",
     "status": "completed"
    },
    "tags": []
   },
   "outputs": [
    {
     "data": {
      "text/plain": [
       "<AxesSubplot:xlabel='Age', ylabel='Count'>"
      ]
     },
     "execution_count": 13,
     "metadata": {},
     "output_type": "execute_result"
    },
    {
     "data": {
      "image/png": "[encoded data removed]",
      "text/plain": [
       "<Figure size 864x360 with 2 Axes>"
      ]
     },
     "metadata": {
      "needs_background": "light"
     },
     "output_type": "display_data"
    }
   ],
   "source": [
    "fig, axs = plt.subplots(ncols = 2, nrows = 1, figsize = (12,5))\n",
    "\n",
    "sns.histplot(x = \"Age\", data = train, kde = True, ax = axs[0])\n",
    "sns.histplot(x = \"Age\", data = train, hue = \"Transported\", kde = True, ax = axs[1])"
   ]
  },
  {
   "cell_type": "markdown",
   "id": "42c24e42",
   "metadata": {
    "papermill": {
     "duration": 0.015412,
     "end_time": "2022-10-06T18:43:46.935962",
     "exception": false,
     "start_time": "2022-10-06T18:43:46.920550",
     "status": "completed"
    },
    "tags": []
   },
   "source": [
    "### VRDeck, Spa, Room service and Shopping Mall\n",
    "\n",
    "We'll now have a closer look at the Spaceship Titanic's luxury amenities and how their relationship to the Transported feature looks like.\n",
    "\n",
    "* Most of the passengers used very little to none luxury amenities\n",
    "* Except for the shooping mall users, the passengers who used none to very little luxury amenities, have a higher chance to be rescued. "
   ]
  },
  {
   "cell_type": "code",
   "execution_count": 14,
   "id": "684fa1af",
   "metadata": {
    "execution": {
     "iopub.execute_input": "2022-10-06T18:43:46.969337Z",
     "iopub.status.busy": "2022-10-06T18:43:46.968902Z",
     "iopub.status.idle": "2022-10-06T18:43:48.484395Z",
     "shell.execute_reply": "2022-10-06T18:43:48.483166Z"
    },
    "papermill": {
     "duration": 1.53519,
     "end_time": "2022-10-06T18:43:48.486877",
     "exception": false,
     "start_time": "2022-10-06T18:43:46.951687",
     "status": "completed"
    },
    "tags": []
   },
   "outputs": [
    {
     "data": {
      "image/png": "[encoded data removed]",
      "text/plain": [
       "<Figure size 1080x360 with 5 Axes>"
      ]
     },
     "metadata": {
      "needs_background": "light"
     },
     "output_type": "display_data"
    }
   ],
   "source": [
    "lux_am = ['VRDeck', 'Spa', 'RoomService', 'ShoppingMall', 'FoodCourt']\n",
    "\n",
    "fig, axs = plt.subplots(ncols = len(lux_am), nrows = 1, sharey='row', figsize = (15,5))\n",
    "fig.tight_layout()\n",
    "\n",
    "\n",
    "for i, feat in enumerate(lux_am):\n",
    "    ax = sns.histplot(data = train, x = feat, bins = 30,hue = 'Transported', ax = axs[i])\n",
    "    ax.set_title(feat)"
   ]
  },
  {
   "cell_type": "code",
   "execution_count": 15,
   "id": "63d93c0b",
   "metadata": {
    "execution": {
     "iopub.execute_input": "2022-10-06T18:43:48.524037Z",
     "iopub.status.busy": "2022-10-06T18:43:48.523126Z",
     "iopub.status.idle": "2022-10-06T18:43:50.128459Z",
     "shell.execute_reply": "2022-10-06T18:43:50.127192Z"
    },
    "papermill": {
     "duration": 1.627551,
     "end_time": "2022-10-06T18:43:50.131120",
     "exception": false,
     "start_time": "2022-10-06T18:43:48.503569",
     "status": "completed"
    },
    "tags": []
   },
   "outputs": [
    {
     "data": {
      "image/png": "[encoded data removed]",
      "text/plain": [
       "<Figure size 1080x360 with 5 Axes>"
      ]
     },
     "metadata": {
      "needs_background": "light"
     },
     "output_type": "display_data"
    }
   ],
   "source": [
    "# zooming in to the guests who used more of the luxury amenities\n",
    "fig, axs = plt.subplots(ncols = len(lux_am), nrows = 1, sharey='row', figsize = (15,5))\n",
    "fig.tight_layout()\n",
    "\n",
    "\n",
    "for i, feat in enumerate(lux_am):\n",
    "    if i == 0:\n",
    "        sns.histplot(data = train, x = feat, bins = 30,hue = 'Transported', ax = axs[i])\n",
    "        plt.ylim(0, 400)\n",
    "        ax.set_title(feat)\n",
    "    else:\n",
    "        sns.histplot(data = train, x = feat, bins = 30,hue = 'Transported', ax = axs[i])\n",
    "        ax.set_title(feat)\n",
    "        handles, labels = ax.get_legend_handles_labels()\n",
    "\n",
    "        "
   ]
  },
  {
   "cell_type": "markdown",
   "id": "2361afe9",
   "metadata": {
    "papermill": {
     "duration": 0.016475,
     "end_time": "2022-10-06T18:43:50.164366",
     "exception": false,
     "start_time": "2022-10-06T18:43:50.147891",
     "status": "completed"
    },
    "tags": []
   },
   "source": [
    "### Next, we take a look at the distribution of the categorial features"
   ]
  },
  {
   "cell_type": "code",
   "execution_count": 16,
   "id": "76be07c3",
   "metadata": {
    "execution": {
     "iopub.execute_input": "2022-10-06T18:43:50.201201Z",
     "iopub.status.busy": "2022-10-06T18:43:50.199861Z",
     "iopub.status.idle": "2022-10-06T18:43:50.222957Z",
     "shell.execute_reply": "2022-10-06T18:43:50.221797Z"
    },
    "papermill": {
     "duration": 0.043633,
     "end_time": "2022-10-06T18:43:50.225310",
     "exception": false,
     "start_time": "2022-10-06T18:43:50.181677",
     "status": "completed"
    },
    "tags": []
   },
   "outputs": [
    {
     "data": {
      "text/html": [
       "<div>\n",
       "<style scoped>\n",
       "    .dataframe tbody tr th:only-of-type {\n",
       "        vertical-align: middle;\n",
       "    }\n",
       "\n",
       "    .dataframe tbody tr th {\n",
       "        vertical-align: top;\n",
       "    }\n",
       "\n",
       "    .dataframe thead th {\n",
       "        text-align: right;\n",
       "    }\n",
       "</style>\n",
       "<table border=\"1\" class=\"dataframe\">\n",
       "  <thead>\n",
       "    <tr style=\"text-align: right;\">\n",
       "      <th></th>\n",
       "      <th>PassengerId</th>\n",
       "      <th>HomePlanet</th>\n",
       "      <th>CryoSleep</th>\n",
       "      <th>Cabin</th>\n",
       "      <th>Destination</th>\n",
       "      <th>Age</th>\n",
       "      <th>VIP</th>\n",
       "      <th>RoomService</th>\n",
       "      <th>FoodCourt</th>\n",
       "      <th>ShoppingMall</th>\n",
       "      <th>Spa</th>\n",
       "      <th>VRDeck</th>\n",
       "      <th>Name</th>\n",
       "      <th>Transported</th>\n",
       "    </tr>\n",
       "  </thead>\n",
       "  <tbody>\n",
       "    <tr>\n",
       "      <th>0</th>\n",
       "      <td>0001_01</td>\n",
       "      <td>Europa</td>\n",
       "      <td>False</td>\n",
       "      <td>B/0/P</td>\n",
       "      <td>TRAPPIST-1e</td>\n",
       "      <td>39.0</td>\n",
       "      <td>False</td>\n",
       "      <td>0.0</td>\n",
       "      <td>0.0</td>\n",
       "      <td>0.0</td>\n",
       "      <td>0.0</td>\n",
       "      <td>0.0</td>\n",
       "      <td>Maham Ofracculy</td>\n",
       "      <td>False</td>\n",
       "    </tr>\n",
       "    <tr>\n",
       "      <th>1</th>\n",
       "      <td>0002_01</td>\n",
       "      <td>Earth</td>\n",
       "      <td>False</td>\n",
       "      <td>F/0/S</td>\n",
       "      <td>TRAPPIST-1e</td>\n",
       "      <td>24.0</td>\n",
       "      <td>False</td>\n",
       "      <td>109.0</td>\n",
       "      <td>9.0</td>\n",
       "      <td>25.0</td>\n",
       "      <td>549.0</td>\n",
       "      <td>44.0</td>\n",
       "      <td>Juanna Vines</td>\n",
       "      <td>True</td>\n",
       "    </tr>\n",
       "    <tr>\n",
       "      <th>2</th>\n",
       "      <td>0003_01</td>\n",
       "      <td>Europa</td>\n",
       "      <td>False</td>\n",
       "      <td>A/0/S</td>\n",
       "      <td>TRAPPIST-1e</td>\n",
       "      <td>58.0</td>\n",
       "      <td>True</td>\n",
       "      <td>43.0</td>\n",
       "      <td>3576.0</td>\n",
       "      <td>0.0</td>\n",
       "      <td>6715.0</td>\n",
       "      <td>49.0</td>\n",
       "      <td>Altark Susent</td>\n",
       "      <td>False</td>\n",
       "    </tr>\n",
       "    <tr>\n",
       "      <th>3</th>\n",
       "      <td>0003_02</td>\n",
       "      <td>Europa</td>\n",
       "      <td>False</td>\n",
       "      <td>A/0/S</td>\n",
       "      <td>TRAPPIST-1e</td>\n",
       "      <td>33.0</td>\n",
       "      <td>False</td>\n",
       "      <td>0.0</td>\n",
       "      <td>1283.0</td>\n",
       "      <td>371.0</td>\n",
       "      <td>3329.0</td>\n",
       "      <td>193.0</td>\n",
       "      <td>Solam Susent</td>\n",
       "      <td>False</td>\n",
       "    </tr>\n",
       "    <tr>\n",
       "      <th>4</th>\n",
       "      <td>0004_01</td>\n",
       "      <td>Earth</td>\n",
       "      <td>False</td>\n",
       "      <td>F/1/S</td>\n",
       "      <td>TRAPPIST-1e</td>\n",
       "      <td>16.0</td>\n",
       "      <td>False</td>\n",
       "      <td>303.0</td>\n",
       "      <td>70.0</td>\n",
       "      <td>151.0</td>\n",
       "      <td>565.0</td>\n",
       "      <td>2.0</td>\n",
       "      <td>Willy Santantines</td>\n",
       "      <td>True</td>\n",
       "    </tr>\n",
       "  </tbody>\n",
       "</table>\n",
       "</div>"
      ],
      "text/plain": [
       "  PassengerId HomePlanet CryoSleep  Cabin  Destination   Age    VIP  \\\n",
       "0     0001_01     Europa     False  B/0/P  TRAPPIST-1e  39.0  False   \n",
       "1     0002_01      Earth     False  F/0/S  TRAPPIST-1e  24.0  False   \n",
       "2     0003_01     Europa     False  A/0/S  TRAPPIST-1e  58.0   True   \n",
       "3     0003_02     Europa     False  A/0/S  TRAPPIST-1e  33.0  False   \n",
       "4     0004_01      Earth     False  F/1/S  TRAPPIST-1e  16.0  False   \n",
       "\n",
       "   RoomService  FoodCourt  ShoppingMall     Spa  VRDeck               Name  \\\n",
       "0          0.0        0.0           0.0     0.0     0.0    Maham Ofracculy   \n",
       "1        109.0        9.0          25.0   549.0    44.0       Juanna Vines   \n",
       "2         43.0     3576.0           0.0  6715.0    49.0      Altark Susent   \n",
       "3          0.0     1283.0         371.0  3329.0   193.0       Solam Susent   \n",
       "4        303.0       70.0         151.0   565.0     2.0  Willy Santantines   \n",
       "\n",
       "   Transported  \n",
       "0        False  \n",
       "1         True  \n",
       "2        False  \n",
       "3        False  \n",
       "4         True  "
      ]
     },
     "execution_count": 16,
     "metadata": {},
     "output_type": "execute_result"
    }
   ],
   "source": [
    "train.head()"
   ]
  },
  {
   "cell_type": "code",
   "execution_count": 17,
   "id": "cd63bd41",
   "metadata": {
    "execution": {
     "iopub.execute_input": "2022-10-06T18:43:50.261554Z",
     "iopub.status.busy": "2022-10-06T18:43:50.261165Z",
     "iopub.status.idle": "2022-10-06T18:43:51.104438Z",
     "shell.execute_reply": "2022-10-06T18:43:51.103298Z"
    },
    "papermill": {
     "duration": 0.864483,
     "end_time": "2022-10-06T18:43:51.107121",
     "exception": false,
     "start_time": "2022-10-06T18:43:50.242638",
     "status": "completed"
    },
    "tags": []
   },
   "outputs": [
    {
     "data": {
      "image/png": "[encoded data removed]",
      "text/plain": [
       "<Figure size 720x1152 with 4 Axes>"
      ]
     },
     "metadata": {
      "needs_background": "light"
     },
     "output_type": "display_data"
    }
   ],
   "source": [
    "cat_feat = ['CryoSleep', 'VIP', 'HomePlanet', 'Destination']\n",
    "\n",
    "fig.tight_layout()\n",
    "\n",
    "left  = 0.125  # the left side of the subplots of the figure\n",
    "right = 0.9    # the right side of the subplots of the figure\n",
    "bottom = 0.1   # the bottom of the subplots of the figure\n",
    "top = 1        # the top of the subplots of the figure\n",
    "wspace = 0.3   # the amount of width reserved for blank space between subplots\n",
    "hspace = 0.4   # the amount of height reserved for white space between subplots\n",
    "\n",
    "\n",
    "\n",
    "fig=plt.figure(figsize=(10,16))\n",
    "for i, value in enumerate(cat_feat):\n",
    "    ax=fig.add_subplot(4,1,i+1)\n",
    "    sns.countplot(data=train, x=value, axes=ax, hue='Transported')\n",
    "    ax.set_title(value)\n",
    "    plt.subplots_adjust(left, bottom, right, top, wspace, hspace)"
   ]
  },
  {
   "cell_type": "markdown",
   "id": "ae7adc32",
   "metadata": {
    "papermill": {
     "duration": 0.017179,
     "end_time": "2022-10-06T18:43:51.141857",
     "exception": false,
     "start_time": "2022-10-06T18:43:51.124678",
     "status": "completed"
    },
    "tags": []
   },
   "source": [
    "### Qualitative Features\n",
    "\n",
    "Since we can't plot the qualitative Features we just take a quick look at them:"
   ]
  },
  {
   "cell_type": "code",
   "execution_count": 18,
   "id": "53f43d1d",
   "metadata": {
    "execution": {
     "iopub.execute_input": "2022-10-06T18:43:51.178893Z",
     "iopub.status.busy": "2022-10-06T18:43:51.178489Z",
     "iopub.status.idle": "2022-10-06T18:43:51.194312Z",
     "shell.execute_reply": "2022-10-06T18:43:51.193079Z"
    },
    "papermill": {
     "duration": 0.038182,
     "end_time": "2022-10-06T18:43:51.197584",
     "exception": false,
     "start_time": "2022-10-06T18:43:51.159402",
     "status": "completed"
    },
    "tags": []
   },
   "outputs": [
    {
     "data": {
      "text/html": [
       "<div>\n",
       "<style scoped>\n",
       "    .dataframe tbody tr th:only-of-type {\n",
       "        vertical-align: middle;\n",
       "    }\n",
       "\n",
       "    .dataframe tbody tr th {\n",
       "        vertical-align: top;\n",
       "    }\n",
       "\n",
       "    .dataframe thead th {\n",
       "        text-align: right;\n",
       "    }\n",
       "</style>\n",
       "<table border=\"1\" class=\"dataframe\">\n",
       "  <thead>\n",
       "    <tr style=\"text-align: right;\">\n",
       "      <th></th>\n",
       "      <th>PassengerId</th>\n",
       "      <th>Cabin</th>\n",
       "      <th>Name</th>\n",
       "    </tr>\n",
       "  </thead>\n",
       "  <tbody>\n",
       "    <tr>\n",
       "      <th>0</th>\n",
       "      <td>0001_01</td>\n",
       "      <td>B/0/P</td>\n",
       "      <td>Maham Ofracculy</td>\n",
       "    </tr>\n",
       "    <tr>\n",
       "      <th>1</th>\n",
       "      <td>0002_01</td>\n",
       "      <td>F/0/S</td>\n",
       "      <td>Juanna Vines</td>\n",
       "    </tr>\n",
       "    <tr>\n",
       "      <th>2</th>\n",
       "      <td>0003_01</td>\n",
       "      <td>A/0/S</td>\n",
       "      <td>Altark Susent</td>\n",
       "    </tr>\n",
       "    <tr>\n",
       "      <th>3</th>\n",
       "      <td>0003_02</td>\n",
       "      <td>A/0/S</td>\n",
       "      <td>Solam Susent</td>\n",
       "    </tr>\n",
       "    <tr>\n",
       "      <th>4</th>\n",
       "      <td>0004_01</td>\n",
       "      <td>F/1/S</td>\n",
       "      <td>Willy Santantines</td>\n",
       "    </tr>\n",
       "  </tbody>\n",
       "</table>\n",
       "</div>"
      ],
      "text/plain": [
       "  PassengerId  Cabin               Name\n",
       "0     0001_01  B/0/P    Maham Ofracculy\n",
       "1     0002_01  F/0/S       Juanna Vines\n",
       "2     0003_01  A/0/S      Altark Susent\n",
       "3     0003_02  A/0/S       Solam Susent\n",
       "4     0004_01  F/1/S  Willy Santantines"
      ]
     },
     "execution_count": 18,
     "metadata": {},
     "output_type": "execute_result"
    }
   ],
   "source": [
    "train[['PassengerId', 'Cabin', 'Name']].head()"
   ]
  },
  {
   "cell_type": "markdown",
   "id": "a63136f3",
   "metadata": {
    "papermill": {
     "duration": 0.017256,
     "end_time": "2022-10-06T18:43:51.233045",
     "exception": false,
     "start_time": "2022-10-06T18:43:51.215789",
     "status": "completed"
    },
    "tags": []
   },
   "source": [
    "## 5. Feature Engineering\n",
    "\n",
    "In the next step we want to work on our features to get a better result from our model.\n",
    "\n",
    "Steps we will undergo are:\n",
    "\n",
    "* Classifying the age groups\n",
    "* Get the total expenditures as the sum of all spendings on amentities \n",
    "* Based on the previous step, classify passengers who had and had not done spendings\n",
    "* Extract the Group Size \n",
    "* Extract the location data from the cabin column\n",
    "* Extract the family size"
   ]
  },
  {
   "cell_type": "markdown",
   "id": "6b2ade6d",
   "metadata": {
    "papermill": {
     "duration": 0.017311,
     "end_time": "2022-10-06T18:43:51.267977",
     "exception": false,
     "start_time": "2022-10-06T18:43:51.250666",
     "status": "completed"
    },
    "tags": []
   },
   "source": [
    "### Age groups "
   ]
  },
  {
   "cell_type": "code",
   "execution_count": 19,
   "id": "4ce5a253",
   "metadata": {
    "execution": {
     "iopub.execute_input": "2022-10-06T18:43:51.304986Z",
     "iopub.status.busy": "2022-10-06T18:43:51.304565Z",
     "iopub.status.idle": "2022-10-06T18:43:51.326691Z",
     "shell.execute_reply": "2022-10-06T18:43:51.325711Z"
    },
    "papermill": {
     "duration": 0.043696,
     "end_time": "2022-10-06T18:43:51.329269",
     "exception": false,
     "start_time": "2022-10-06T18:43:51.285573",
     "status": "completed"
    },
    "tags": []
   },
   "outputs": [],
   "source": [
    "dfs = [train, test]\n",
    "\n",
    "for i in dfs:\n",
    "    i['AgeGroup'] = np.nan\n",
    "    i.loc[(i['Age'] < 12), 'AgeGroup'] = 'Age_0-12'\n",
    "    i.loc[(i['Age'] > 12) & (i['Age'] < 18), 'AgeGroup'] = 'Age_13-17'\n",
    "    i.loc[(i['Age'] > 17) & (i['Age'] < 26), 'AgeGroup'] = 'Age_18-25'\n",
    "    i.loc[(i['Age'] > 25) & (i['Age'] < 31), 'AgeGroup'] = 'Age_26-30'\n",
    "    i.loc[(i['Age'] > 30) & (i['Age'] < 51), 'AgeGroup'] = 'Age_31-50'\n",
    "    i.loc[(i['Age'] > 50), 'AgeGroup'] = 'Age_51+'"
   ]
  },
  {
   "cell_type": "code",
   "execution_count": 20,
   "id": "95bb1d4f",
   "metadata": {
    "execution": {
     "iopub.execute_input": "2022-10-06T18:43:51.368482Z",
     "iopub.status.busy": "2022-10-06T18:43:51.366367Z",
     "iopub.status.idle": "2022-10-06T18:43:51.637888Z",
     "shell.execute_reply": "2022-10-06T18:43:51.636759Z"
    },
    "papermill": {
     "duration": 0.293259,
     "end_time": "2022-10-06T18:43:51.640453",
     "exception": false,
     "start_time": "2022-10-06T18:43:51.347194",
     "status": "completed"
    },
    "tags": []
   },
   "outputs": [
    {
     "data": {
      "text/plain": [
       "Text(0.5, 1.0, 'Distribution of Age groups')"
      ]
     },
     "execution_count": 20,
     "metadata": {},
     "output_type": "execute_result"
    },
    {
     "data": {
      "image/png": "[encoded data removed]",
      "text/plain": [
       "<Figure size 864x360 with 1 Axes>"
      ]
     },
     "metadata": {
      "needs_background": "light"
     },
     "output_type": "display_data"
    }
   ],
   "source": [
    "#Distribution of the new feature\n",
    "plt.figure(figsize = (12,5))\n",
    "\n",
    "sns.countplot(data = train, x = \"AgeGroup\", hue = \"Transported\", \n",
    "              order=['Age_0-12','Age_13-17','Age_18-25','Age_26-30','Age_31-50','Age_51+'])\n",
    "\n",
    "plt.title('Distribution of Age groups')"
   ]
  },
  {
   "cell_type": "markdown",
   "id": "6280bba1",
   "metadata": {
    "papermill": {
     "duration": 0.017754,
     "end_time": "2022-10-06T18:43:51.676582",
     "exception": false,
     "start_time": "2022-10-06T18:43:51.658828",
     "status": "completed"
    },
    "tags": []
   },
   "source": [
    "### Total expenditure"
   ]
  },
  {
   "cell_type": "code",
   "execution_count": 21,
   "id": "68481090",
   "metadata": {
    "execution": {
     "iopub.execute_input": "2022-10-06T18:43:51.714700Z",
     "iopub.status.busy": "2022-10-06T18:43:51.714281Z",
     "iopub.status.idle": "2022-10-06T18:43:51.737260Z",
     "shell.execute_reply": "2022-10-06T18:43:51.736060Z"
    },
    "papermill": {
     "duration": 0.045596,
     "end_time": "2022-10-06T18:43:51.740225",
     "exception": false,
     "start_time": "2022-10-06T18:43:51.694629",
     "status": "completed"
    },
    "tags": []
   },
   "outputs": [],
   "source": [
    "#Adding the total expenditures column\n",
    "for i in dfs:\n",
    "    i['Total_Exp'] = np.nan\n",
    "    i['Total_Exp']= i[lux_am].sum(axis=1)\n",
    "    \n",
    "#Classifying Passengers who did and who didn't spend money\n",
    "#Spent Money: 1\n",
    "#Didn't spend money: 0\n",
    "\n",
    "\n",
    "def spent(x):\n",
    "    if x > 0:\n",
    "        return 1\n",
    "    else:\n",
    "        return 0\n",
    "\n",
    "for i in dfs:\n",
    "    i['SpentMoney'] = i['Total_Exp'].apply(lambda x: spent(x))"
   ]
  },
  {
   "cell_type": "code",
   "execution_count": 22,
   "id": "312ed66a",
   "metadata": {
    "execution": {
     "iopub.execute_input": "2022-10-06T18:43:51.778464Z",
     "iopub.status.busy": "2022-10-06T18:43:51.778044Z",
     "iopub.status.idle": "2022-10-06T18:43:53.709874Z",
     "shell.execute_reply": "2022-10-06T18:43:53.708663Z"
    },
    "papermill": {
     "duration": 1.954134,
     "end_time": "2022-10-06T18:43:53.712482",
     "exception": false,
     "start_time": "2022-10-06T18:43:51.758348",
     "status": "completed"
    },
    "tags": []
   },
   "outputs": [
    {
     "data": {
      "text/plain": [
       "<AxesSubplot:title={'center':'Customers who spent money'}, xlabel='SpentMoney', ylabel='count'>"
      ]
     },
     "execution_count": 22,
     "metadata": {},
     "output_type": "execute_result"
    },
    {
     "data": {
      "image/png": "[encoded data removed]",
      "text/plain": [
       "<Figure size 1296x360 with 3 Axes>"
      ]
     },
     "metadata": {
      "needs_background": "light"
     },
     "output_type": "display_data"
    }
   ],
   "source": [
    "#Plotting the distribution of the new feature\n",
    "plt.figure(figsize = (18,5))\n",
    "plt.subplot(1,3,1)\n",
    "plt.title('Total Expenditure')\n",
    "sns.histplot(data = train, x = 'Total_Exp', hue = 'Transported', bins = 100)\n",
    "\n",
    "plt.subplot(1,3,2)\n",
    "plt.title('Total Expenditure (zoomed in)')\n",
    "sns.histplot(data = train, x = 'Total_Exp', hue = 'Transported', bins =200)\n",
    "plt.xlim([0,10000])\n",
    "plt.ylim([0, 500])\n",
    "\n",
    "plt.subplot(1,3,3)\n",
    "plt.title('Customers who spent money')\n",
    "sns.countplot(data = train, x = \"SpentMoney\", hue = 'Transported')"
   ]
  },
  {
   "cell_type": "markdown",
   "id": "891add1a",
   "metadata": {
    "papermill": {
     "duration": 0.018672,
     "end_time": "2022-10-06T18:43:53.750405",
     "exception": false,
     "start_time": "2022-10-06T18:43:53.731733",
     "status": "completed"
    },
    "tags": []
   },
   "source": [
    "### Passenger Groups"
   ]
  },
  {
   "cell_type": "code",
   "execution_count": 23,
   "id": "2aba9041",
   "metadata": {
    "execution": {
     "iopub.execute_input": "2022-10-06T18:43:53.790071Z",
     "iopub.status.busy": "2022-10-06T18:43:53.789619Z",
     "iopub.status.idle": "2022-10-06T18:44:04.324482Z",
     "shell.execute_reply": "2022-10-06T18:44:04.323264Z"
    },
    "papermill": {
     "duration": 10.557858,
     "end_time": "2022-10-06T18:44:04.327292",
     "exception": false,
     "start_time": "2022-10-06T18:43:53.769434",
     "status": "completed"
    },
    "tags": []
   },
   "outputs": [],
   "source": [
    "#group\n",
    "for i in dfs:\n",
    "    i['Group'] = train['PassengerId'].str.split('_').str[0].astype(int)\n",
    "\n",
    "#group_size\n",
    "for i in dfs:\n",
    "    i['Group_size']=i['Group'].map(lambda x: i['Group'].value_counts()[x])"
   ]
  },
  {
   "cell_type": "code",
   "execution_count": 24,
   "id": "8e60a4bb",
   "metadata": {
    "execution": {
     "iopub.execute_input": "2022-10-06T18:44:04.367423Z",
     "iopub.status.busy": "2022-10-06T18:44:04.366985Z",
     "iopub.status.idle": "2022-10-06T18:44:05.224648Z",
     "shell.execute_reply": "2022-10-06T18:44:05.222988Z"
    },
    "papermill": {
     "duration": 0.881451,
     "end_time": "2022-10-06T18:44:05.227858",
     "exception": false,
     "start_time": "2022-10-06T18:44:04.346407",
     "status": "completed"
    },
    "tags": []
   },
   "outputs": [
    {
     "data": {
      "text/plain": [
       "<AxesSubplot:title={'center':'Group Sizes'}, xlabel='Group_size', ylabel='count'>"
      ]
     },
     "execution_count": 24,
     "metadata": {},
     "output_type": "execute_result"
    },
    {
     "data": {
      "image/png": "[encoded data removed]",
      "text/plain": [
       "<Figure size 1440x360 with 2 Axes>"
      ]
     },
     "metadata": {
      "needs_background": "light"
     },
     "output_type": "display_data"
    }
   ],
   "source": [
    "plt.figure(figsize = (20,5))\n",
    "plt.subplot(1,2,1)\n",
    "plt.title('Groups')\n",
    "sns.histplot(data = train, x = 'Group', hue = 'Transported', bins = 100)\n",
    "\n",
    "plt.subplot(1,2,2)\n",
    "plt.title('Group Sizes')\n",
    "sns.countplot(data = train, x = \"Group_size\", hue = \"Transported\")"
   ]
  },
  {
   "cell_type": "markdown",
   "id": "3b40c7c6",
   "metadata": {
    "papermill": {
     "duration": 0.026825,
     "end_time": "2022-10-06T18:44:05.286131",
     "exception": false,
     "start_time": "2022-10-06T18:44:05.259306",
     "status": "completed"
    },
    "tags": []
   },
   "source": [
    "Seems like we can't really use the group feature and only the group size"
   ]
  },
  {
   "cell_type": "markdown",
   "id": "63ca9696",
   "metadata": {
    "papermill": {
     "duration": 0.019138,
     "end_time": "2022-10-06T18:44:05.328068",
     "exception": false,
     "start_time": "2022-10-06T18:44:05.308930",
     "status": "completed"
    },
    "tags": []
   },
   "source": [
    "### With the new group size feature we can generate another  feature to determine if a passenger travels alone or not "
   ]
  },
  {
   "cell_type": "code",
   "execution_count": 25,
   "id": "4de4a78a",
   "metadata": {
    "execution": {
     "iopub.execute_input": "2022-10-06T18:44:05.370226Z",
     "iopub.status.busy": "2022-10-06T18:44:05.369216Z",
     "iopub.status.idle": "2022-10-06T18:44:05.384170Z",
     "shell.execute_reply": "2022-10-06T18:44:05.382977Z"
    },
    "papermill": {
     "duration": 0.03926,
     "end_time": "2022-10-06T18:44:05.387043",
     "exception": false,
     "start_time": "2022-10-06T18:44:05.347783",
     "status": "completed"
    },
    "tags": []
   },
   "outputs": [],
   "source": [
    "def solo(x):\n",
    "    if x == 1:\n",
    "        return 1\n",
    "    else:\n",
    "        return 0\n",
    "    \n",
    "for i in dfs:\n",
    "    i['solo_travel'] = i['Group_size'].apply(lambda x: solo(x))"
   ]
  },
  {
   "cell_type": "code",
   "execution_count": 26,
   "id": "226e13ef",
   "metadata": {
    "execution": {
     "iopub.execute_input": "2022-10-06T18:44:05.428215Z",
     "iopub.status.busy": "2022-10-06T18:44:05.427762Z",
     "iopub.status.idle": "2022-10-06T18:44:05.736761Z",
     "shell.execute_reply": "2022-10-06T18:44:05.735626Z"
    },
    "papermill": {
     "duration": 0.332678,
     "end_time": "2022-10-06T18:44:05.739416",
     "exception": false,
     "start_time": "2022-10-06T18:44:05.406738",
     "status": "completed"
    },
    "tags": []
   },
   "outputs": [
    {
     "data": {
      "text/plain": [
       "<AxesSubplot:title={'center':'Passengers travelling alone with hue'}, xlabel='solo_travel', ylabel='count'>"
      ]
     },
     "execution_count": 26,
     "metadata": {},
     "output_type": "execute_result"
    },
    {
     "data": {
      "image/png": "[encoded data removed]",
      "text/plain": [
       "<Figure size 1080x360 with 2 Axes>"
      ]
     },
     "metadata": {
      "needs_background": "light"
     },
     "output_type": "display_data"
    }
   ],
   "source": [
    "plt.figure(figsize = (15,5))\n",
    "\n",
    "plt.subplot(1,2,1)\n",
    "plt.title('Passengers travelling alone')\n",
    "sns.countplot(data = train, x = \"solo_travel\")\n",
    "\n",
    "plt.subplot(1,2,2)\n",
    "plt.title('Passengers travelling alone with hue')\n",
    "sns.countplot(data = train, x = \"solo_travel\", hue = 'Transported')"
   ]
  },
  {
   "cell_type": "markdown",
   "id": "cade758f",
   "metadata": {
    "papermill": {
     "duration": 0.019571,
     "end_time": "2022-10-06T18:44:05.779208",
     "exception": false,
     "start_time": "2022-10-06T18:44:05.759637",
     "status": "completed"
    },
    "tags": []
   },
   "source": [
    "### Cabin location\n",
    "\n",
    "From the cabin column we can extract:\n",
    "\n",
    "* The cabin deck (First Character)\n",
    "* The cabin number (Second Character)\n",
    "* The cabin side (Third Character)"
   ]
  },
  {
   "cell_type": "code",
   "execution_count": 27,
   "id": "c51edb2e",
   "metadata": {
    "execution": {
     "iopub.execute_input": "2022-10-06T18:44:05.821616Z",
     "iopub.status.busy": "2022-10-06T18:44:05.821197Z",
     "iopub.status.idle": "2022-10-06T18:44:05.829696Z",
     "shell.execute_reply": "2022-10-06T18:44:05.828389Z"
    },
    "papermill": {
     "duration": 0.032497,
     "end_time": "2022-10-06T18:44:05.831855",
     "exception": false,
     "start_time": "2022-10-06T18:44:05.799358",
     "status": "completed"
    },
    "tags": []
   },
   "outputs": [
    {
     "data": {
      "text/plain": [
       "0    B/0/P\n",
       "1    F/0/S\n",
       "2    A/0/S\n",
       "3    A/0/S\n",
       "4    F/1/S\n",
       "5    F/0/P\n",
       "6    F/2/S\n",
       "7    G/0/S\n",
       "8    F/3/S\n",
       "9    B/1/P\n",
       "Name: Cabin, dtype: object"
      ]
     },
     "execution_count": 27,
     "metadata": {},
     "output_type": "execute_result"
    }
   ],
   "source": [
    "train['Cabin'].head(10)"
   ]
  },
  {
   "cell_type": "code",
   "execution_count": 28,
   "id": "88aa3468",
   "metadata": {
    "execution": {
     "iopub.execute_input": "2022-10-06T18:44:05.873875Z",
     "iopub.status.busy": "2022-10-06T18:44:05.873019Z",
     "iopub.status.idle": "2022-10-06T18:44:05.954870Z",
     "shell.execute_reply": "2022-10-06T18:44:05.953652Z"
    },
    "papermill": {
     "duration": 0.106072,
     "end_time": "2022-10-06T18:44:05.957827",
     "exception": false,
     "start_time": "2022-10-06T18:44:05.851755",
     "status": "completed"
    },
    "tags": []
   },
   "outputs": [],
   "source": [
    "#filling na values with dummies so we can split the column correctly\n",
    "\n",
    "train['Cabin'].fillna('Z/9999/Z', inplace=True)\n",
    "test['Cabin'].fillna('Z/9999/Z', inplace=True)\n",
    "\n",
    "for i in dfs:\n",
    "    i['cabin_deck'] = i['Cabin'].str.split('/').str[0]\n",
    "    i['cabin_number'] = i['Cabin'].str.split('/').str[1].astype(int)\n",
    "    i['cabin_side'] = i['Cabin'].str.split('/').str[2]\n",
    "\n",
    "#removing the dummies and filling them with na values again\n",
    "\n",
    "for i in dfs:\n",
    "    i.loc[i['cabin_deck']=='Z', 'cabin_deck']=np.nan\n",
    "    i.loc[i['cabin_number']==9999, 'cabin_number']=np.nan\n",
    "    i.loc[i['cabin_side']=='Z', 'cabin_side']=np.nan\n",
    "\n",
    "#dropping the cabin column since we don't need it anymore\n",
    "\n",
    "for i in dfs:\n",
    "    i.drop('Cabin', axis = 1, inplace = True)"
   ]
  },
  {
   "cell_type": "code",
   "execution_count": 29,
   "id": "0a46fb6a",
   "metadata": {
    "execution": {
     "iopub.execute_input": "2022-10-06T18:44:06.000426Z",
     "iopub.status.busy": "2022-10-06T18:44:05.999967Z",
     "iopub.status.idle": "2022-10-06T18:44:07.607474Z",
     "shell.execute_reply": "2022-10-06T18:44:07.606094Z"
    },
    "papermill": {
     "duration": 1.631971,
     "end_time": "2022-10-06T18:44:07.610390",
     "exception": false,
     "start_time": "2022-10-06T18:44:05.978419",
     "status": "completed"
    },
    "tags": []
   },
   "outputs": [
    {
     "data": {
      "text/plain": [
       "<AxesSubplot:title={'center':'Cabin Side'}, xlabel='cabin_side', ylabel='count'>"
      ]
     },
     "execution_count": 29,
     "metadata": {},
     "output_type": "execute_result"
    },
    {
     "data": {
      "image/png": "[encoded data removed]",
      "text/plain": [
       "<Figure size 720x1296 with 3 Axes>"
      ]
     },
     "metadata": {
      "needs_background": "light"
     },
     "output_type": "display_data"
    }
   ],
   "source": [
    "#plotting new features\n",
    "\n",
    "plt.figure(figsize = (10,18))\n",
    "plt.tight_layout()\n",
    "\n",
    "plt.subplot(3,1,1)\n",
    "plt.title('Cabin Deck')\n",
    "sns.countplot(data = train, x = \"cabin_deck\", hue = \"Transported\", \n",
    "              order = ['A', 'B', 'C', 'D', 'E', 'F', 'G', 'T'])\n",
    "\n",
    "plt.subplot(3,1,2)\n",
    "plt.title('Cabin Number')\n",
    "sns.histplot(data = train, x = \"cabin_number\", bins = 200, hue = \"Transported\")\n",
    "\n",
    "plt.subplot(3,1,3)\n",
    "plt.title('Cabin Side')\n",
    "sns.countplot(data = train, x = \"cabin_side\", hue = \"Transported\")"
   ]
  },
  {
   "cell_type": "markdown",
   "id": "f14910c0",
   "metadata": {
    "papermill": {
     "duration": 0.020469,
     "end_time": "2022-10-06T18:44:07.651854",
     "exception": false,
     "start_time": "2022-10-06T18:44:07.631385",
     "status": "completed"
    },
    "tags": []
   },
   "source": [
    "### Last name and family size\n",
    "\n",
    "Next, we are going to use the last name from the Name column to determin the family size."
   ]
  },
  {
   "cell_type": "code",
   "execution_count": 30,
   "id": "36b35ff7",
   "metadata": {
    "execution": {
     "iopub.execute_input": "2022-10-06T18:44:07.696187Z",
     "iopub.status.busy": "2022-10-06T18:44:07.695486Z",
     "iopub.status.idle": "2022-10-06T18:44:07.710717Z",
     "shell.execute_reply": "2022-10-06T18:44:07.709437Z"
    },
    "papermill": {
     "duration": 0.040517,
     "end_time": "2022-10-06T18:44:07.713662",
     "exception": false,
     "start_time": "2022-10-06T18:44:07.673145",
     "status": "completed"
    },
    "tags": []
   },
   "outputs": [],
   "source": [
    "for i in dfs:\n",
    "    i['Name'] = i['Name'].fillna('dummy dummy')\n",
    "    i['lastName'] = i['Name'].apply(lambda x: x.split()[1])"
   ]
  },
  {
   "cell_type": "code",
   "execution_count": 31,
   "id": "09ec2deb",
   "metadata": {
    "execution": {
     "iopub.execute_input": "2022-10-06T18:44:07.757437Z",
     "iopub.status.busy": "2022-10-06T18:44:07.756977Z",
     "iopub.status.idle": "2022-10-06T18:44:07.777983Z",
     "shell.execute_reply": "2022-10-06T18:44:07.776678Z"
    },
    "papermill": {
     "duration": 0.04641,
     "end_time": "2022-10-06T18:44:07.781051",
     "exception": false,
     "start_time": "2022-10-06T18:44:07.734641",
     "status": "completed"
    },
    "tags": []
   },
   "outputs": [],
   "source": [
    "for i in dfs:\n",
    "    i['lastName_ID'] = i['lastName'] + \"_\" + i['Group'].astype(str)"
   ]
  },
  {
   "cell_type": "code",
   "execution_count": 32,
   "id": "eb44248b",
   "metadata": {
    "execution": {
     "iopub.execute_input": "2022-10-06T18:44:07.825033Z",
     "iopub.status.busy": "2022-10-06T18:44:07.824556Z",
     "iopub.status.idle": "2022-10-06T18:44:43.986404Z",
     "shell.execute_reply": "2022-10-06T18:44:43.985209Z"
    },
    "papermill": {
     "duration": 36.18708,
     "end_time": "2022-10-06T18:44:43.989474",
     "exception": false,
     "start_time": "2022-10-06T18:44:07.802394",
     "status": "completed"
    },
    "tags": []
   },
   "outputs": [],
   "source": [
    "train['FamilySize'] = train['lastName_ID'].apply(lambda x: train['lastName_ID'].value_counts()[x])\n",
    "test['FamilySize'] = test['lastName_ID'].apply(lambda x: test['lastName_ID'].value_counts()[x])"
   ]
  },
  {
   "cell_type": "code",
   "execution_count": 33,
   "id": "8bf53b34",
   "metadata": {
    "execution": {
     "iopub.execute_input": "2022-10-06T18:44:44.033127Z",
     "iopub.status.busy": "2022-10-06T18:44:44.032705Z",
     "iopub.status.idle": "2022-10-06T18:44:44.049899Z",
     "shell.execute_reply": "2022-10-06T18:44:44.048933Z"
    },
    "papermill": {
     "duration": 0.041833,
     "end_time": "2022-10-06T18:44:44.052385",
     "exception": false,
     "start_time": "2022-10-06T18:44:44.010552",
     "status": "completed"
    },
    "tags": []
   },
   "outputs": [],
   "source": [
    "for i in dfs:\n",
    "    i.drop('lastName_ID', axis = 1, inplace = True)\n",
    "    i.drop('Name', axis = 1, inplace = True)"
   ]
  },
  {
   "cell_type": "code",
   "execution_count": 34,
   "id": "a39592d7",
   "metadata": {
    "execution": {
     "iopub.execute_input": "2022-10-06T18:44:44.096956Z",
     "iopub.status.busy": "2022-10-06T18:44:44.096203Z",
     "iopub.status.idle": "2022-10-06T18:44:44.366685Z",
     "shell.execute_reply": "2022-10-06T18:44:44.365482Z"
    },
    "papermill": {
     "duration": 0.295643,
     "end_time": "2022-10-06T18:44:44.369342",
     "exception": false,
     "start_time": "2022-10-06T18:44:44.073699",
     "status": "completed"
    },
    "tags": []
   },
   "outputs": [
    {
     "data": {
      "text/plain": [
       "Text(0.5, 1.0, 'Family Size')"
      ]
     },
     "execution_count": 34,
     "metadata": {},
     "output_type": "execute_result"
    },
    {
     "data": {
      "image/png": "[encoded data removed]",
      "text/plain": [
       "<Figure size 864x288 with 1 Axes>"
      ]
     },
     "metadata": {
      "needs_background": "light"
     },
     "output_type": "display_data"
    }
   ],
   "source": [
    "plt.figure(figsize = (12,4))\n",
    "sns.countplot(data = train, x = 'FamilySize', hue = 'Transported')\n",
    "plt.title(\"Family Size\")"
   ]
  },
  {
   "cell_type": "code",
   "execution_count": 35,
   "id": "a9add126",
   "metadata": {
    "execution": {
     "iopub.execute_input": "2022-10-06T18:44:44.414803Z",
     "iopub.status.busy": "2022-10-06T18:44:44.414371Z",
     "iopub.status.idle": "2022-10-06T18:44:44.421939Z",
     "shell.execute_reply": "2022-10-06T18:44:44.420760Z"
    },
    "papermill": {
     "duration": 0.032926,
     "end_time": "2022-10-06T18:44:44.424344",
     "exception": false,
     "start_time": "2022-10-06T18:44:44.391418",
     "status": "completed"
    },
    "tags": []
   },
   "outputs": [
    {
     "data": {
      "text/plain": [
       "Index(['PassengerId', 'HomePlanet', 'CryoSleep', 'Destination', 'Age', 'VIP',\n",
       "       'RoomService', 'FoodCourt', 'ShoppingMall', 'Spa', 'VRDeck',\n",
       "       'Transported', 'AgeGroup', 'Total_Exp', 'SpentMoney', 'Group',\n",
       "       'Group_size', 'solo_travel', 'cabin_deck', 'cabin_number', 'cabin_side',\n",
       "       'lastName', 'FamilySize'],\n",
       "      dtype='object')"
      ]
     },
     "execution_count": 35,
     "metadata": {},
     "output_type": "execute_result"
    }
   ],
   "source": [
    "train.columns"
   ]
  },
  {
   "cell_type": "markdown",
   "id": "e68939e9",
   "metadata": {
    "papermill": {
     "duration": 0.021293,
     "end_time": "2022-10-06T18:44:44.467108",
     "exception": false,
     "start_time": "2022-10-06T18:44:44.445815",
     "status": "completed"
    },
    "tags": []
   },
   "source": [
    "# Hier nochmal nachschauen"
   ]
  },
  {
   "cell_type": "code",
   "execution_count": 36,
   "id": "87c8291a",
   "metadata": {
    "execution": {
     "iopub.execute_input": "2022-10-06T18:44:44.511738Z",
     "iopub.status.busy": "2022-10-06T18:44:44.511310Z",
     "iopub.status.idle": "2022-10-06T18:44:44.525002Z",
     "shell.execute_reply": "2022-10-06T18:44:44.523750Z"
    },
    "papermill": {
     "duration": 0.038966,
     "end_time": "2022-10-06T18:44:44.527651",
     "exception": false,
     "start_time": "2022-10-06T18:44:44.488685",
     "status": "completed"
    },
    "tags": []
   },
   "outputs": [],
   "source": [
    "train.loc[train['lastName']=='dummy','lastName'] = np.nan\n",
    "train.loc[train['FamilySize']>100,'FamilySize'] = np.nan\n",
    "test.loc[test['lastName']=='dummy','lastName'] = np.nan\n",
    "test.loc[test['FamilySize']>100,'FamilySize'] = np.nan"
   ]
  },
  {
   "cell_type": "markdown",
   "id": "8ef58861",
   "metadata": {
    "papermill": {
     "duration": 0.021014,
     "end_time": "2022-10-06T18:44:44.570195",
     "exception": false,
     "start_time": "2022-10-06T18:44:44.549181",
     "status": "completed"
    },
    "tags": []
   },
   "source": [
    "## 5. Dealing with missing values"
   ]
  },
  {
   "cell_type": "code",
   "execution_count": 37,
   "id": "d60f0f78",
   "metadata": {
    "execution": {
     "iopub.execute_input": "2022-10-06T18:44:44.616482Z",
     "iopub.status.busy": "2022-10-06T18:44:44.616049Z",
     "iopub.status.idle": "2022-10-06T18:44:44.630346Z",
     "shell.execute_reply": "2022-10-06T18:44:44.629076Z"
    },
    "papermill": {
     "duration": 0.040706,
     "end_time": "2022-10-06T18:44:44.632693",
     "exception": false,
     "start_time": "2022-10-06T18:44:44.591987",
     "status": "completed"
    },
    "tags": []
   },
   "outputs": [
    {
     "data": {
      "text/plain": [
       "['HomePlanet',\n",
       " 'CryoSleep',\n",
       " 'Destination',\n",
       " 'Age',\n",
       " 'VIP',\n",
       " 'RoomService',\n",
       " 'FoodCourt',\n",
       " 'ShoppingMall',\n",
       " 'Spa',\n",
       " 'VRDeck',\n",
       " 'AgeGroup',\n",
       " 'cabin_deck',\n",
       " 'cabin_number',\n",
       " 'cabin_side',\n",
       " 'lastName']"
      ]
     },
     "execution_count": 37,
     "metadata": {},
     "output_type": "execute_result"
    }
   ],
   "source": [
    "missing_values = train.columns[train.isna().any()].tolist()\n",
    "missing_values"
   ]
  },
  {
   "cell_type": "code",
   "execution_count": 38,
   "id": "2d5d577b",
   "metadata": {
    "execution": {
     "iopub.execute_input": "2022-10-06T18:44:44.679260Z",
     "iopub.status.busy": "2022-10-06T18:44:44.678829Z",
     "iopub.status.idle": "2022-10-06T18:44:44.701534Z",
     "shell.execute_reply": "2022-10-06T18:44:44.700375Z"
    },
    "papermill": {
     "duration": 0.048794,
     "end_time": "2022-10-06T18:44:44.703923",
     "exception": false,
     "start_time": "2022-10-06T18:44:44.655129",
     "status": "completed"
    },
    "tags": []
   },
   "outputs": [
    {
     "data": {
      "text/html": [
       "<div>\n",
       "<style scoped>\n",
       "    .dataframe tbody tr th:only-of-type {\n",
       "        vertical-align: middle;\n",
       "    }\n",
       "\n",
       "    .dataframe tbody tr th {\n",
       "        vertical-align: top;\n",
       "    }\n",
       "\n",
       "    .dataframe thead th {\n",
       "        text-align: right;\n",
       "    }\n",
       "</style>\n",
       "<table border=\"1\" class=\"dataframe\">\n",
       "  <thead>\n",
       "    <tr style=\"text-align: right;\">\n",
       "      <th></th>\n",
       "      <th>No. of missing values</th>\n",
       "      <th>% of values missing</th>\n",
       "    </tr>\n",
       "  </thead>\n",
       "  <tbody>\n",
       "    <tr>\n",
       "      <th>HomePlanet</th>\n",
       "      <td>201</td>\n",
       "      <td>2.3</td>\n",
       "    </tr>\n",
       "    <tr>\n",
       "      <th>CryoSleep</th>\n",
       "      <td>217</td>\n",
       "      <td>2.5</td>\n",
       "    </tr>\n",
       "    <tr>\n",
       "      <th>Destination</th>\n",
       "      <td>182</td>\n",
       "      <td>2.1</td>\n",
       "    </tr>\n",
       "    <tr>\n",
       "      <th>Age</th>\n",
       "      <td>179</td>\n",
       "      <td>2.1</td>\n",
       "    </tr>\n",
       "    <tr>\n",
       "      <th>VIP</th>\n",
       "      <td>203</td>\n",
       "      <td>2.3</td>\n",
       "    </tr>\n",
       "    <tr>\n",
       "      <th>RoomService</th>\n",
       "      <td>181</td>\n",
       "      <td>2.1</td>\n",
       "    </tr>\n",
       "    <tr>\n",
       "      <th>FoodCourt</th>\n",
       "      <td>183</td>\n",
       "      <td>2.1</td>\n",
       "    </tr>\n",
       "    <tr>\n",
       "      <th>ShoppingMall</th>\n",
       "      <td>208</td>\n",
       "      <td>2.4</td>\n",
       "    </tr>\n",
       "    <tr>\n",
       "      <th>Spa</th>\n",
       "      <td>183</td>\n",
       "      <td>2.1</td>\n",
       "    </tr>\n",
       "    <tr>\n",
       "      <th>VRDeck</th>\n",
       "      <td>188</td>\n",
       "      <td>2.2</td>\n",
       "    </tr>\n",
       "    <tr>\n",
       "      <th>AgeGroup</th>\n",
       "      <td>220</td>\n",
       "      <td>2.5</td>\n",
       "    </tr>\n",
       "    <tr>\n",
       "      <th>cabin_deck</th>\n",
       "      <td>199</td>\n",
       "      <td>2.3</td>\n",
       "    </tr>\n",
       "    <tr>\n",
       "      <th>cabin_number</th>\n",
       "      <td>199</td>\n",
       "      <td>2.3</td>\n",
       "    </tr>\n",
       "    <tr>\n",
       "      <th>cabin_side</th>\n",
       "      <td>199</td>\n",
       "      <td>2.3</td>\n",
       "    </tr>\n",
       "    <tr>\n",
       "      <th>lastName</th>\n",
       "      <td>200</td>\n",
       "      <td>2.3</td>\n",
       "    </tr>\n",
       "  </tbody>\n",
       "</table>\n",
       "</div>"
      ],
      "text/plain": [
       "              No. of missing values  % of values missing\n",
       "HomePlanet                      201                  2.3\n",
       "CryoSleep                       217                  2.5\n",
       "Destination                     182                  2.1\n",
       "Age                             179                  2.1\n",
       "VIP                             203                  2.3\n",
       "RoomService                     181                  2.1\n",
       "FoodCourt                       183                  2.1\n",
       "ShoppingMall                    208                  2.4\n",
       "Spa                             183                  2.1\n",
       "VRDeck                          188                  2.2\n",
       "AgeGroup                        220                  2.5\n",
       "cabin_deck                      199                  2.3\n",
       "cabin_number                    199                  2.3\n",
       "cabin_side                      199                  2.3\n",
       "lastName                        200                  2.3"
      ]
     },
     "execution_count": 38,
     "metadata": {},
     "output_type": "execute_result"
    }
   ],
   "source": [
    "mv_df = pd.DataFrame(train[missing_values].isna().sum(), columns = ['No. of missing values'])\n",
    "mv_df['% of values missing'] = np.round(100 * mv_df['No. of missing values']/len(train), 1)\n",
    "mv_df"
   ]
  },
  {
   "cell_type": "code",
   "execution_count": null,
   "id": "09d71d2e",
   "metadata": {
    "papermill": {
     "duration": 0.021505,
     "end_time": "2022-10-06T18:44:44.747314",
     "exception": false,
     "start_time": "2022-10-06T18:44:44.725809",
     "status": "completed"
    },
    "tags": []
   },
   "outputs": [],
   "source": []
  }
 ],
 "metadata": {
  "kernelspec": {
   "display_name": "Python 3",
   "language": "python",
   "name": "python3"
  },
  "language_info": {
   "codemirror_mode": {
    "name": "ipython",
    "version": 3
   },
   "file_extension": ".py",
   "mimetype": "text/x-python",
   "name": "python",
   "nbconvert_exporter": "python",
   "pygments_lexer": "ipython3",
   "version": "3.7.12"
  },
  "papermill": {
   "default_parameters": {},
   "duration": 72.30033,
   "end_time": "2022-10-06T18:44:45.793209",
   "environment_variables": {},
   "exception": null,
   "input_path": "__notebook__.ipynb",
   "output_path": "__notebook__.ipynb",
   "parameters": {},
   "start_time": "2022-10-06T18:43:33.492879",
   "version": "2.3.4"
  }
 },
 "nbformat": 4,
 "nbformat_minor": 5
}
