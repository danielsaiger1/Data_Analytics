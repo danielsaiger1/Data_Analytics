{
 "cells": [
  {
   "cell_type": "code",
   "execution_count": 1,
   "id": "39ae7fa1",
   "metadata": {
    "_cell_guid": "b1076dfc-b9ad-4769-8c92-a6c4dae69d19",
    "_uuid": "8f2839f25d086af736a60e9eeb907d3b93b6e0e5",
    "execution": {
     "iopub.execute_input": "2022-08-03T18:04:09.364990Z",
     "iopub.status.busy": "2022-08-03T18:04:09.364334Z",
     "iopub.status.idle": "2022-08-03T18:04:09.381036Z",
     "shell.execute_reply": "2022-08-03T18:04:09.379842Z"
    },
    "papermill": {
     "duration": 0.026936,
     "end_time": "2022-08-03T18:04:09.383495",
     "exception": false,
     "start_time": "2022-08-03T18:04:09.356559",
     "status": "completed"
    },
    "tags": []
   },
   "outputs": [
    {
     "name": "stdout",
     "output_type": "stream",
     "text": [
      "/kaggle/input/spaceship-titanic/sample_submission.csv\n",
      "/kaggle/input/spaceship-titanic/train.csv\n",
      "/kaggle/input/spaceship-titanic/test.csv\n"
     ]
    }
   ],
   "source": [
    "# This Python 3 environment comes with many helpful analytics libraries installed\n",
    "# It is defined by the kaggle/python Docker image: https://github.com/kaggle/docker-python\n",
    "# For example, here's several helpful packages to load\n",
    "\n",
    "import numpy as np # linear algebra\n",
    "import pandas as pd # data processing, CSV file I/O (e.g. pd.read_csv)\n",
    "\n",
    "# Input data files are available in the read-only \"../input/\" directory\n",
    "# For example, running this (by clicking run or pressing Shift+Enter) will list all files under the input directory\n",
    "\n",
    "import os\n",
    "for dirname, _, filenames in os.walk('/kaggle/input'):\n",
    "    for filename in filenames:\n",
    "        print(os.path.join(dirname, filename))\n",
    "\n",
    "# You can write up to 20GB to the current directory (/kaggle/working/) that gets preserved as output when you create a version using \"Save & Run All\" \n",
    "# You can also write temporary files to /kaggle/temp/, but they won't be saved outside of the current session"
   ]
  },
  {
   "cell_type": "markdown",
   "id": "70ee056c",
   "metadata": {
    "papermill": {
     "duration": 0.004841,
     "end_time": "2022-08-03T18:04:09.393374",
     "exception": false,
     "start_time": "2022-08-03T18:04:09.388533",
     "status": "completed"
    },
    "tags": []
   },
   "source": [
    "## Introduction\n",
    "\n",
    "In this Notebook we will use binary classification algoithms to solve the Spaceship Titanic Challenge. \n",
    "\n",
    "Our goal is to predict wether a passenger is transported to an other dimension after the crash of the space titanic or not. \n",
    "\n"
   ]
  },
  {
   "cell_type": "markdown",
   "id": "351c2410",
   "metadata": {
    "papermill": {
     "duration": 0.004684,
     "end_time": "2022-08-03T18:04:09.403037",
     "exception": false,
     "start_time": "2022-08-03T18:04:09.398353",
     "status": "completed"
    },
    "tags": []
   },
   "source": [
    "![spaceship](https://qph.cf2.quoracdn.net/main-qimg-c8dabaf5c8e26b056f1eda7728c1d002-lq)"
   ]
  },
  {
   "cell_type": "markdown",
   "id": "b5a018f9",
   "metadata": {
    "papermill": {
     "duration": 0.004833,
     "end_time": "2022-08-03T18:04:09.412993",
     "exception": false,
     "start_time": "2022-08-03T18:04:09.408160",
     "status": "completed"
    },
    "tags": []
   },
   "source": [
    "## The Dataset\n",
    "\n",
    "* **Train Data:**\n",
    "    * **PassengerId** - A unique Id for each passenger. Each Id takes the form gggg_pp where gggg indicates a group the passenger is travelling with and pp is their number within the group. People in a group are often family members, but not always.\n",
    "    * **HomePlanet** - The planet the passenger departed from, typically their planet of permanent residence.\n",
    "    * **CryoSleep** - Indicates whether the passenger elected to be put into suspended animation for the duration of the voyage. Passengers in cryosleep are confined to their cabins.\n",
    "    * **Cabin** - The cabin number where the passenger is staying. Takes the form deck/num/side, where side can be either P for Port or S for Starboard.\n",
    "    * **Destination** - The planet the passenger will be debarking to.\n",
    "    * **Age** - The age of the passenger.\n",
    "    * **VIP** - Whether the passenger has paid for special VIP service during the voyage.\n",
    "    * **RoomService, FoodCourt, ShoppingMall, Spa, VRDeck** - Amount the passenger has billed at each of the Spaceship Titanic's many luxury amenities.\n",
    "    * **Name** - The first and last names of the passenger.\n",
    "    * **Transported **- Whether the passenger was transported to another dimension. This is the target, the column we are trying to predict.\n",
    "    \n",
    "    \n",
    "* **Test Data:**\n",
    "    * Personal records for the remaining one-third (~4300) of the passengers, to be used as test data."
   ]
  },
  {
   "cell_type": "markdown",
   "id": "ea36b1d6",
   "metadata": {
    "papermill": {
     "duration": 0.004778,
     "end_time": "2022-08-03T18:04:09.422935",
     "exception": false,
     "start_time": "2022-08-03T18:04:09.418157",
     "status": "completed"
    },
    "tags": []
   },
   "source": [
    "## 1. Imports"
   ]
  },
  {
   "cell_type": "code",
   "execution_count": 2,
   "id": "768d0be3",
   "metadata": {
    "execution": {
     "iopub.execute_input": "2022-08-03T18:04:09.435813Z",
     "iopub.status.busy": "2022-08-03T18:04:09.435102Z",
     "iopub.status.idle": "2022-08-03T18:04:10.551027Z",
     "shell.execute_reply": "2022-08-03T18:04:10.549498Z"
    },
    "papermill": {
     "duration": 1.127749,
     "end_time": "2022-08-03T18:04:10.555966",
     "exception": false,
     "start_time": "2022-08-03T18:04:09.428217",
     "status": "completed"
    },
    "tags": []
   },
   "outputs": [],
   "source": [
    "import pandas as pd\n",
    "import numpy as np\n",
    "import matplotlib.pyplot as plt \n",
    "import seaborn as sns\n",
    "%matplotlib inline "
   ]
  },
  {
   "cell_type": "markdown",
   "id": "d08fc6bd",
   "metadata": {
    "papermill": {
     "duration": 0.006453,
     "end_time": "2022-08-03T18:04:10.568497",
     "exception": false,
     "start_time": "2022-08-03T18:04:10.562044",
     "status": "completed"
    },
    "tags": []
   },
   "source": [
    "## 2. Loading the Data "
   ]
  },
  {
   "cell_type": "code",
   "execution_count": 3,
   "id": "965b607b",
   "metadata": {
    "execution": {
     "iopub.execute_input": "2022-08-03T18:04:10.582313Z",
     "iopub.status.busy": "2022-08-03T18:04:10.581451Z",
     "iopub.status.idle": "2022-08-03T18:04:10.661978Z",
     "shell.execute_reply": "2022-08-03T18:04:10.661008Z"
    },
    "papermill": {
     "duration": 0.090565,
     "end_time": "2022-08-03T18:04:10.664797",
     "exception": false,
     "start_time": "2022-08-03T18:04:10.574232",
     "status": "completed"
    },
    "tags": []
   },
   "outputs": [
    {
     "name": "stdout",
     "output_type": "stream",
     "text": [
      "The Training Set has: 8693 rows and 14 columns\n",
      "The Test Set has: 4277 rows and 13 columns\n"
     ]
    }
   ],
   "source": [
    "train = pd.read_csv('../input/spaceship-titanic/train.csv')\n",
    "test = pd.read_csv('../input/spaceship-titanic/test.csv')\n",
    "\n",
    "print('The Training Set has:',train.shape[0] ,'rows and' ,train.shape[1] ,'columns')\n",
    "print('The Test Set has:',test.shape[0],'rows and',test.shape[1],'columns')"
   ]
  },
  {
   "cell_type": "code",
   "execution_count": 4,
   "id": "8035ff83",
   "metadata": {
    "execution": {
     "iopub.execute_input": "2022-08-03T18:04:10.676889Z",
     "iopub.status.busy": "2022-08-03T18:04:10.676475Z",
     "iopub.status.idle": "2022-08-03T18:04:10.708998Z",
     "shell.execute_reply": "2022-08-03T18:04:10.707648Z"
    },
    "papermill": {
     "duration": 0.041474,
     "end_time": "2022-08-03T18:04:10.711562",
     "exception": false,
     "start_time": "2022-08-03T18:04:10.670088",
     "status": "completed"
    },
    "tags": []
   },
   "outputs": [
    {
     "data": {
      "text/html": [
       "<div>\n",
       "<style scoped>\n",
       "    .dataframe tbody tr th:only-of-type {\n",
       "        vertical-align: middle;\n",
       "    }\n",
       "\n",
       "    .dataframe tbody tr th {\n",
       "        vertical-align: top;\n",
       "    }\n",
       "\n",
       "    .dataframe thead th {\n",
       "        text-align: right;\n",
       "    }\n",
       "</style>\n",
       "<table border=\"1\" class=\"dataframe\">\n",
       "  <thead>\n",
       "    <tr style=\"text-align: right;\">\n",
       "      <th></th>\n",
       "      <th>PassengerId</th>\n",
       "      <th>HomePlanet</th>\n",
       "      <th>CryoSleep</th>\n",
       "      <th>Cabin</th>\n",
       "      <th>Destination</th>\n",
       "      <th>Age</th>\n",
       "      <th>VIP</th>\n",
       "      <th>RoomService</th>\n",
       "      <th>FoodCourt</th>\n",
       "      <th>ShoppingMall</th>\n",
       "      <th>Spa</th>\n",
       "      <th>VRDeck</th>\n",
       "      <th>Name</th>\n",
       "      <th>Transported</th>\n",
       "    </tr>\n",
       "  </thead>\n",
       "  <tbody>\n",
       "    <tr>\n",
       "      <th>0</th>\n",
       "      <td>0001_01</td>\n",
       "      <td>Europa</td>\n",
       "      <td>False</td>\n",
       "      <td>B/0/P</td>\n",
       "      <td>TRAPPIST-1e</td>\n",
       "      <td>39.0</td>\n",
       "      <td>False</td>\n",
       "      <td>0.0</td>\n",
       "      <td>0.0</td>\n",
       "      <td>0.0</td>\n",
       "      <td>0.0</td>\n",
       "      <td>0.0</td>\n",
       "      <td>Maham Ofracculy</td>\n",
       "      <td>False</td>\n",
       "    </tr>\n",
       "    <tr>\n",
       "      <th>1</th>\n",
       "      <td>0002_01</td>\n",
       "      <td>Earth</td>\n",
       "      <td>False</td>\n",
       "      <td>F/0/S</td>\n",
       "      <td>TRAPPIST-1e</td>\n",
       "      <td>24.0</td>\n",
       "      <td>False</td>\n",
       "      <td>109.0</td>\n",
       "      <td>9.0</td>\n",
       "      <td>25.0</td>\n",
       "      <td>549.0</td>\n",
       "      <td>44.0</td>\n",
       "      <td>Juanna Vines</td>\n",
       "      <td>True</td>\n",
       "    </tr>\n",
       "    <tr>\n",
       "      <th>2</th>\n",
       "      <td>0003_01</td>\n",
       "      <td>Europa</td>\n",
       "      <td>False</td>\n",
       "      <td>A/0/S</td>\n",
       "      <td>TRAPPIST-1e</td>\n",
       "      <td>58.0</td>\n",
       "      <td>True</td>\n",
       "      <td>43.0</td>\n",
       "      <td>3576.0</td>\n",
       "      <td>0.0</td>\n",
       "      <td>6715.0</td>\n",
       "      <td>49.0</td>\n",
       "      <td>Altark Susent</td>\n",
       "      <td>False</td>\n",
       "    </tr>\n",
       "    <tr>\n",
       "      <th>3</th>\n",
       "      <td>0003_02</td>\n",
       "      <td>Europa</td>\n",
       "      <td>False</td>\n",
       "      <td>A/0/S</td>\n",
       "      <td>TRAPPIST-1e</td>\n",
       "      <td>33.0</td>\n",
       "      <td>False</td>\n",
       "      <td>0.0</td>\n",
       "      <td>1283.0</td>\n",
       "      <td>371.0</td>\n",
       "      <td>3329.0</td>\n",
       "      <td>193.0</td>\n",
       "      <td>Solam Susent</td>\n",
       "      <td>False</td>\n",
       "    </tr>\n",
       "    <tr>\n",
       "      <th>4</th>\n",
       "      <td>0004_01</td>\n",
       "      <td>Earth</td>\n",
       "      <td>False</td>\n",
       "      <td>F/1/S</td>\n",
       "      <td>TRAPPIST-1e</td>\n",
       "      <td>16.0</td>\n",
       "      <td>False</td>\n",
       "      <td>303.0</td>\n",
       "      <td>70.0</td>\n",
       "      <td>151.0</td>\n",
       "      <td>565.0</td>\n",
       "      <td>2.0</td>\n",
       "      <td>Willy Santantines</td>\n",
       "      <td>True</td>\n",
       "    </tr>\n",
       "  </tbody>\n",
       "</table>\n",
       "</div>"
      ],
      "text/plain": [
       "  PassengerId HomePlanet CryoSleep  Cabin  Destination   Age    VIP  \\\n",
       "0     0001_01     Europa     False  B/0/P  TRAPPIST-1e  39.0  False   \n",
       "1     0002_01      Earth     False  F/0/S  TRAPPIST-1e  24.0  False   \n",
       "2     0003_01     Europa     False  A/0/S  TRAPPIST-1e  58.0   True   \n",
       "3     0003_02     Europa     False  A/0/S  TRAPPIST-1e  33.0  False   \n",
       "4     0004_01      Earth     False  F/1/S  TRAPPIST-1e  16.0  False   \n",
       "\n",
       "   RoomService  FoodCourt  ShoppingMall     Spa  VRDeck               Name  \\\n",
       "0          0.0        0.0           0.0     0.0     0.0    Maham Ofracculy   \n",
       "1        109.0        9.0          25.0   549.0    44.0       Juanna Vines   \n",
       "2         43.0     3576.0           0.0  6715.0    49.0      Altark Susent   \n",
       "3          0.0     1283.0         371.0  3329.0   193.0       Solam Susent   \n",
       "4        303.0       70.0         151.0   565.0     2.0  Willy Santantines   \n",
       "\n",
       "   Transported  \n",
       "0        False  \n",
       "1         True  \n",
       "2        False  \n",
       "3        False  \n",
       "4         True  "
      ]
     },
     "execution_count": 4,
     "metadata": {},
     "output_type": "execute_result"
    }
   ],
   "source": [
    "train.head()"
   ]
  },
  {
   "cell_type": "markdown",
   "id": "3714a873",
   "metadata": {
    "papermill": {
     "duration": 0.005262,
     "end_time": "2022-08-03T18:04:10.722329",
     "exception": false,
     "start_time": "2022-08-03T18:04:10.717067",
     "status": "completed"
    },
    "tags": []
   },
   "source": [
    "## 3. Checking the state of the Data for later cleaning "
   ]
  },
  {
   "cell_type": "markdown",
   "id": "ba67c7e6",
   "metadata": {
    "papermill": {
     "duration": 0.005231,
     "end_time": "2022-08-03T18:04:10.733041",
     "exception": false,
     "start_time": "2022-08-03T18:04:10.727810",
     "status": "completed"
    },
    "tags": []
   },
   "source": [
    "### Missing values"
   ]
  },
  {
   "cell_type": "code",
   "execution_count": 5,
   "id": "bead7f71",
   "metadata": {
    "execution": {
     "iopub.execute_input": "2022-08-03T18:04:10.745716Z",
     "iopub.status.busy": "2022-08-03T18:04:10.745284Z",
     "iopub.status.idle": "2022-08-03T18:04:10.758982Z",
     "shell.execute_reply": "2022-08-03T18:04:10.757679Z"
    },
    "papermill": {
     "duration": 0.023157,
     "end_time": "2022-08-03T18:04:10.761661",
     "exception": false,
     "start_time": "2022-08-03T18:04:10.738504",
     "status": "completed"
    },
    "tags": []
   },
   "outputs": [
    {
     "name": "stdout",
     "output_type": "stream",
     "text": [
      "The train dataset has 2324 missing values\n",
      "The test dataset has 1117 missing values\n"
     ]
    }
   ],
   "source": [
    "print('The train dataset has', sum(train.isnull().sum()), 'missing values')\n",
    "print('The test dataset has', sum(test.isnull().sum()), 'missing values')"
   ]
  },
  {
   "cell_type": "markdown",
   "id": "4628443d",
   "metadata": {
    "papermill": {
     "duration": 0.004871,
     "end_time": "2022-08-03T18:04:10.771839",
     "exception": false,
     "start_time": "2022-08-03T18:04:10.766968",
     "status": "completed"
    },
    "tags": []
   },
   "source": [
    "### Distribution of the missing values\n",
    "\n",
    "We can see that every feature except for the Passenger ID contains null values."
   ]
  },
  {
   "cell_type": "code",
   "execution_count": 6,
   "id": "4afe4f72",
   "metadata": {
    "execution": {
     "iopub.execute_input": "2022-08-03T18:04:10.783932Z",
     "iopub.status.busy": "2022-08-03T18:04:10.783492Z",
     "iopub.status.idle": "2022-08-03T18:04:10.799657Z",
     "shell.execute_reply": "2022-08-03T18:04:10.798365Z"
    },
    "papermill": {
     "duration": 0.025405,
     "end_time": "2022-08-03T18:04:10.802279",
     "exception": false,
     "start_time": "2022-08-03T18:04:10.776874",
     "status": "completed"
    },
    "tags": []
   },
   "outputs": [
    {
     "name": "stdout",
     "output_type": "stream",
     "text": [
      "Training Set:\n",
      "PassengerId       0\n",
      "HomePlanet      201\n",
      "CryoSleep       217\n",
      "Cabin           199\n",
      "Destination     182\n",
      "Age             179\n",
      "VIP             203\n",
      "RoomService     181\n",
      "FoodCourt       183\n",
      "ShoppingMall    208\n",
      "Spa             183\n",
      "VRDeck          188\n",
      "Name            200\n",
      "Transported       0\n",
      "dtype: int64\n",
      "\n",
      "Test Set:\n",
      "PassengerId       0\n",
      "HomePlanet       87\n",
      "CryoSleep        93\n",
      "Cabin           100\n",
      "Destination      92\n",
      "Age              91\n",
      "VIP              93\n",
      "RoomService      82\n",
      "FoodCourt       106\n",
      "ShoppingMall     98\n",
      "Spa             101\n",
      "VRDeck           80\n",
      "Name             94\n",
      "dtype: int64\n"
     ]
    }
   ],
   "source": [
    "print('Training Set:')\n",
    "print(train.isnull().sum())\n",
    "print('')\n",
    "print('Test Set:')\n",
    "print(test.isnull().sum())"
   ]
  },
  {
   "cell_type": "markdown",
   "id": "ac0cfaec",
   "metadata": {
    "papermill": {
     "duration": 0.005028,
     "end_time": "2022-08-03T18:04:10.812827",
     "exception": false,
     "start_time": "2022-08-03T18:04:10.807799",
     "status": "completed"
    },
    "tags": []
   },
   "source": [
    "### Unique Values in every column"
   ]
  },
  {
   "cell_type": "code",
   "execution_count": 7,
   "id": "3a2f4500",
   "metadata": {
    "execution": {
     "iopub.execute_input": "2022-08-03T18:04:10.825821Z",
     "iopub.status.busy": "2022-08-03T18:04:10.824643Z",
     "iopub.status.idle": "2022-08-03T18:04:10.847456Z",
     "shell.execute_reply": "2022-08-03T18:04:10.846613Z"
    },
    "papermill": {
     "duration": 0.031556,
     "end_time": "2022-08-03T18:04:10.849651",
     "exception": false,
     "start_time": "2022-08-03T18:04:10.818095",
     "status": "completed"
    },
    "tags": []
   },
   "outputs": [
    {
     "data": {
      "text/plain": [
       "PassengerId     8693\n",
       "HomePlanet         3\n",
       "CryoSleep          2\n",
       "Cabin           6560\n",
       "Destination        3\n",
       "Age               80\n",
       "VIP                2\n",
       "RoomService     1273\n",
       "FoodCourt       1507\n",
       "ShoppingMall    1115\n",
       "Spa             1327\n",
       "VRDeck          1306\n",
       "Name            8473\n",
       "Transported        2\n",
       "dtype: int64"
      ]
     },
     "execution_count": 7,
     "metadata": {},
     "output_type": "execute_result"
    }
   ],
   "source": [
    "train.nunique()"
   ]
  },
  {
   "cell_type": "markdown",
   "id": "6dfd5b39",
   "metadata": {
    "papermill": {
     "duration": 0.005279,
     "end_time": "2022-08-03T18:04:10.860588",
     "exception": false,
     "start_time": "2022-08-03T18:04:10.855309",
     "status": "completed"
    },
    "tags": []
   },
   "source": [
    "### Data Types\n",
    "All Data needs to be transformed into numeric values for later model building"
   ]
  },
  {
   "cell_type": "code",
   "execution_count": 8,
   "id": "5f32c39d",
   "metadata": {
    "execution": {
     "iopub.execute_input": "2022-08-03T18:04:10.874773Z",
     "iopub.status.busy": "2022-08-03T18:04:10.874045Z",
     "iopub.status.idle": "2022-08-03T18:04:10.887109Z",
     "shell.execute_reply": "2022-08-03T18:04:10.885374Z"
    },
    "papermill": {
     "duration": 0.022592,
     "end_time": "2022-08-03T18:04:10.889585",
     "exception": false,
     "start_time": "2022-08-03T18:04:10.866993",
     "status": "completed"
    },
    "tags": []
   },
   "outputs": [
    {
     "name": "stdout",
     "output_type": "stream",
     "text": [
      "PassengerId      object\n",
      "HomePlanet       object\n",
      "CryoSleep        object\n",
      "Cabin            object\n",
      "Destination      object\n",
      "Age             float64\n",
      "VIP              object\n",
      "RoomService     float64\n",
      "FoodCourt       float64\n",
      "ShoppingMall    float64\n",
      "Spa             float64\n",
      "VRDeck          float64\n",
      "Name             object\n",
      "Transported        bool\n",
      "dtype: object\n"
     ]
    }
   ],
   "source": [
    "print(train.dtypes)\n",
    "\n",
    "# Saving the object features as a list \n",
    "obj = train.select_dtypes(['object']).columns"
   ]
  },
  {
   "cell_type": "markdown",
   "id": "7e51aa60",
   "metadata": {
    "papermill": {
     "duration": 0.005547,
     "end_time": "2022-08-03T18:04:10.900932",
     "exception": false,
     "start_time": "2022-08-03T18:04:10.895385",
     "status": "completed"
    },
    "tags": []
   },
   "source": [
    "## Checking the distribution of our target feature ('Transported') to see if we have to change our sampling "
   ]
  },
  {
   "cell_type": "code",
   "execution_count": 9,
   "id": "9cdbec55",
   "metadata": {
    "execution": {
     "iopub.execute_input": "2022-08-03T18:04:10.914799Z",
     "iopub.status.busy": "2022-08-03T18:04:10.913961Z",
     "iopub.status.idle": "2022-08-03T18:04:11.062055Z",
     "shell.execute_reply": "2022-08-03T18:04:11.060721Z"
    },
    "papermill": {
     "duration": 0.159267,
     "end_time": "2022-08-03T18:04:11.065942",
     "exception": false,
     "start_time": "2022-08-03T18:04:10.906675",
     "status": "completed"
    },
    "tags": []
   },
   "outputs": [
    {
     "data": {
      "text/plain": [
       "<AxesSubplot:xlabel='Transported', ylabel='count'>"
      ]
     },
     "execution_count": 9,
     "metadata": {},
     "output_type": "execute_result"
    },
    {
     "data": {
      "image/png": "[encoded data removed]",
      "text/plain": [
       "<Figure size 432x288 with 1 Axes>"
      ]
     },
     "metadata": {
      "needs_background": "light"
     },
     "output_type": "display_data"
    }
   ],
   "source": [
    "sns.countplot(data = train, x = \"Transported\")"
   ]
  },
  {
   "cell_type": "code",
   "execution_count": null,
   "id": "05956eeb",
   "metadata": {
    "papermill": {
     "duration": 0.006555,
     "end_time": "2022-08-03T18:04:11.079315",
     "exception": false,
     "start_time": "2022-08-03T18:04:11.072760",
     "status": "completed"
    },
    "tags": []
   },
   "outputs": [],
   "source": []
  }
 ],
 "metadata": {
  "kernelspec": {
   "display_name": "Python 3",
   "language": "python",
   "name": "python3"
  },
  "language_info": {
   "codemirror_mode": {
    "name": "ipython",
    "version": 3
   },
   "file_extension": ".py",
   "mimetype": "text/x-python",
   "name": "python",
   "nbconvert_exporter": "python",
   "pygments_lexer": "ipython3",
   "version": "3.7.12"
  },
  "papermill": {
   "default_parameters": {},
   "duration": 11.669805,
   "end_time": "2022-08-03T18:04:11.809637",
   "environment_variables": {},
   "exception": null,
   "input_path": "__notebook__.ipynb",
   "output_path": "__notebook__.ipynb",
   "parameters": {},
   "start_time": "2022-08-03T18:04:00.139832",
   "version": "2.3.4"
  }
 },
 "nbformat": 4,
 "nbformat_minor": 5
}
