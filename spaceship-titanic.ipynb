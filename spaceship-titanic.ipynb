{
 "cells": [
  {
   "cell_type": "code",
   "execution_count": 1,
   "id": "d578a896",
   "metadata": {
    "_cell_guid": "b1076dfc-b9ad-4769-8c92-a6c4dae69d19",
    "_uuid": "8f2839f25d086af736a60e9eeb907d3b93b6e0e5",
    "execution": {
     "iopub.execute_input": "2022-08-07T19:24:24.761880Z",
     "iopub.status.busy": "2022-08-07T19:24:24.760954Z",
     "iopub.status.idle": "2022-08-07T19:24:24.774458Z",
     "shell.execute_reply": "2022-08-07T19:24:24.773108Z"
    },
    "papermill": {
     "duration": 0.025677,
     "end_time": "2022-08-07T19:24:24.776490",
     "exception": false,
     "start_time": "2022-08-07T19:24:24.750813",
     "status": "completed"
    },
    "tags": []
   },
   "outputs": [
    {
     "name": "stdout",
     "output_type": "stream",
     "text": [
      "/kaggle/input/spaceship-titanic/sample_submission.csv\n",
      "/kaggle/input/spaceship-titanic/train.csv\n",
      "/kaggle/input/spaceship-titanic/test.csv\n"
     ]
    }
   ],
   "source": [
    "# This Python 3 environment comes with many helpful analytics libraries installed\n",
    "# It is defined by the kaggle/python Docker image: https://github.com/kaggle/docker-python\n",
    "# For example, here's several helpful packages to load\n",
    "\n",
    "import numpy as np # linear algebra\n",
    "import pandas as pd # data processing, CSV file I/O (e.g. pd.read_csv)\n",
    "\n",
    "# Input data files are available in the read-only \"../input/\" directory\n",
    "# For example, running this (by clicking run or pressing Shift+Enter) will list all files under the input directory\n",
    "\n",
    "import os\n",
    "for dirname, _, filenames in os.walk('/kaggle/input'):\n",
    "    for filename in filenames:\n",
    "        print(os.path.join(dirname, filename))\n",
    "\n",
    "# You can write up to 20GB to the current directory (/kaggle/working/) that gets preserved as output when you create a version using \"Save & Run All\" \n",
    "# You can also write temporary files to /kaggle/temp/, but they won't be saved outside of the current session"
   ]
  },
  {
   "cell_type": "markdown",
   "id": "7015e95f",
   "metadata": {
    "papermill": {
     "duration": 0.006808,
     "end_time": "2022-08-07T19:24:24.790640",
     "exception": false,
     "start_time": "2022-08-07T19:24:24.783832",
     "status": "completed"
    },
    "tags": []
   },
   "source": [
    "## Introduction\n",
    "\n",
    "In this Notebook we will use binary classification algoithms to solve the Spaceship Titanic Challenge. \n",
    "\n",
    "Our goal is to predict wether a passenger is transported to an other dimension after the crash of the space titanic or not. \n",
    "\n"
   ]
  },
  {
   "cell_type": "markdown",
   "id": "2f82dd6a",
   "metadata": {
    "papermill": {
     "duration": 0.006571,
     "end_time": "2022-08-07T19:24:24.804202",
     "exception": false,
     "start_time": "2022-08-07T19:24:24.797631",
     "status": "completed"
    },
    "tags": []
   },
   "source": [
    "![spaceship](https://qph.cf2.quoracdn.net/main-qimg-c8dabaf5c8e26b056f1eda7728c1d002-lq)"
   ]
  },
  {
   "cell_type": "markdown",
   "id": "5d9444ab",
   "metadata": {
    "papermill": {
     "duration": 0.006691,
     "end_time": "2022-08-07T19:24:24.817772",
     "exception": false,
     "start_time": "2022-08-07T19:24:24.811081",
     "status": "completed"
    },
    "tags": []
   },
   "source": [
    "## The Dataset\n",
    "\n",
    "* **Train Data:**\n",
    "    * **PassengerId** - A unique Id for each passenger. Each Id takes the form gggg_pp where gggg indicates a group the passenger is travelling with and pp is their number within the group. People in a group are often family members, but not always.\n",
    "    * **HomePlanet** - The planet the passenger departed from, typically their planet of permanent residence.\n",
    "    * **CryoSleep** - Indicates whether the passenger elected to be put into suspended animation for the duration of the voyage. Passengers in cryosleep are confined to their cabins.\n",
    "    * **Cabin** - The cabin number where the passenger is staying. Takes the form deck/num/side, where side can be either P for Port or S for Starboard.\n",
    "    * **Destination** - The planet the passenger will be debarking to.\n",
    "    * **Age** - The age of the passenger.\n",
    "    * **VIP** - Whether the passenger has paid for special VIP service during the voyage.\n",
    "    * **RoomService, FoodCourt, ShoppingMall, Spa, VRDeck** - Amount the passenger has billed at each of the Spaceship Titanic's many luxury amenities.\n",
    "    * **Name** - The first and last names of the passenger.\n",
    "    * **Transported **- Whether the passenger was transported to another dimension. This is the target, the column we are trying to predict.\n",
    "    \n",
    "    \n",
    "* **Test Data:**\n",
    "    * Personal records for the remaining one-third (~4300) of the passengers, to be used as test data."
   ]
  },
  {
   "cell_type": "markdown",
   "id": "45a1d81d",
   "metadata": {
    "papermill": {
     "duration": 0.006804,
     "end_time": "2022-08-07T19:24:24.831733",
     "exception": false,
     "start_time": "2022-08-07T19:24:24.824929",
     "status": "completed"
    },
    "tags": []
   },
   "source": [
    "## 1. Imports"
   ]
  },
  {
   "cell_type": "code",
   "execution_count": 2,
   "id": "74ced959",
   "metadata": {
    "execution": {
     "iopub.execute_input": "2022-08-07T19:24:24.848206Z",
     "iopub.status.busy": "2022-08-07T19:24:24.847695Z",
     "iopub.status.idle": "2022-08-07T19:24:25.873917Z",
     "shell.execute_reply": "2022-08-07T19:24:25.873245Z"
    },
    "papermill": {
     "duration": 1.037079,
     "end_time": "2022-08-07T19:24:25.875945",
     "exception": false,
     "start_time": "2022-08-07T19:24:24.838866",
     "status": "completed"
    },
    "tags": []
   },
   "outputs": [],
   "source": [
    "import pandas as pd\n",
    "import numpy as np\n",
    "import matplotlib.pyplot as plt \n",
    "import seaborn as sns\n",
    "%matplotlib inline "
   ]
  },
  {
   "cell_type": "markdown",
   "id": "13a65705",
   "metadata": {
    "papermill": {
     "duration": 0.006686,
     "end_time": "2022-08-07T19:24:25.890295",
     "exception": false,
     "start_time": "2022-08-07T19:24:25.883609",
     "status": "completed"
    },
    "tags": []
   },
   "source": [
    "## 2. Loading the Data "
   ]
  },
  {
   "cell_type": "code",
   "execution_count": 3,
   "id": "985ff103",
   "metadata": {
    "execution": {
     "iopub.execute_input": "2022-08-07T19:24:25.907163Z",
     "iopub.status.busy": "2022-08-07T19:24:25.905811Z",
     "iopub.status.idle": "2022-08-07T19:24:25.976476Z",
     "shell.execute_reply": "2022-08-07T19:24:25.974645Z"
    },
    "papermill": {
     "duration": 0.081038,
     "end_time": "2022-08-07T19:24:25.978823",
     "exception": false,
     "start_time": "2022-08-07T19:24:25.897785",
     "status": "completed"
    },
    "tags": []
   },
   "outputs": [
    {
     "name": "stdout",
     "output_type": "stream",
     "text": [
      "The Training Set has: 8693 rows and 14 columns\n",
      "The Test Set has: 4277 rows and 13 columns\n"
     ]
    }
   ],
   "source": [
    "train = pd.read_csv('../input/spaceship-titanic/train.csv')\n",
    "test = pd.read_csv('../input/spaceship-titanic/test.csv')\n",
    "\n",
    "print('The Training Set has:',train.shape[0] ,'rows and' ,train.shape[1] ,'columns')\n",
    "print('The Test Set has:',test.shape[0],'rows and',test.shape[1],'columns')"
   ]
  },
  {
   "cell_type": "code",
   "execution_count": 4,
   "id": "1726c05f",
   "metadata": {
    "execution": {
     "iopub.execute_input": "2022-08-07T19:24:25.995062Z",
     "iopub.status.busy": "2022-08-07T19:24:25.994649Z",
     "iopub.status.idle": "2022-08-07T19:24:26.023157Z",
     "shell.execute_reply": "2022-08-07T19:24:26.022127Z"
    },
    "papermill": {
     "duration": 0.038831,
     "end_time": "2022-08-07T19:24:26.025231",
     "exception": false,
     "start_time": "2022-08-07T19:24:25.986400",
     "status": "completed"
    },
    "tags": []
   },
   "outputs": [
    {
     "data": {
      "text/html": [
       "<div>\n",
       "<style scoped>\n",
       "    .dataframe tbody tr th:only-of-type {\n",
       "        vertical-align: middle;\n",
       "    }\n",
       "\n",
       "    .dataframe tbody tr th {\n",
       "        vertical-align: top;\n",
       "    }\n",
       "\n",
       "    .dataframe thead th {\n",
       "        text-align: right;\n",
       "    }\n",
       "</style>\n",
       "<table border=\"1\" class=\"dataframe\">\n",
       "  <thead>\n",
       "    <tr style=\"text-align: right;\">\n",
       "      <th></th>\n",
       "      <th>PassengerId</th>\n",
       "      <th>HomePlanet</th>\n",
       "      <th>CryoSleep</th>\n",
       "      <th>Cabin</th>\n",
       "      <th>Destination</th>\n",
       "      <th>Age</th>\n",
       "      <th>VIP</th>\n",
       "      <th>RoomService</th>\n",
       "      <th>FoodCourt</th>\n",
       "      <th>ShoppingMall</th>\n",
       "      <th>Spa</th>\n",
       "      <th>VRDeck</th>\n",
       "      <th>Name</th>\n",
       "      <th>Transported</th>\n",
       "    </tr>\n",
       "  </thead>\n",
       "  <tbody>\n",
       "    <tr>\n",
       "      <th>0</th>\n",
       "      <td>0001_01</td>\n",
       "      <td>Europa</td>\n",
       "      <td>False</td>\n",
       "      <td>B/0/P</td>\n",
       "      <td>TRAPPIST-1e</td>\n",
       "      <td>39.0</td>\n",
       "      <td>False</td>\n",
       "      <td>0.0</td>\n",
       "      <td>0.0</td>\n",
       "      <td>0.0</td>\n",
       "      <td>0.0</td>\n",
       "      <td>0.0</td>\n",
       "      <td>Maham Ofracculy</td>\n",
       "      <td>False</td>\n",
       "    </tr>\n",
       "    <tr>\n",
       "      <th>1</th>\n",
       "      <td>0002_01</td>\n",
       "      <td>Earth</td>\n",
       "      <td>False</td>\n",
       "      <td>F/0/S</td>\n",
       "      <td>TRAPPIST-1e</td>\n",
       "      <td>24.0</td>\n",
       "      <td>False</td>\n",
       "      <td>109.0</td>\n",
       "      <td>9.0</td>\n",
       "      <td>25.0</td>\n",
       "      <td>549.0</td>\n",
       "      <td>44.0</td>\n",
       "      <td>Juanna Vines</td>\n",
       "      <td>True</td>\n",
       "    </tr>\n",
       "    <tr>\n",
       "      <th>2</th>\n",
       "      <td>0003_01</td>\n",
       "      <td>Europa</td>\n",
       "      <td>False</td>\n",
       "      <td>A/0/S</td>\n",
       "      <td>TRAPPIST-1e</td>\n",
       "      <td>58.0</td>\n",
       "      <td>True</td>\n",
       "      <td>43.0</td>\n",
       "      <td>3576.0</td>\n",
       "      <td>0.0</td>\n",
       "      <td>6715.0</td>\n",
       "      <td>49.0</td>\n",
       "      <td>Altark Susent</td>\n",
       "      <td>False</td>\n",
       "    </tr>\n",
       "    <tr>\n",
       "      <th>3</th>\n",
       "      <td>0003_02</td>\n",
       "      <td>Europa</td>\n",
       "      <td>False</td>\n",
       "      <td>A/0/S</td>\n",
       "      <td>TRAPPIST-1e</td>\n",
       "      <td>33.0</td>\n",
       "      <td>False</td>\n",
       "      <td>0.0</td>\n",
       "      <td>1283.0</td>\n",
       "      <td>371.0</td>\n",
       "      <td>3329.0</td>\n",
       "      <td>193.0</td>\n",
       "      <td>Solam Susent</td>\n",
       "      <td>False</td>\n",
       "    </tr>\n",
       "    <tr>\n",
       "      <th>4</th>\n",
       "      <td>0004_01</td>\n",
       "      <td>Earth</td>\n",
       "      <td>False</td>\n",
       "      <td>F/1/S</td>\n",
       "      <td>TRAPPIST-1e</td>\n",
       "      <td>16.0</td>\n",
       "      <td>False</td>\n",
       "      <td>303.0</td>\n",
       "      <td>70.0</td>\n",
       "      <td>151.0</td>\n",
       "      <td>565.0</td>\n",
       "      <td>2.0</td>\n",
       "      <td>Willy Santantines</td>\n",
       "      <td>True</td>\n",
       "    </tr>\n",
       "  </tbody>\n",
       "</table>\n",
       "</div>"
      ],
      "text/plain": [
       "  PassengerId HomePlanet CryoSleep  Cabin  Destination   Age    VIP  \\\n",
       "0     0001_01     Europa     False  B/0/P  TRAPPIST-1e  39.0  False   \n",
       "1     0002_01      Earth     False  F/0/S  TRAPPIST-1e  24.0  False   \n",
       "2     0003_01     Europa     False  A/0/S  TRAPPIST-1e  58.0   True   \n",
       "3     0003_02     Europa     False  A/0/S  TRAPPIST-1e  33.0  False   \n",
       "4     0004_01      Earth     False  F/1/S  TRAPPIST-1e  16.0  False   \n",
       "\n",
       "   RoomService  FoodCourt  ShoppingMall     Spa  VRDeck               Name  \\\n",
       "0          0.0        0.0           0.0     0.0     0.0    Maham Ofracculy   \n",
       "1        109.0        9.0          25.0   549.0    44.0       Juanna Vines   \n",
       "2         43.0     3576.0           0.0  6715.0    49.0      Altark Susent   \n",
       "3          0.0     1283.0         371.0  3329.0   193.0       Solam Susent   \n",
       "4        303.0       70.0         151.0   565.0     2.0  Willy Santantines   \n",
       "\n",
       "   Transported  \n",
       "0        False  \n",
       "1         True  \n",
       "2        False  \n",
       "3        False  \n",
       "4         True  "
      ]
     },
     "execution_count": 4,
     "metadata": {},
     "output_type": "execute_result"
    }
   ],
   "source": [
    "train.head()"
   ]
  },
  {
   "cell_type": "markdown",
   "id": "202c6963",
   "metadata": {
    "papermill": {
     "duration": 0.007155,
     "end_time": "2022-08-07T19:24:26.039896",
     "exception": false,
     "start_time": "2022-08-07T19:24:26.032741",
     "status": "completed"
    },
    "tags": []
   },
   "source": [
    "## 3. Checking the state of the Data"
   ]
  },
  {
   "cell_type": "markdown",
   "id": "78553a16",
   "metadata": {
    "papermill": {
     "duration": 0.007311,
     "end_time": "2022-08-07T19:24:26.055253",
     "exception": false,
     "start_time": "2022-08-07T19:24:26.047942",
     "status": "completed"
    },
    "tags": []
   },
   "source": [
    "### Missing values"
   ]
  },
  {
   "cell_type": "code",
   "execution_count": 5,
   "id": "27700d3b",
   "metadata": {
    "execution": {
     "iopub.execute_input": "2022-08-07T19:24:26.071461Z",
     "iopub.status.busy": "2022-08-07T19:24:26.071155Z",
     "iopub.status.idle": "2022-08-07T19:24:26.081204Z",
     "shell.execute_reply": "2022-08-07T19:24:26.080406Z"
    },
    "papermill": {
     "duration": 0.020422,
     "end_time": "2022-08-07T19:24:26.083141",
     "exception": false,
     "start_time": "2022-08-07T19:24:26.062719",
     "status": "completed"
    },
    "tags": []
   },
   "outputs": [
    {
     "name": "stdout",
     "output_type": "stream",
     "text": [
      "The train dataset has 2324 missing values\n",
      "The test dataset has 1117 missing values\n"
     ]
    }
   ],
   "source": [
    "print('The train dataset has', sum(train.isnull().sum()), 'missing values')\n",
    "print('The test dataset has', sum(test.isnull().sum()), 'missing values')"
   ]
  },
  {
   "cell_type": "markdown",
   "id": "b75991d7",
   "metadata": {
    "papermill": {
     "duration": 0.007061,
     "end_time": "2022-08-07T19:24:26.097821",
     "exception": false,
     "start_time": "2022-08-07T19:24:26.090760",
     "status": "completed"
    },
    "tags": []
   },
   "source": [
    "### Distribution of the missing values\n",
    "\n",
    "We can see that every feature except for the Passenger ID contains null values."
   ]
  },
  {
   "cell_type": "code",
   "execution_count": 6,
   "id": "2ce3aee4",
   "metadata": {
    "execution": {
     "iopub.execute_input": "2022-08-07T19:24:26.114474Z",
     "iopub.status.busy": "2022-08-07T19:24:26.114194Z",
     "iopub.status.idle": "2022-08-07T19:24:26.125959Z",
     "shell.execute_reply": "2022-08-07T19:24:26.125048Z"
    },
    "papermill": {
     "duration": 0.023321,
     "end_time": "2022-08-07T19:24:26.128626",
     "exception": false,
     "start_time": "2022-08-07T19:24:26.105305",
     "status": "completed"
    },
    "tags": []
   },
   "outputs": [
    {
     "name": "stdout",
     "output_type": "stream",
     "text": [
      "Training Set:\n",
      "PassengerId       0\n",
      "HomePlanet      201\n",
      "CryoSleep       217\n",
      "Cabin           199\n",
      "Destination     182\n",
      "Age             179\n",
      "VIP             203\n",
      "RoomService     181\n",
      "FoodCourt       183\n",
      "ShoppingMall    208\n",
      "Spa             183\n",
      "VRDeck          188\n",
      "Name            200\n",
      "Transported       0\n",
      "dtype: int64\n",
      "\n",
      "Test Set:\n",
      "PassengerId       0\n",
      "HomePlanet       87\n",
      "CryoSleep        93\n",
      "Cabin           100\n",
      "Destination      92\n",
      "Age              91\n",
      "VIP              93\n",
      "RoomService      82\n",
      "FoodCourt       106\n",
      "ShoppingMall     98\n",
      "Spa             101\n",
      "VRDeck           80\n",
      "Name             94\n",
      "dtype: int64\n"
     ]
    }
   ],
   "source": [
    "print('Training Set:')\n",
    "print(train.isnull().sum())\n",
    "print('')\n",
    "print('Test Set:')\n",
    "print(test.isnull().sum())"
   ]
  },
  {
   "cell_type": "markdown",
   "id": "93771bfe",
   "metadata": {
    "papermill": {
     "duration": 0.007996,
     "end_time": "2022-08-07T19:24:26.146145",
     "exception": false,
     "start_time": "2022-08-07T19:24:26.138149",
     "status": "completed"
    },
    "tags": []
   },
   "source": [
    "### Unique Values in every column"
   ]
  },
  {
   "cell_type": "code",
   "execution_count": 7,
   "id": "51f0869c",
   "metadata": {
    "execution": {
     "iopub.execute_input": "2022-08-07T19:24:26.164311Z",
     "iopub.status.busy": "2022-08-07T19:24:26.163287Z",
     "iopub.status.idle": "2022-08-07T19:24:26.186512Z",
     "shell.execute_reply": "2022-08-07T19:24:26.185555Z"
    },
    "papermill": {
     "duration": 0.034058,
     "end_time": "2022-08-07T19:24:26.188437",
     "exception": false,
     "start_time": "2022-08-07T19:24:26.154379",
     "status": "completed"
    },
    "tags": []
   },
   "outputs": [
    {
     "data": {
      "text/plain": [
       "PassengerId     8693\n",
       "HomePlanet         3\n",
       "CryoSleep          2\n",
       "Cabin           6560\n",
       "Destination        3\n",
       "Age               80\n",
       "VIP                2\n",
       "RoomService     1273\n",
       "FoodCourt       1507\n",
       "ShoppingMall    1115\n",
       "Spa             1327\n",
       "VRDeck          1306\n",
       "Name            8473\n",
       "Transported        2\n",
       "dtype: int64"
      ]
     },
     "execution_count": 7,
     "metadata": {},
     "output_type": "execute_result"
    }
   ],
   "source": [
    "train.nunique()"
   ]
  },
  {
   "cell_type": "markdown",
   "id": "1c62c0af",
   "metadata": {
    "papermill": {
     "duration": 0.007953,
     "end_time": "2022-08-07T19:24:26.204171",
     "exception": false,
     "start_time": "2022-08-07T19:24:26.196218",
     "status": "completed"
    },
    "tags": []
   },
   "source": [
    "### Data Types\n",
    "All Data needs to be transformed into numeric values for later model building"
   ]
  },
  {
   "cell_type": "code",
   "execution_count": 8,
   "id": "6845f0b0",
   "metadata": {
    "execution": {
     "iopub.execute_input": "2022-08-07T19:24:26.221076Z",
     "iopub.status.busy": "2022-08-07T19:24:26.220604Z",
     "iopub.status.idle": "2022-08-07T19:24:26.231683Z",
     "shell.execute_reply": "2022-08-07T19:24:26.230870Z"
    },
    "papermill": {
     "duration": 0.021806,
     "end_time": "2022-08-07T19:24:26.233865",
     "exception": false,
     "start_time": "2022-08-07T19:24:26.212059",
     "status": "completed"
    },
    "tags": []
   },
   "outputs": [
    {
     "name": "stdout",
     "output_type": "stream",
     "text": [
      "PassengerId      object\n",
      "HomePlanet       object\n",
      "CryoSleep        object\n",
      "Cabin            object\n",
      "Destination      object\n",
      "Age             float64\n",
      "VIP              object\n",
      "RoomService     float64\n",
      "FoodCourt       float64\n",
      "ShoppingMall    float64\n",
      "Spa             float64\n",
      "VRDeck          float64\n",
      "Name             object\n",
      "Transported        bool\n",
      "dtype: object\n"
     ]
    }
   ],
   "source": [
    "print(train.dtypes)\n",
    "\n",
    "# Saving the object features as a list \n",
    "obj = train.select_dtypes(['object']).columns"
   ]
  },
  {
   "cell_type": "markdown",
   "id": "fdff36da",
   "metadata": {
    "papermill": {
     "duration": 0.007332,
     "end_time": "2022-08-07T19:24:26.250431",
     "exception": false,
     "start_time": "2022-08-07T19:24:26.243099",
     "status": "completed"
    },
    "tags": []
   },
   "source": [
    "### Checking the distribution of our target feature ('Transported') to see if we have to change our sampling \n",
    "The target feature seems to be nearly even distributed, so we have to do no over- or undersampling"
   ]
  },
  {
   "cell_type": "code",
   "execution_count": 9,
   "id": "ada91de7",
   "metadata": {
    "execution": {
     "iopub.execute_input": "2022-08-07T19:24:26.267756Z",
     "iopub.status.busy": "2022-08-07T19:24:26.266942Z",
     "iopub.status.idle": "2022-08-07T19:24:26.405125Z",
     "shell.execute_reply": "2022-08-07T19:24:26.404311Z"
    },
    "papermill": {
     "duration": 0.149058,
     "end_time": "2022-08-07T19:24:26.407335",
     "exception": false,
     "start_time": "2022-08-07T19:24:26.258277",
     "status": "completed"
    },
    "tags": []
   },
   "outputs": [
    {
     "data": {
      "text/plain": [
       "<AxesSubplot:xlabel='Transported', ylabel='count'>"
      ]
     },
     "execution_count": 9,
     "metadata": {},
     "output_type": "execute_result"
    },
    {
     "data": {
      "image/png": "[encoded data removed]",
      "text/plain": [
       "<Figure size 432x288 with 1 Axes>"
      ]
     },
     "metadata": {
      "needs_background": "light"
     },
     "output_type": "display_data"
    }
   ],
   "source": [
    "sns.countplot(data = train, x = \"Transported\")"
   ]
  },
  {
   "cell_type": "markdown",
   "id": "c0fdd1df",
   "metadata": {
    "papermill": {
     "duration": 0.009738,
     "end_time": "2022-08-07T19:24:26.427960",
     "exception": false,
     "start_time": "2022-08-07T19:24:26.418222",
     "status": "completed"
    },
    "tags": []
   },
   "source": [
    "## 4. Explorative Data Analysis (EDA)"
   ]
  },
  {
   "cell_type": "code",
   "execution_count": 10,
   "id": "99b1de11",
   "metadata": {
    "execution": {
     "iopub.execute_input": "2022-08-07T19:24:26.445757Z",
     "iopub.status.busy": "2022-08-07T19:24:26.444998Z",
     "iopub.status.idle": "2022-08-07T19:24:26.461611Z",
     "shell.execute_reply": "2022-08-07T19:24:26.460433Z"
    },
    "papermill": {
     "duration": 0.028126,
     "end_time": "2022-08-07T19:24:26.463959",
     "exception": false,
     "start_time": "2022-08-07T19:24:26.435833",
     "status": "completed"
    },
    "tags": []
   },
   "outputs": [
    {
     "data": {
      "text/html": [
       "<div>\n",
       "<style scoped>\n",
       "    .dataframe tbody tr th:only-of-type {\n",
       "        vertical-align: middle;\n",
       "    }\n",
       "\n",
       "    .dataframe tbody tr th {\n",
       "        vertical-align: top;\n",
       "    }\n",
       "\n",
       "    .dataframe thead th {\n",
       "        text-align: right;\n",
       "    }\n",
       "</style>\n",
       "<table border=\"1\" class=\"dataframe\">\n",
       "  <thead>\n",
       "    <tr style=\"text-align: right;\">\n",
       "      <th></th>\n",
       "      <th>PassengerId</th>\n",
       "      <th>HomePlanet</th>\n",
       "      <th>CryoSleep</th>\n",
       "      <th>Cabin</th>\n",
       "      <th>Destination</th>\n",
       "      <th>Age</th>\n",
       "      <th>VIP</th>\n",
       "      <th>RoomService</th>\n",
       "      <th>FoodCourt</th>\n",
       "      <th>ShoppingMall</th>\n",
       "      <th>Spa</th>\n",
       "      <th>VRDeck</th>\n",
       "      <th>Name</th>\n",
       "      <th>Transported</th>\n",
       "    </tr>\n",
       "  </thead>\n",
       "  <tbody>\n",
       "    <tr>\n",
       "      <th>0</th>\n",
       "      <td>0001_01</td>\n",
       "      <td>Europa</td>\n",
       "      <td>False</td>\n",
       "      <td>B/0/P</td>\n",
       "      <td>TRAPPIST-1e</td>\n",
       "      <td>39.0</td>\n",
       "      <td>False</td>\n",
       "      <td>0.0</td>\n",
       "      <td>0.0</td>\n",
       "      <td>0.0</td>\n",
       "      <td>0.0</td>\n",
       "      <td>0.0</td>\n",
       "      <td>Maham Ofracculy</td>\n",
       "      <td>False</td>\n",
       "    </tr>\n",
       "    <tr>\n",
       "      <th>1</th>\n",
       "      <td>0002_01</td>\n",
       "      <td>Earth</td>\n",
       "      <td>False</td>\n",
       "      <td>F/0/S</td>\n",
       "      <td>TRAPPIST-1e</td>\n",
       "      <td>24.0</td>\n",
       "      <td>False</td>\n",
       "      <td>109.0</td>\n",
       "      <td>9.0</td>\n",
       "      <td>25.0</td>\n",
       "      <td>549.0</td>\n",
       "      <td>44.0</td>\n",
       "      <td>Juanna Vines</td>\n",
       "      <td>True</td>\n",
       "    </tr>\n",
       "    <tr>\n",
       "      <th>2</th>\n",
       "      <td>0003_01</td>\n",
       "      <td>Europa</td>\n",
       "      <td>False</td>\n",
       "      <td>A/0/S</td>\n",
       "      <td>TRAPPIST-1e</td>\n",
       "      <td>58.0</td>\n",
       "      <td>True</td>\n",
       "      <td>43.0</td>\n",
       "      <td>3576.0</td>\n",
       "      <td>0.0</td>\n",
       "      <td>6715.0</td>\n",
       "      <td>49.0</td>\n",
       "      <td>Altark Susent</td>\n",
       "      <td>False</td>\n",
       "    </tr>\n",
       "    <tr>\n",
       "      <th>3</th>\n",
       "      <td>0003_02</td>\n",
       "      <td>Europa</td>\n",
       "      <td>False</td>\n",
       "      <td>A/0/S</td>\n",
       "      <td>TRAPPIST-1e</td>\n",
       "      <td>33.0</td>\n",
       "      <td>False</td>\n",
       "      <td>0.0</td>\n",
       "      <td>1283.0</td>\n",
       "      <td>371.0</td>\n",
       "      <td>3329.0</td>\n",
       "      <td>193.0</td>\n",
       "      <td>Solam Susent</td>\n",
       "      <td>False</td>\n",
       "    </tr>\n",
       "    <tr>\n",
       "      <th>4</th>\n",
       "      <td>0004_01</td>\n",
       "      <td>Earth</td>\n",
       "      <td>False</td>\n",
       "      <td>F/1/S</td>\n",
       "      <td>TRAPPIST-1e</td>\n",
       "      <td>16.0</td>\n",
       "      <td>False</td>\n",
       "      <td>303.0</td>\n",
       "      <td>70.0</td>\n",
       "      <td>151.0</td>\n",
       "      <td>565.0</td>\n",
       "      <td>2.0</td>\n",
       "      <td>Willy Santantines</td>\n",
       "      <td>True</td>\n",
       "    </tr>\n",
       "  </tbody>\n",
       "</table>\n",
       "</div>"
      ],
      "text/plain": [
       "  PassengerId HomePlanet CryoSleep  Cabin  Destination   Age    VIP  \\\n",
       "0     0001_01     Europa     False  B/0/P  TRAPPIST-1e  39.0  False   \n",
       "1     0002_01      Earth     False  F/0/S  TRAPPIST-1e  24.0  False   \n",
       "2     0003_01     Europa     False  A/0/S  TRAPPIST-1e  58.0   True   \n",
       "3     0003_02     Europa     False  A/0/S  TRAPPIST-1e  33.0  False   \n",
       "4     0004_01      Earth     False  F/1/S  TRAPPIST-1e  16.0  False   \n",
       "\n",
       "   RoomService  FoodCourt  ShoppingMall     Spa  VRDeck               Name  \\\n",
       "0          0.0        0.0           0.0     0.0     0.0    Maham Ofracculy   \n",
       "1        109.0        9.0          25.0   549.0    44.0       Juanna Vines   \n",
       "2         43.0     3576.0           0.0  6715.0    49.0      Altark Susent   \n",
       "3          0.0     1283.0         371.0  3329.0   193.0       Solam Susent   \n",
       "4        303.0       70.0         151.0   565.0     2.0  Willy Santantines   \n",
       "\n",
       "   Transported  \n",
       "0        False  \n",
       "1         True  \n",
       "2        False  \n",
       "3        False  \n",
       "4         True  "
      ]
     },
     "execution_count": 10,
     "metadata": {},
     "output_type": "execute_result"
    }
   ],
   "source": [
    "train.head()"
   ]
  },
  {
   "cell_type": "code",
   "execution_count": 11,
   "id": "d6262e03",
   "metadata": {
    "execution": {
     "iopub.execute_input": "2022-08-07T19:24:26.481767Z",
     "iopub.status.busy": "2022-08-07T19:24:26.481479Z",
     "iopub.status.idle": "2022-08-07T19:24:26.511210Z",
     "shell.execute_reply": "2022-08-07T19:24:26.510347Z"
    },
    "papermill": {
     "duration": 0.040734,
     "end_time": "2022-08-07T19:24:26.513027",
     "exception": false,
     "start_time": "2022-08-07T19:24:26.472293",
     "status": "completed"
    },
    "tags": []
   },
   "outputs": [
    {
     "data": {
      "text/html": [
       "<div>\n",
       "<style scoped>\n",
       "    .dataframe tbody tr th:only-of-type {\n",
       "        vertical-align: middle;\n",
       "    }\n",
       "\n",
       "    .dataframe tbody tr th {\n",
       "        vertical-align: top;\n",
       "    }\n",
       "\n",
       "    .dataframe thead th {\n",
       "        text-align: right;\n",
       "    }\n",
       "</style>\n",
       "<table border=\"1\" class=\"dataframe\">\n",
       "  <thead>\n",
       "    <tr style=\"text-align: right;\">\n",
       "      <th></th>\n",
       "      <th>Age</th>\n",
       "      <th>RoomService</th>\n",
       "      <th>FoodCourt</th>\n",
       "      <th>ShoppingMall</th>\n",
       "      <th>Spa</th>\n",
       "      <th>VRDeck</th>\n",
       "    </tr>\n",
       "  </thead>\n",
       "  <tbody>\n",
       "    <tr>\n",
       "      <th>count</th>\n",
       "      <td>8514.000000</td>\n",
       "      <td>8512.000000</td>\n",
       "      <td>8510.000000</td>\n",
       "      <td>8485.000000</td>\n",
       "      <td>8510.000000</td>\n",
       "      <td>8505.000000</td>\n",
       "    </tr>\n",
       "    <tr>\n",
       "      <th>mean</th>\n",
       "      <td>28.827930</td>\n",
       "      <td>224.687617</td>\n",
       "      <td>458.077203</td>\n",
       "      <td>173.729169</td>\n",
       "      <td>311.138778</td>\n",
       "      <td>304.854791</td>\n",
       "    </tr>\n",
       "    <tr>\n",
       "      <th>std</th>\n",
       "      <td>14.489021</td>\n",
       "      <td>666.717663</td>\n",
       "      <td>1611.489240</td>\n",
       "      <td>604.696458</td>\n",
       "      <td>1136.705535</td>\n",
       "      <td>1145.717189</td>\n",
       "    </tr>\n",
       "    <tr>\n",
       "      <th>min</th>\n",
       "      <td>0.000000</td>\n",
       "      <td>0.000000</td>\n",
       "      <td>0.000000</td>\n",
       "      <td>0.000000</td>\n",
       "      <td>0.000000</td>\n",
       "      <td>0.000000</td>\n",
       "    </tr>\n",
       "    <tr>\n",
       "      <th>25%</th>\n",
       "      <td>19.000000</td>\n",
       "      <td>0.000000</td>\n",
       "      <td>0.000000</td>\n",
       "      <td>0.000000</td>\n",
       "      <td>0.000000</td>\n",
       "      <td>0.000000</td>\n",
       "    </tr>\n",
       "    <tr>\n",
       "      <th>50%</th>\n",
       "      <td>27.000000</td>\n",
       "      <td>0.000000</td>\n",
       "      <td>0.000000</td>\n",
       "      <td>0.000000</td>\n",
       "      <td>0.000000</td>\n",
       "      <td>0.000000</td>\n",
       "    </tr>\n",
       "    <tr>\n",
       "      <th>75%</th>\n",
       "      <td>38.000000</td>\n",
       "      <td>47.000000</td>\n",
       "      <td>76.000000</td>\n",
       "      <td>27.000000</td>\n",
       "      <td>59.000000</td>\n",
       "      <td>46.000000</td>\n",
       "    </tr>\n",
       "    <tr>\n",
       "      <th>max</th>\n",
       "      <td>79.000000</td>\n",
       "      <td>14327.000000</td>\n",
       "      <td>29813.000000</td>\n",
       "      <td>23492.000000</td>\n",
       "      <td>22408.000000</td>\n",
       "      <td>24133.000000</td>\n",
       "    </tr>\n",
       "  </tbody>\n",
       "</table>\n",
       "</div>"
      ],
      "text/plain": [
       "               Age   RoomService     FoodCourt  ShoppingMall           Spa  \\\n",
       "count  8514.000000   8512.000000   8510.000000   8485.000000   8510.000000   \n",
       "mean     28.827930    224.687617    458.077203    173.729169    311.138778   \n",
       "std      14.489021    666.717663   1611.489240    604.696458   1136.705535   \n",
       "min       0.000000      0.000000      0.000000      0.000000      0.000000   \n",
       "25%      19.000000      0.000000      0.000000      0.000000      0.000000   \n",
       "50%      27.000000      0.000000      0.000000      0.000000      0.000000   \n",
       "75%      38.000000     47.000000     76.000000     27.000000     59.000000   \n",
       "max      79.000000  14327.000000  29813.000000  23492.000000  22408.000000   \n",
       "\n",
       "             VRDeck  \n",
       "count   8505.000000  \n",
       "mean     304.854791  \n",
       "std     1145.717189  \n",
       "min        0.000000  \n",
       "25%        0.000000  \n",
       "50%        0.000000  \n",
       "75%       46.000000  \n",
       "max    24133.000000  "
      ]
     },
     "execution_count": 11,
     "metadata": {},
     "output_type": "execute_result"
    }
   ],
   "source": [
    "train.describe()"
   ]
  },
  {
   "cell_type": "markdown",
   "id": "6f9bb335",
   "metadata": {
    "papermill": {
     "duration": 0.008215,
     "end_time": "2022-08-07T19:24:26.529813",
     "exception": false,
     "start_time": "2022-08-07T19:24:26.521598",
     "status": "completed"
    },
    "tags": []
   },
   "source": [
    "### Continuous Feature Correlation with Transported"
   ]
  },
  {
   "cell_type": "code",
   "execution_count": 12,
   "id": "7ac1c218",
   "metadata": {
    "execution": {
     "iopub.execute_input": "2022-08-07T19:24:26.548492Z",
     "iopub.status.busy": "2022-08-07T19:24:26.547666Z",
     "iopub.status.idle": "2022-08-07T19:24:26.705635Z",
     "shell.execute_reply": "2022-08-07T19:24:26.704822Z"
    },
    "papermill": {
     "duration": 0.169161,
     "end_time": "2022-08-07T19:24:26.707551",
     "exception": false,
     "start_time": "2022-08-07T19:24:26.538390",
     "status": "completed"
    },
    "tags": []
   },
   "outputs": [
    {
     "name": "stdout",
     "output_type": "stream",
     "text": [
      "Age            -0.075026\n",
      "RoomService    -0.244611\n",
      "FoodCourt       0.046566\n",
      "ShoppingMall    0.010141\n",
      "Spa            -0.221131\n",
      "VRDeck         -0.207075\n",
      "Transported     1.000000\n",
      "Name: Transported, dtype: float64\n"
     ]
    },
    {
     "data": {
      "text/plain": [
       "<AxesSubplot:>"
      ]
     },
     "execution_count": 12,
     "metadata": {},
     "output_type": "execute_result"
    },
    {
     "data": {
      "image/png": "[encoded data removed]",
      "text/plain": [
       "<Figure size 432x288 with 1 Axes>"
      ]
     },
     "metadata": {
      "needs_background": "light"
     },
     "output_type": "display_data"
    }
   ],
   "source": [
    "print(train.corr()['Transported'])\n",
    "\n",
    "train.corr()['Transported'].drop('Transported').sort_values(ascending = False).plot(kind = 'bar')"
   ]
  },
  {
   "cell_type": "markdown",
   "id": "aa90961a",
   "metadata": {
    "papermill": {
     "duration": 0.00835,
     "end_time": "2022-08-07T19:24:26.725313",
     "exception": false,
     "start_time": "2022-08-07T19:24:26.716963",
     "status": "completed"
    },
    "tags": []
   },
   "source": [
    "### Age Distribution\n",
    "\n",
    "We can see that:\n",
    "\n",
    "* Most Passengers are in the range from 13 to 35 years old\n",
    "* Younger Passengers  in the range from 0 - 18 have a higher probability to get transported than older passengers \n"
   ]
  },
  {
   "cell_type": "code",
   "execution_count": 13,
   "id": "d918bc9d",
   "metadata": {
    "execution": {
     "iopub.execute_input": "2022-08-07T19:24:26.744671Z",
     "iopub.status.busy": "2022-08-07T19:24:26.744163Z",
     "iopub.status.idle": "2022-08-07T19:24:27.302985Z",
     "shell.execute_reply": "2022-08-07T19:24:27.302025Z"
    },
    "papermill": {
     "duration": 0.570819,
     "end_time": "2022-08-07T19:24:27.305023",
     "exception": false,
     "start_time": "2022-08-07T19:24:26.734204",
     "status": "completed"
    },
    "tags": []
   },
   "outputs": [
    {
     "data": {
      "text/plain": [
       "<AxesSubplot:xlabel='Age', ylabel='Count'>"
      ]
     },
     "execution_count": 13,
     "metadata": {},
     "output_type": "execute_result"
    },
    {
     "data": {
      "image/png": "[encoded data removed]",
      "text/plain": [
       "<Figure size 864x360 with 2 Axes>"
      ]
     },
     "metadata": {
      "needs_background": "light"
     },
     "output_type": "display_data"
    }
   ],
   "source": [
    "fig, axs = plt.subplots(ncols = 2, nrows = 1, figsize = (12,5))\n",
    "\n",
    "sns.histplot(x = \"Age\", data = train, kde = True, ax = axs[0])\n",
    "sns.histplot(x = \"Age\", data = train, hue = \"Transported\", kde = True, ax = axs[1])"
   ]
  },
  {
   "cell_type": "markdown",
   "id": "2206df03",
   "metadata": {
    "papermill": {
     "duration": 0.008983,
     "end_time": "2022-08-07T19:24:27.323647",
     "exception": false,
     "start_time": "2022-08-07T19:24:27.314664",
     "status": "completed"
    },
    "tags": []
   },
   "source": [
    "### VRDeck, Spa, Room service and Shopping Mall\n",
    "\n",
    "We'll now have a closer look at the Spaceship Titanic's luxury amenities and how their relationship to the Transported feature looks like.\n",
    "\n",
    "* Most of the passengers used very little to none luxury amenities\n",
    "* Except for the shooping mall users, the passengers who used none to very little luxury amenities, have a higher chance to be rescued. "
   ]
  },
  {
   "cell_type": "code",
   "execution_count": 14,
   "id": "e8834f0e",
   "metadata": {
    "execution": {
     "iopub.execute_input": "2022-08-07T19:24:27.343480Z",
     "iopub.status.busy": "2022-08-07T19:24:27.343187Z",
     "iopub.status.idle": "2022-08-07T19:24:28.473028Z",
     "shell.execute_reply": "2022-08-07T19:24:28.471751Z"
    },
    "papermill": {
     "duration": 1.142796,
     "end_time": "2022-08-07T19:24:28.475667",
     "exception": false,
     "start_time": "2022-08-07T19:24:27.332871",
     "status": "completed"
    },
    "tags": []
   },
   "outputs": [
    {
     "data": {
      "image/png": "[encoded data removed]",
      "text/plain": [
       "<Figure size 1080x360 with 5 Axes>"
      ]
     },
     "metadata": {
      "needs_background": "light"
     },
     "output_type": "display_data"
    }
   ],
   "source": [
    "lux_am = ['VRDeck', 'Spa', 'RoomService', 'ShoppingMall', 'FoodCourt']\n",
    "\n",
    "fig, axs = plt.subplots(ncols = len(lux_am), nrows = 1, sharey='row', figsize = (15,5))\n",
    "fig.tight_layout()\n",
    "\n",
    "\n",
    "for i, feat in enumerate(lux_am):\n",
    "    ax = sns.histplot(data = train, x = feat, bins = 30,hue = 'Transported', ax = axs[i])\n",
    "    ax.set_title(feat)"
   ]
  },
  {
   "cell_type": "code",
   "execution_count": 15,
   "id": "36e0ab9c",
   "metadata": {
    "execution": {
     "iopub.execute_input": "2022-08-07T19:24:28.497885Z",
     "iopub.status.busy": "2022-08-07T19:24:28.497500Z",
     "iopub.status.idle": "2022-08-07T19:24:29.719115Z",
     "shell.execute_reply": "2022-08-07T19:24:29.717358Z"
    },
    "papermill": {
     "duration": 1.234835,
     "end_time": "2022-08-07T19:24:29.721051",
     "exception": false,
     "start_time": "2022-08-07T19:24:28.486216",
     "status": "completed"
    },
    "tags": []
   },
   "outputs": [
    {
     "data": {
      "image/png": "[encoded data removed]",
      "text/plain": [
       "<Figure size 1080x360 with 5 Axes>"
      ]
     },
     "metadata": {
      "needs_background": "light"
     },
     "output_type": "display_data"
    }
   ],
   "source": [
    "# zooming in to the guests who used more of the luxury amenities\n",
    "fig, axs = plt.subplots(ncols = len(lux_am), nrows = 1, sharey='row', figsize = (15,5))\n",
    "fig.tight_layout()\n",
    "\n",
    "\n",
    "for i, feat in enumerate(lux_am):\n",
    "    if i == 0:\n",
    "        sns.histplot(data = train, x = feat, bins = 30,hue = 'Transported', ax = axs[i])\n",
    "        plt.ylim(0, 400)\n",
    "        ax.set_title(feat)\n",
    "    else:\n",
    "        sns.histplot(data = train, x = feat, bins = 30,hue = 'Transported', ax = axs[i])\n",
    "        ax.set_title(feat)\n",
    "        handles, labels = ax.get_legend_handles_labels()\n",
    "\n",
    "        "
   ]
  },
  {
   "cell_type": "markdown",
   "id": "a50635d7",
   "metadata": {
    "papermill": {
     "duration": 0.010039,
     "end_time": "2022-08-07T19:24:29.741422",
     "exception": false,
     "start_time": "2022-08-07T19:24:29.731383",
     "status": "completed"
    },
    "tags": []
   },
   "source": [
    "### Next, we take a look at the distribution of the categorial features"
   ]
  },
  {
   "cell_type": "code",
   "execution_count": 16,
   "id": "b6004c0e",
   "metadata": {
    "execution": {
     "iopub.execute_input": "2022-08-07T19:24:29.763399Z",
     "iopub.status.busy": "2022-08-07T19:24:29.763041Z",
     "iopub.status.idle": "2022-08-07T19:24:29.781126Z",
     "shell.execute_reply": "2022-08-07T19:24:29.780168Z"
    },
    "papermill": {
     "duration": 0.031075,
     "end_time": "2022-08-07T19:24:29.782779",
     "exception": false,
     "start_time": "2022-08-07T19:24:29.751704",
     "status": "completed"
    },
    "tags": []
   },
   "outputs": [
    {
     "data": {
      "text/html": [
       "<div>\n",
       "<style scoped>\n",
       "    .dataframe tbody tr th:only-of-type {\n",
       "        vertical-align: middle;\n",
       "    }\n",
       "\n",
       "    .dataframe tbody tr th {\n",
       "        vertical-align: top;\n",
       "    }\n",
       "\n",
       "    .dataframe thead th {\n",
       "        text-align: right;\n",
       "    }\n",
       "</style>\n",
       "<table border=\"1\" class=\"dataframe\">\n",
       "  <thead>\n",
       "    <tr style=\"text-align: right;\">\n",
       "      <th></th>\n",
       "      <th>PassengerId</th>\n",
       "      <th>HomePlanet</th>\n",
       "      <th>CryoSleep</th>\n",
       "      <th>Cabin</th>\n",
       "      <th>Destination</th>\n",
       "      <th>Age</th>\n",
       "      <th>VIP</th>\n",
       "      <th>RoomService</th>\n",
       "      <th>FoodCourt</th>\n",
       "      <th>ShoppingMall</th>\n",
       "      <th>Spa</th>\n",
       "      <th>VRDeck</th>\n",
       "      <th>Name</th>\n",
       "      <th>Transported</th>\n",
       "    </tr>\n",
       "  </thead>\n",
       "  <tbody>\n",
       "    <tr>\n",
       "      <th>0</th>\n",
       "      <td>0001_01</td>\n",
       "      <td>Europa</td>\n",
       "      <td>False</td>\n",
       "      <td>B/0/P</td>\n",
       "      <td>TRAPPIST-1e</td>\n",
       "      <td>39.0</td>\n",
       "      <td>False</td>\n",
       "      <td>0.0</td>\n",
       "      <td>0.0</td>\n",
       "      <td>0.0</td>\n",
       "      <td>0.0</td>\n",
       "      <td>0.0</td>\n",
       "      <td>Maham Ofracculy</td>\n",
       "      <td>False</td>\n",
       "    </tr>\n",
       "    <tr>\n",
       "      <th>1</th>\n",
       "      <td>0002_01</td>\n",
       "      <td>Earth</td>\n",
       "      <td>False</td>\n",
       "      <td>F/0/S</td>\n",
       "      <td>TRAPPIST-1e</td>\n",
       "      <td>24.0</td>\n",
       "      <td>False</td>\n",
       "      <td>109.0</td>\n",
       "      <td>9.0</td>\n",
       "      <td>25.0</td>\n",
       "      <td>549.0</td>\n",
       "      <td>44.0</td>\n",
       "      <td>Juanna Vines</td>\n",
       "      <td>True</td>\n",
       "    </tr>\n",
       "    <tr>\n",
       "      <th>2</th>\n",
       "      <td>0003_01</td>\n",
       "      <td>Europa</td>\n",
       "      <td>False</td>\n",
       "      <td>A/0/S</td>\n",
       "      <td>TRAPPIST-1e</td>\n",
       "      <td>58.0</td>\n",
       "      <td>True</td>\n",
       "      <td>43.0</td>\n",
       "      <td>3576.0</td>\n",
       "      <td>0.0</td>\n",
       "      <td>6715.0</td>\n",
       "      <td>49.0</td>\n",
       "      <td>Altark Susent</td>\n",
       "      <td>False</td>\n",
       "    </tr>\n",
       "    <tr>\n",
       "      <th>3</th>\n",
       "      <td>0003_02</td>\n",
       "      <td>Europa</td>\n",
       "      <td>False</td>\n",
       "      <td>A/0/S</td>\n",
       "      <td>TRAPPIST-1e</td>\n",
       "      <td>33.0</td>\n",
       "      <td>False</td>\n",
       "      <td>0.0</td>\n",
       "      <td>1283.0</td>\n",
       "      <td>371.0</td>\n",
       "      <td>3329.0</td>\n",
       "      <td>193.0</td>\n",
       "      <td>Solam Susent</td>\n",
       "      <td>False</td>\n",
       "    </tr>\n",
       "    <tr>\n",
       "      <th>4</th>\n",
       "      <td>0004_01</td>\n",
       "      <td>Earth</td>\n",
       "      <td>False</td>\n",
       "      <td>F/1/S</td>\n",
       "      <td>TRAPPIST-1e</td>\n",
       "      <td>16.0</td>\n",
       "      <td>False</td>\n",
       "      <td>303.0</td>\n",
       "      <td>70.0</td>\n",
       "      <td>151.0</td>\n",
       "      <td>565.0</td>\n",
       "      <td>2.0</td>\n",
       "      <td>Willy Santantines</td>\n",
       "      <td>True</td>\n",
       "    </tr>\n",
       "  </tbody>\n",
       "</table>\n",
       "</div>"
      ],
      "text/plain": [
       "  PassengerId HomePlanet CryoSleep  Cabin  Destination   Age    VIP  \\\n",
       "0     0001_01     Europa     False  B/0/P  TRAPPIST-1e  39.0  False   \n",
       "1     0002_01      Earth     False  F/0/S  TRAPPIST-1e  24.0  False   \n",
       "2     0003_01     Europa     False  A/0/S  TRAPPIST-1e  58.0   True   \n",
       "3     0003_02     Europa     False  A/0/S  TRAPPIST-1e  33.0  False   \n",
       "4     0004_01      Earth     False  F/1/S  TRAPPIST-1e  16.0  False   \n",
       "\n",
       "   RoomService  FoodCourt  ShoppingMall     Spa  VRDeck               Name  \\\n",
       "0          0.0        0.0           0.0     0.0     0.0    Maham Ofracculy   \n",
       "1        109.0        9.0          25.0   549.0    44.0       Juanna Vines   \n",
       "2         43.0     3576.0           0.0  6715.0    49.0      Altark Susent   \n",
       "3          0.0     1283.0         371.0  3329.0   193.0       Solam Susent   \n",
       "4        303.0       70.0         151.0   565.0     2.0  Willy Santantines   \n",
       "\n",
       "   Transported  \n",
       "0        False  \n",
       "1         True  \n",
       "2        False  \n",
       "3        False  \n",
       "4         True  "
      ]
     },
     "execution_count": 16,
     "metadata": {},
     "output_type": "execute_result"
    }
   ],
   "source": [
    "train.head()"
   ]
  },
  {
   "cell_type": "code",
   "execution_count": 17,
   "id": "e2eaca3f",
   "metadata": {
    "execution": {
     "iopub.execute_input": "2022-08-07T19:24:29.804406Z",
     "iopub.status.busy": "2022-08-07T19:24:29.804066Z",
     "iopub.status.idle": "2022-08-07T19:24:30.401817Z",
     "shell.execute_reply": "2022-08-07T19:24:30.400847Z"
    },
    "papermill": {
     "duration": 0.6108,
     "end_time": "2022-08-07T19:24:30.403815",
     "exception": false,
     "start_time": "2022-08-07T19:24:29.793015",
     "status": "completed"
    },
    "tags": []
   },
   "outputs": [
    {
     "data": {
      "image/png": "[encoded data removed]",
      "text/plain": [
       "<Figure size 720x1152 with 4 Axes>"
      ]
     },
     "metadata": {
      "needs_background": "light"
     },
     "output_type": "display_data"
    }
   ],
   "source": [
    "cat_feat = ['CryoSleep', 'VIP', 'HomePlanet', 'Destination']\n",
    "\n",
    "fig.tight_layout()\n",
    "\n",
    "left  = 0.125  # the left side of the subplots of the figure\n",
    "right = 0.9    # the right side of the subplots of the figure\n",
    "bottom = 0.1   # the bottom of the subplots of the figure\n",
    "top = 1        # the top of the subplots of the figure\n",
    "wspace = 0.3   # the amount of width reserved for blank space between subplots\n",
    "hspace = 0.4   # the amount of height reserved for white space between subplots\n",
    "\n",
    "\n",
    "\n",
    "fig=plt.figure(figsize=(10,16))\n",
    "for i, value in enumerate(cat_feat):\n",
    "    ax=fig.add_subplot(4,1,i+1)\n",
    "    sns.countplot(data=train, x=value, axes=ax, hue='Transported')\n",
    "    ax.set_title(value)\n",
    "    plt.subplots_adjust(left, bottom, right, top, wspace, hspace)"
   ]
  },
  {
   "cell_type": "markdown",
   "id": "6e9abc0f",
   "metadata": {
    "papermill": {
     "duration": 0.011541,
     "end_time": "2022-08-07T19:24:30.426242",
     "exception": false,
     "start_time": "2022-08-07T19:24:30.414701",
     "status": "completed"
    },
    "tags": []
   },
   "source": [
    "### Qualitative Features\n",
    "\n",
    "Since we can't plot the qualitative Features we just take a quick look at them:"
   ]
  },
  {
   "cell_type": "code",
   "execution_count": 18,
   "id": "3607204f",
   "metadata": {
    "execution": {
     "iopub.execute_input": "2022-08-07T19:24:30.449323Z",
     "iopub.status.busy": "2022-08-07T19:24:30.448984Z",
     "iopub.status.idle": "2022-08-07T19:24:30.459850Z",
     "shell.execute_reply": "2022-08-07T19:24:30.459083Z"
    },
    "papermill": {
     "duration": 0.025049,
     "end_time": "2022-08-07T19:24:30.462091",
     "exception": false,
     "start_time": "2022-08-07T19:24:30.437042",
     "status": "completed"
    },
    "tags": []
   },
   "outputs": [
    {
     "data": {
      "text/html": [
       "<div>\n",
       "<style scoped>\n",
       "    .dataframe tbody tr th:only-of-type {\n",
       "        vertical-align: middle;\n",
       "    }\n",
       "\n",
       "    .dataframe tbody tr th {\n",
       "        vertical-align: top;\n",
       "    }\n",
       "\n",
       "    .dataframe thead th {\n",
       "        text-align: right;\n",
       "    }\n",
       "</style>\n",
       "<table border=\"1\" class=\"dataframe\">\n",
       "  <thead>\n",
       "    <tr style=\"text-align: right;\">\n",
       "      <th></th>\n",
       "      <th>PassengerId</th>\n",
       "      <th>Cabin</th>\n",
       "      <th>Name</th>\n",
       "    </tr>\n",
       "  </thead>\n",
       "  <tbody>\n",
       "    <tr>\n",
       "      <th>0</th>\n",
       "      <td>0001_01</td>\n",
       "      <td>B/0/P</td>\n",
       "      <td>Maham Ofracculy</td>\n",
       "    </tr>\n",
       "    <tr>\n",
       "      <th>1</th>\n",
       "      <td>0002_01</td>\n",
       "      <td>F/0/S</td>\n",
       "      <td>Juanna Vines</td>\n",
       "    </tr>\n",
       "    <tr>\n",
       "      <th>2</th>\n",
       "      <td>0003_01</td>\n",
       "      <td>A/0/S</td>\n",
       "      <td>Altark Susent</td>\n",
       "    </tr>\n",
       "    <tr>\n",
       "      <th>3</th>\n",
       "      <td>0003_02</td>\n",
       "      <td>A/0/S</td>\n",
       "      <td>Solam Susent</td>\n",
       "    </tr>\n",
       "    <tr>\n",
       "      <th>4</th>\n",
       "      <td>0004_01</td>\n",
       "      <td>F/1/S</td>\n",
       "      <td>Willy Santantines</td>\n",
       "    </tr>\n",
       "  </tbody>\n",
       "</table>\n",
       "</div>"
      ],
      "text/plain": [
       "  PassengerId  Cabin               Name\n",
       "0     0001_01  B/0/P    Maham Ofracculy\n",
       "1     0002_01  F/0/S       Juanna Vines\n",
       "2     0003_01  A/0/S      Altark Susent\n",
       "3     0003_02  A/0/S       Solam Susent\n",
       "4     0004_01  F/1/S  Willy Santantines"
      ]
     },
     "execution_count": 18,
     "metadata": {},
     "output_type": "execute_result"
    }
   ],
   "source": [
    "train[['PassengerId', 'Cabin', 'Name']].head()"
   ]
  },
  {
   "cell_type": "markdown",
   "id": "78520d3f",
   "metadata": {
    "papermill": {
     "duration": 0.010736,
     "end_time": "2022-08-07T19:24:30.483993",
     "exception": false,
     "start_time": "2022-08-07T19:24:30.473257",
     "status": "completed"
    },
    "tags": []
   },
   "source": [
    "## 5. Feature Engineering\n",
    "\n",
    "In the next step we want to work on our features to get a better result from our model.\n",
    "\n",
    "Steps we will undergo are:\n",
    "\n",
    "* Classifying the age groups\n",
    "* Get the total expenditures as the sum of all spendings on amentities \n",
    "* Based on the previous step, classify passengers who had and had not done spendings\n",
    "* Extract the Group Size \n",
    "* Extract the location data from the cabin column\n",
    "* Extract the family size"
   ]
  },
  {
   "cell_type": "markdown",
   "id": "c66a7ae5",
   "metadata": {
    "papermill": {
     "duration": 0.010833,
     "end_time": "2022-08-07T19:24:30.505737",
     "exception": false,
     "start_time": "2022-08-07T19:24:30.494904",
     "status": "completed"
    },
    "tags": []
   },
   "source": [
    "### Age groups "
   ]
  },
  {
   "cell_type": "code",
   "execution_count": 19,
   "id": "eb542f1f",
   "metadata": {
    "execution": {
     "iopub.execute_input": "2022-08-07T19:24:30.529223Z",
     "iopub.status.busy": "2022-08-07T19:24:30.528882Z",
     "iopub.status.idle": "2022-08-07T19:24:30.546918Z",
     "shell.execute_reply": "2022-08-07T19:24:30.545886Z"
    },
    "papermill": {
     "duration": 0.032405,
     "end_time": "2022-08-07T19:24:30.549156",
     "exception": false,
     "start_time": "2022-08-07T19:24:30.516751",
     "status": "completed"
    },
    "tags": []
   },
   "outputs": [],
   "source": [
    "dfs = [train, test]\n",
    "\n",
    "for i in dfs:\n",
    "    i['AgeGroup'] = np.nan\n",
    "    i.loc[(i['Age'] < 12), 'AgeGroup'] = 'Age_0-12'\n",
    "    i.loc[(i['Age'] > 12) & (i['Age'] < 18), 'AgeGroup'] = 'Age_13-17'\n",
    "    i.loc[(i['Age'] > 17) & (i['Age'] < 26), 'AgeGroup'] = 'Age_18-25'\n",
    "    i.loc[(i['Age'] > 25) & (i['Age'] < 31), 'AgeGroup'] = 'Age_26-30'\n",
    "    i.loc[(i['Age'] > 30) & (i['Age'] < 51), 'AgeGroup'] = 'Age_31-50'\n",
    "    i.loc[(i['Age'] > 50), 'AgeGroup'] = 'Age_51+'\n"
   ]
  },
  {
   "cell_type": "code",
   "execution_count": 20,
   "id": "1510ba2a",
   "metadata": {
    "execution": {
     "iopub.execute_input": "2022-08-07T19:24:30.573002Z",
     "iopub.status.busy": "2022-08-07T19:24:30.572680Z",
     "iopub.status.idle": "2022-08-07T19:24:30.754148Z",
     "shell.execute_reply": "2022-08-07T19:24:30.753195Z"
    },
    "papermill": {
     "duration": 0.1956,
     "end_time": "2022-08-07T19:24:30.755881",
     "exception": false,
     "start_time": "2022-08-07T19:24:30.560281",
     "status": "completed"
    },
    "tags": []
   },
   "outputs": [
    {
     "data": {
      "text/plain": [
       "Text(0.5, 1.0, 'Distribution of Age groups')"
      ]
     },
     "execution_count": 20,
     "metadata": {},
     "output_type": "execute_result"
    },
    {
     "data": {
      "image/png": "[encoded data removed]",
      "text/plain": [
       "<Figure size 864x360 with 1 Axes>"
      ]
     },
     "metadata": {
      "needs_background": "light"
     },
     "output_type": "display_data"
    }
   ],
   "source": [
    "#Distribution of the new feature\n",
    "plt.figure(figsize = (12,5))\n",
    "\n",
    "sns.countplot(data = train, x = \"AgeGroup\", hue = \"Transported\", \n",
    "              order=['Age_0-12','Age_13-17','Age_18-25','Age_26-30','Age_31-50','Age_51+'])\n",
    "\n",
    "plt.title('Distribution of Age groups')"
   ]
  },
  {
   "cell_type": "markdown",
   "id": "883e7c4f",
   "metadata": {
    "papermill": {
     "duration": 0.010991,
     "end_time": "2022-08-07T19:24:30.778065",
     "exception": false,
     "start_time": "2022-08-07T19:24:30.767074",
     "status": "completed"
    },
    "tags": []
   },
   "source": [
    "### Total expenditure"
   ]
  },
  {
   "cell_type": "code",
   "execution_count": 21,
   "id": "71f72e29",
   "metadata": {
    "execution": {
     "iopub.execute_input": "2022-08-07T19:24:30.802397Z",
     "iopub.status.busy": "2022-08-07T19:24:30.801941Z",
     "iopub.status.idle": "2022-08-07T19:24:30.818741Z",
     "shell.execute_reply": "2022-08-07T19:24:30.818103Z"
    },
    "papermill": {
     "duration": 0.031491,
     "end_time": "2022-08-07T19:24:30.820830",
     "exception": false,
     "start_time": "2022-08-07T19:24:30.789339",
     "status": "completed"
    },
    "tags": []
   },
   "outputs": [],
   "source": [
    "#Adding the total expenditures column\n",
    "for i in dfs:\n",
    "    i['Total_Exp'] = np.nan\n",
    "    i['Total_Exp']= i[lux_am].sum(axis=1)\n",
    "    \n",
    "#Classifying Passengers who did and who didn't spend money\n",
    "#Spent Money: 1\n",
    "#Didn't spend money: 0\n",
    "\n",
    "\n",
    "def spent(x):\n",
    "    if x > 0:\n",
    "        return 1\n",
    "    else:\n",
    "        return 0\n",
    "\n",
    "for i in dfs:\n",
    "    i['SpentMoney'] = i['Total_Exp'].apply(lambda x: spent(x))\n"
   ]
  },
  {
   "cell_type": "code",
   "execution_count": 22,
   "id": "f8be1855",
   "metadata": {
    "execution": {
     "iopub.execute_input": "2022-08-07T19:24:30.845354Z",
     "iopub.status.busy": "2022-08-07T19:24:30.845021Z",
     "iopub.status.idle": "2022-08-07T19:24:32.384789Z",
     "shell.execute_reply": "2022-08-07T19:24:32.383597Z"
    },
    "papermill": {
     "duration": 1.553758,
     "end_time": "2022-08-07T19:24:32.386385",
     "exception": false,
     "start_time": "2022-08-07T19:24:30.832627",
     "status": "completed"
    },
    "tags": []
   },
   "outputs": [
    {
     "data": {
      "text/plain": [
       "<AxesSubplot:title={'center':'Customers who spent money'}, xlabel='SpentMoney', ylabel='count'>"
      ]
     },
     "execution_count": 22,
     "metadata": {},
     "output_type": "execute_result"
    },
    {
     "data": {
      "image/png": "[encoded data removed]",
      "text/plain": [
       "<Figure size 1440x360 with 3 Axes>"
      ]
     },
     "metadata": {
      "needs_background": "light"
     },
     "output_type": "display_data"
    }
   ],
   "source": [
    "#Plotting the distribution of the new feature\n",
    "plt.figure(figsize = (20,5))\n",
    "plt.subplot(1,3,1)\n",
    "plt.title('Total Expenditure')\n",
    "sns.histplot(data = train, x = 'Total_Exp', hue = 'Transported', bins = 100)\n",
    "\n",
    "plt.subplot(1,3,2)\n",
    "plt.title('Total Expenditure (zoomed in)')\n",
    "sns.histplot(data = train, x = 'Total_Exp', hue = 'Transported', bins =200)\n",
    "plt.xlim([0,10000])\n",
    "plt.ylim([0, 500])\n",
    "\n",
    "plt.subplot(1,3,3)\n",
    "plt.title('Customers who spent money')\n",
    "sns.countplot(data = train, x = \"SpentMoney\", hue = 'Transported')\n"
   ]
  }
 ],
 "metadata": {
  "kernelspec": {
   "display_name": "Python 3",
   "language": "python",
   "name": "python3"
  },
  "language_info": {
   "codemirror_mode": {
    "name": "ipython",
    "version": 3
   },
   "file_extension": ".py",
   "mimetype": "text/x-python",
   "name": "python",
   "nbconvert_exporter": "python",
   "pygments_lexer": "ipython3",
   "version": "3.7.12"
  },
  "papermill": {
   "default_parameters": {},
   "duration": 16.763718,
   "end_time": "2022-08-07T19:24:33.219881",
   "environment_variables": {},
   "exception": null,
   "input_path": "__notebook__.ipynb",
   "output_path": "__notebook__.ipynb",
   "parameters": {},
   "start_time": "2022-08-07T19:24:16.456163",
   "version": "2.3.4"
  }
 },
 "nbformat": 4,
 "nbformat_minor": 5
}
