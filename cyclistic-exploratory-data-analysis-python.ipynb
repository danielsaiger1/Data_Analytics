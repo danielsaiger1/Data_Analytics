{
 "cells": [
  {
   "cell_type": "markdown",
   "id": "d071437a",
   "metadata": {
    "papermill": {
     "duration": 0.007395,
     "end_time": "2022-06-10T08:44:05.340262",
     "exception": false,
     "start_time": "2022-06-10T08:44:05.332867",
     "status": "completed"
    },
    "tags": []
   },
   "source": [
    "# Exploratory Analysis - Cyclistic Bike Share\n",
    "\n",
    "This is my take on recreating my exploratory analysis of the cyclistic bike share date based on R. \n",
    "I do this to train my Python skills."
   ]
  },
  {
   "cell_type": "code",
   "execution_count": 1,
   "id": "ac5732c4",
   "metadata": {
    "execution": {
     "iopub.execute_input": "2022-06-10T08:44:05.350802Z",
     "iopub.status.busy": "2022-06-10T08:44:05.350137Z",
     "iopub.status.idle": "2022-06-10T08:44:05.358053Z",
     "shell.execute_reply": "2022-06-10T08:44:05.357415Z"
    },
    "papermill": {
     "duration": 0.015353,
     "end_time": "2022-06-10T08:44:05.359950",
     "exception": false,
     "start_time": "2022-06-10T08:44:05.344597",
     "status": "completed"
    },
    "tags": []
   },
   "outputs": [],
   "source": [
    "import pandas as pd \n",
    "import numpy as np \n",
    "import matplotlib.pyplot as plt\n",
    "import glob\n",
    "import os"
   ]
  },
  {
   "cell_type": "code",
   "execution_count": 2,
   "id": "1e76cd43",
   "metadata": {
    "execution": {
     "iopub.execute_input": "2022-06-10T08:44:05.369985Z",
     "iopub.status.busy": "2022-06-10T08:44:05.369413Z",
     "iopub.status.idle": "2022-06-10T08:44:28.877892Z",
     "shell.execute_reply": "2022-06-10T08:44:28.876959Z"
    },
    "papermill": {
     "duration": 23.51618,
     "end_time": "2022-06-10T08:44:28.880414",
     "exception": false,
     "start_time": "2022-06-10T08:44:05.364234",
     "status": "completed"
    },
    "tags": []
   },
   "outputs": [],
   "source": [
    "#Joining the files in one dataframe. Data from 2020/04 to 2021/04\n",
    "\n",
    "files = os.path.join(\"../input/cyclistic-bike-share\", \"*divvy-tripdata.csv\")\n",
    "files = glob.glob(files)\n",
    "df = pd.concat(map(pd.read_csv, files), ignore_index=True)"
   ]
  },
  {
   "cell_type": "markdown",
   "id": "fe9c96a3",
   "metadata": {
    "papermill": {
     "duration": 0.004372,
     "end_time": "2022-06-10T08:44:28.889412",
     "exception": false,
     "start_time": "2022-06-10T08:44:28.885040",
     "status": "completed"
    },
    "tags": []
   },
   "source": [
    "## Getting familiar with the data"
   ]
  },
  {
   "cell_type": "code",
   "execution_count": 3,
   "id": "0ba25b49",
   "metadata": {
    "execution": {
     "iopub.execute_input": "2022-06-10T08:44:28.899108Z",
     "iopub.status.busy": "2022-06-10T08:44:28.898728Z",
     "iopub.status.idle": "2022-06-10T08:44:28.921803Z",
     "shell.execute_reply": "2022-06-10T08:44:28.920772Z"
    },
    "papermill": {
     "duration": 0.030165,
     "end_time": "2022-06-10T08:44:28.923729",
     "exception": false,
     "start_time": "2022-06-10T08:44:28.893564",
     "status": "completed"
    },
    "tags": []
   },
   "outputs": [
    {
     "data": {
      "text/html": [
       "<div>\n",
       "<style scoped>\n",
       "    .dataframe tbody tr th:only-of-type {\n",
       "        vertical-align: middle;\n",
       "    }\n",
       "\n",
       "    .dataframe tbody tr th {\n",
       "        vertical-align: top;\n",
       "    }\n",
       "\n",
       "    .dataframe thead th {\n",
       "        text-align: right;\n",
       "    }\n",
       "</style>\n",
       "<table border=\"1\" class=\"dataframe\">\n",
       "  <thead>\n",
       "    <tr style=\"text-align: right;\">\n",
       "      <th></th>\n",
       "      <th>ride_id</th>\n",
       "      <th>rideable_type</th>\n",
       "      <th>started_at</th>\n",
       "      <th>ended_at</th>\n",
       "      <th>start_station_name</th>\n",
       "      <th>start_station_id</th>\n",
       "      <th>end_station_name</th>\n",
       "      <th>end_station_id</th>\n",
       "      <th>start_lat</th>\n",
       "      <th>start_lng</th>\n",
       "      <th>end_lat</th>\n",
       "      <th>end_lng</th>\n",
       "      <th>member_casual</th>\n",
       "    </tr>\n",
       "  </thead>\n",
       "  <tbody>\n",
       "    <tr>\n",
       "      <th>0</th>\n",
       "      <td>BD0A6FF6FFF9B921</td>\n",
       "      <td>electric_bike</td>\n",
       "      <td>2020-11-01 13:36:00</td>\n",
       "      <td>2020-11-01 13:45:40</td>\n",
       "      <td>Dearborn St &amp; Erie St</td>\n",
       "      <td>110.0</td>\n",
       "      <td>St. Clair St &amp; Erie St</td>\n",
       "      <td>211.0</td>\n",
       "      <td>41.894177</td>\n",
       "      <td>-87.629127</td>\n",
       "      <td>41.894434</td>\n",
       "      <td>-87.623379</td>\n",
       "      <td>casual</td>\n",
       "    </tr>\n",
       "    <tr>\n",
       "      <th>1</th>\n",
       "      <td>96A7A7A4BDE4F82D</td>\n",
       "      <td>electric_bike</td>\n",
       "      <td>2020-11-01 10:03:26</td>\n",
       "      <td>2020-11-01 10:14:45</td>\n",
       "      <td>Franklin St &amp; Illinois St</td>\n",
       "      <td>672.0</td>\n",
       "      <td>Noble St &amp; Milwaukee Ave</td>\n",
       "      <td>29.0</td>\n",
       "      <td>41.890959</td>\n",
       "      <td>-87.635343</td>\n",
       "      <td>41.900675</td>\n",
       "      <td>-87.662480</td>\n",
       "      <td>casual</td>\n",
       "    </tr>\n",
       "    <tr>\n",
       "      <th>2</th>\n",
       "      <td>C61526D06582BDC5</td>\n",
       "      <td>electric_bike</td>\n",
       "      <td>2020-11-01 00:34:05</td>\n",
       "      <td>2020-11-01 01:03:06</td>\n",
       "      <td>Lake Shore Dr &amp; Monroe St</td>\n",
       "      <td>76.0</td>\n",
       "      <td>Federal St &amp; Polk St</td>\n",
       "      <td>41.0</td>\n",
       "      <td>41.880983</td>\n",
       "      <td>-87.616754</td>\n",
       "      <td>41.872054</td>\n",
       "      <td>-87.629550</td>\n",
       "      <td>casual</td>\n",
       "    </tr>\n",
       "    <tr>\n",
       "      <th>3</th>\n",
       "      <td>E533E89C32080B9E</td>\n",
       "      <td>electric_bike</td>\n",
       "      <td>2020-11-01 00:45:16</td>\n",
       "      <td>2020-11-01 00:54:31</td>\n",
       "      <td>Leavitt St &amp; Chicago Ave</td>\n",
       "      <td>659.0</td>\n",
       "      <td>Stave St &amp; Armitage Ave</td>\n",
       "      <td>185.0</td>\n",
       "      <td>41.895499</td>\n",
       "      <td>-87.682013</td>\n",
       "      <td>41.917744</td>\n",
       "      <td>-87.691392</td>\n",
       "      <td>casual</td>\n",
       "    </tr>\n",
       "    <tr>\n",
       "      <th>4</th>\n",
       "      <td>1C9F4EF18C168C60</td>\n",
       "      <td>electric_bike</td>\n",
       "      <td>2020-11-01 15:43:25</td>\n",
       "      <td>2020-11-01 16:16:52</td>\n",
       "      <td>Buckingham Fountain</td>\n",
       "      <td>2.0</td>\n",
       "      <td>Buckingham Fountain</td>\n",
       "      <td>2.0</td>\n",
       "      <td>41.876497</td>\n",
       "      <td>-87.620358</td>\n",
       "      <td>41.876448</td>\n",
       "      <td>-87.620338</td>\n",
       "      <td>casual</td>\n",
       "    </tr>\n",
       "  </tbody>\n",
       "</table>\n",
       "</div>"
      ],
      "text/plain": [
       "            ride_id  rideable_type           started_at             ended_at  \\\n",
       "0  BD0A6FF6FFF9B921  electric_bike  2020-11-01 13:36:00  2020-11-01 13:45:40   \n",
       "1  96A7A7A4BDE4F82D  electric_bike  2020-11-01 10:03:26  2020-11-01 10:14:45   \n",
       "2  C61526D06582BDC5  electric_bike  2020-11-01 00:34:05  2020-11-01 01:03:06   \n",
       "3  E533E89C32080B9E  electric_bike  2020-11-01 00:45:16  2020-11-01 00:54:31   \n",
       "4  1C9F4EF18C168C60  electric_bike  2020-11-01 15:43:25  2020-11-01 16:16:52   \n",
       "\n",
       "          start_station_name start_station_id          end_station_name  \\\n",
       "0      Dearborn St & Erie St            110.0    St. Clair St & Erie St   \n",
       "1  Franklin St & Illinois St            672.0  Noble St & Milwaukee Ave   \n",
       "2  Lake Shore Dr & Monroe St             76.0      Federal St & Polk St   \n",
       "3   Leavitt St & Chicago Ave            659.0   Stave St & Armitage Ave   \n",
       "4        Buckingham Fountain              2.0       Buckingham Fountain   \n",
       "\n",
       "  end_station_id  start_lat  start_lng    end_lat    end_lng member_casual  \n",
       "0          211.0  41.894177 -87.629127  41.894434 -87.623379        casual  \n",
       "1           29.0  41.890959 -87.635343  41.900675 -87.662480        casual  \n",
       "2           41.0  41.880983 -87.616754  41.872054 -87.629550        casual  \n",
       "3          185.0  41.895499 -87.682013  41.917744 -87.691392        casual  \n",
       "4            2.0  41.876497 -87.620358  41.876448 -87.620338        casual  "
      ]
     },
     "execution_count": 3,
     "metadata": {},
     "output_type": "execute_result"
    }
   ],
   "source": [
    "df.head()"
   ]
  },
  {
   "cell_type": "code",
   "execution_count": 4,
   "id": "aacb7889",
   "metadata": {
    "execution": {
     "iopub.execute_input": "2022-06-10T08:44:28.934344Z",
     "iopub.status.busy": "2022-06-10T08:44:28.933900Z",
     "iopub.status.idle": "2022-06-10T08:44:28.938931Z",
     "shell.execute_reply": "2022-06-10T08:44:28.938026Z"
    },
    "papermill": {
     "duration": 0.013777,
     "end_time": "2022-06-10T08:44:28.942105",
     "exception": false,
     "start_time": "2022-06-10T08:44:28.928328",
     "status": "completed"
    },
    "tags": []
   },
   "outputs": [
    {
     "name": "stdout",
     "output_type": "stream",
     "text": [
      "ride_id\n",
      "rideable_type\n",
      "started_at\n",
      "ended_at\n",
      "start_station_name\n",
      "start_station_id\n",
      "end_station_name\n",
      "end_station_id\n",
      "start_lat\n",
      "start_lng\n",
      "end_lat\n",
      "end_lng\n",
      "member_casual\n"
     ]
    }
   ],
   "source": [
    "#column names\n",
    "for col in df.columns:\n",
    "    print(col)"
   ]
  },
  {
   "cell_type": "code",
   "execution_count": 5,
   "id": "1c41948b",
   "metadata": {
    "execution": {
     "iopub.execute_input": "2022-06-10T08:44:28.952996Z",
     "iopub.status.busy": "2022-06-10T08:44:28.952270Z",
     "iopub.status.idle": "2022-06-10T08:44:28.972930Z",
     "shell.execute_reply": "2022-06-10T08:44:28.972020Z"
    },
    "papermill": {
     "duration": 0.028455,
     "end_time": "2022-06-10T08:44:28.975373",
     "exception": false,
     "start_time": "2022-06-10T08:44:28.946918",
     "status": "completed"
    },
    "tags": []
   },
   "outputs": [
    {
     "name": "stdout",
     "output_type": "stream",
     "text": [
      "<class 'pandas.core.frame.DataFrame'>\n",
      "RangeIndex: 3826978 entries, 0 to 3826977\n",
      "Data columns (total 13 columns):\n",
      " #   Column              Dtype  \n",
      "---  ------              -----  \n",
      " 0   ride_id             object \n",
      " 1   rideable_type       object \n",
      " 2   started_at          object \n",
      " 3   ended_at            object \n",
      " 4   start_station_name  object \n",
      " 5   start_station_id    object \n",
      " 6   end_station_name    object \n",
      " 7   end_station_id      object \n",
      " 8   start_lat           float64\n",
      " 9   start_lng           float64\n",
      " 10  end_lat             float64\n",
      " 11  end_lng             float64\n",
      " 12  member_casual       object \n",
      "dtypes: float64(4), object(9)\n",
      "memory usage: 379.6+ MB\n"
     ]
    }
   ],
   "source": [
    "df.info()"
   ]
  },
  {
   "cell_type": "markdown",
   "id": "833e77e9",
   "metadata": {
    "papermill": {
     "duration": 0.004605,
     "end_time": "2022-06-10T08:44:28.985949",
     "exception": false,
     "start_time": "2022-06-10T08:44:28.981344",
     "status": "completed"
    },
    "tags": []
   },
   "source": [
    "Columns: 13, Rows: 3826978 with different types of data "
   ]
  },
  {
   "cell_type": "markdown",
   "id": "e97c5547",
   "metadata": {
    "papermill": {
     "duration": 0.004189,
     "end_time": "2022-06-10T08:44:28.994665",
     "exception": false,
     "start_time": "2022-06-10T08:44:28.990476",
     "status": "completed"
    },
    "tags": []
   },
   "source": [
    "## Start manipulating the data"
   ]
  },
  {
   "cell_type": "code",
   "execution_count": 6,
   "id": "9d941013",
   "metadata": {
    "execution": {
     "iopub.execute_input": "2022-06-10T08:44:29.004855Z",
     "iopub.status.busy": "2022-06-10T08:44:29.004468Z",
     "iopub.status.idle": "2022-06-10T08:44:30.993194Z",
     "shell.execute_reply": "2022-06-10T08:44:30.992439Z"
    },
    "papermill": {
     "duration": 1.995902,
     "end_time": "2022-06-10T08:44:30.994984",
     "exception": false,
     "start_time": "2022-06-10T08:44:28.999082",
     "status": "completed"
    },
    "tags": []
   },
   "outputs": [
    {
     "data": {
      "text/html": [
       "<div>\n",
       "<style scoped>\n",
       "    .dataframe tbody tr th:only-of-type {\n",
       "        vertical-align: middle;\n",
       "    }\n",
       "\n",
       "    .dataframe tbody tr th {\n",
       "        vertical-align: top;\n",
       "    }\n",
       "\n",
       "    .dataframe thead th {\n",
       "        text-align: right;\n",
       "    }\n",
       "</style>\n",
       "<table border=\"1\" class=\"dataframe\">\n",
       "  <thead>\n",
       "    <tr style=\"text-align: right;\">\n",
       "      <th></th>\n",
       "      <th>ride_id</th>\n",
       "      <th>bike_type</th>\n",
       "      <th>started_at</th>\n",
       "      <th>ended_at</th>\n",
       "      <th>start_station</th>\n",
       "      <th>start_station_id</th>\n",
       "      <th>end_station</th>\n",
       "      <th>end_station_id</th>\n",
       "      <th>start_lat</th>\n",
       "      <th>start_lng</th>\n",
       "      <th>end_lat</th>\n",
       "      <th>end_lng</th>\n",
       "      <th>user_type</th>\n",
       "    </tr>\n",
       "  </thead>\n",
       "  <tbody>\n",
       "    <tr>\n",
       "      <th>0</th>\n",
       "      <td>BD0A6FF6FFF9B921</td>\n",
       "      <td>electric_bike</td>\n",
       "      <td>2020-11-01 13:36:00</td>\n",
       "      <td>2020-11-01 13:45:40</td>\n",
       "      <td>Dearborn St &amp; Erie St</td>\n",
       "      <td>110.0</td>\n",
       "      <td>St. Clair St &amp; Erie St</td>\n",
       "      <td>211.0</td>\n",
       "      <td>41.894177</td>\n",
       "      <td>-87.629127</td>\n",
       "      <td>41.894434</td>\n",
       "      <td>-87.623379</td>\n",
       "      <td>casual</td>\n",
       "    </tr>\n",
       "    <tr>\n",
       "      <th>1</th>\n",
       "      <td>96A7A7A4BDE4F82D</td>\n",
       "      <td>electric_bike</td>\n",
       "      <td>2020-11-01 10:03:26</td>\n",
       "      <td>2020-11-01 10:14:45</td>\n",
       "      <td>Franklin St &amp; Illinois St</td>\n",
       "      <td>672.0</td>\n",
       "      <td>Noble St &amp; Milwaukee Ave</td>\n",
       "      <td>29.0</td>\n",
       "      <td>41.890959</td>\n",
       "      <td>-87.635343</td>\n",
       "      <td>41.900675</td>\n",
       "      <td>-87.662480</td>\n",
       "      <td>casual</td>\n",
       "    </tr>\n",
       "    <tr>\n",
       "      <th>2</th>\n",
       "      <td>C61526D06582BDC5</td>\n",
       "      <td>electric_bike</td>\n",
       "      <td>2020-11-01 00:34:05</td>\n",
       "      <td>2020-11-01 01:03:06</td>\n",
       "      <td>Lake Shore Dr &amp; Monroe St</td>\n",
       "      <td>76.0</td>\n",
       "      <td>Federal St &amp; Polk St</td>\n",
       "      <td>41.0</td>\n",
       "      <td>41.880983</td>\n",
       "      <td>-87.616754</td>\n",
       "      <td>41.872054</td>\n",
       "      <td>-87.629550</td>\n",
       "      <td>casual</td>\n",
       "    </tr>\n",
       "    <tr>\n",
       "      <th>3</th>\n",
       "      <td>E533E89C32080B9E</td>\n",
       "      <td>electric_bike</td>\n",
       "      <td>2020-11-01 00:45:16</td>\n",
       "      <td>2020-11-01 00:54:31</td>\n",
       "      <td>Leavitt St &amp; Chicago Ave</td>\n",
       "      <td>659.0</td>\n",
       "      <td>Stave St &amp; Armitage Ave</td>\n",
       "      <td>185.0</td>\n",
       "      <td>41.895499</td>\n",
       "      <td>-87.682013</td>\n",
       "      <td>41.917744</td>\n",
       "      <td>-87.691392</td>\n",
       "      <td>casual</td>\n",
       "    </tr>\n",
       "    <tr>\n",
       "      <th>4</th>\n",
       "      <td>1C9F4EF18C168C60</td>\n",
       "      <td>electric_bike</td>\n",
       "      <td>2020-11-01 15:43:25</td>\n",
       "      <td>2020-11-01 16:16:52</td>\n",
       "      <td>Buckingham Fountain</td>\n",
       "      <td>2.0</td>\n",
       "      <td>Buckingham Fountain</td>\n",
       "      <td>2.0</td>\n",
       "      <td>41.876497</td>\n",
       "      <td>-87.620358</td>\n",
       "      <td>41.876448</td>\n",
       "      <td>-87.620338</td>\n",
       "      <td>casual</td>\n",
       "    </tr>\n",
       "  </tbody>\n",
       "</table>\n",
       "</div>"
      ],
      "text/plain": [
       "            ride_id      bike_type           started_at             ended_at  \\\n",
       "0  BD0A6FF6FFF9B921  electric_bike  2020-11-01 13:36:00  2020-11-01 13:45:40   \n",
       "1  96A7A7A4BDE4F82D  electric_bike  2020-11-01 10:03:26  2020-11-01 10:14:45   \n",
       "2  C61526D06582BDC5  electric_bike  2020-11-01 00:34:05  2020-11-01 01:03:06   \n",
       "3  E533E89C32080B9E  electric_bike  2020-11-01 00:45:16  2020-11-01 00:54:31   \n",
       "4  1C9F4EF18C168C60  electric_bike  2020-11-01 15:43:25  2020-11-01 16:16:52   \n",
       "\n",
       "               start_station start_station_id               end_station  \\\n",
       "0      Dearborn St & Erie St            110.0    St. Clair St & Erie St   \n",
       "1  Franklin St & Illinois St            672.0  Noble St & Milwaukee Ave   \n",
       "2  Lake Shore Dr & Monroe St             76.0      Federal St & Polk St   \n",
       "3   Leavitt St & Chicago Ave            659.0   Stave St & Armitage Ave   \n",
       "4        Buckingham Fountain              2.0       Buckingham Fountain   \n",
       "\n",
       "  end_station_id  start_lat  start_lng    end_lat    end_lng user_type  \n",
       "0          211.0  41.894177 -87.629127  41.894434 -87.623379    casual  \n",
       "1           29.0  41.890959 -87.635343  41.900675 -87.662480    casual  \n",
       "2           41.0  41.880983 -87.616754  41.872054 -87.629550    casual  \n",
       "3          185.0  41.895499 -87.682013  41.917744 -87.691392    casual  \n",
       "4            2.0  41.876497 -87.620358  41.876448 -87.620338    casual  "
      ]
     },
     "execution_count": 6,
     "metadata": {},
     "output_type": "execute_result"
    }
   ],
   "source": [
    "#renaming some columns for better context and easier work \n",
    "df = df.rename(columns = {\n",
    "                        \"rideable_type\": \"bike_type\", \n",
    "                        \"start_station_name\": \"start_station\",\n",
    "                        \"end_station_name\": \"end_station\",\n",
    "                        \"member_casual\": \"user_type\"        \n",
    "})\n",
    "\n",
    "df.head()"
   ]
  },
  {
   "cell_type": "code",
   "execution_count": 7,
   "id": "fde5b172",
   "metadata": {
    "execution": {
     "iopub.execute_input": "2022-06-10T08:44:31.005795Z",
     "iopub.status.busy": "2022-06-10T08:44:31.005429Z",
     "iopub.status.idle": "2022-06-10T08:44:33.342387Z",
     "shell.execute_reply": "2022-06-10T08:44:33.340869Z"
    },
    "papermill": {
     "duration": 2.344863,
     "end_time": "2022-06-10T08:44:33.344678",
     "exception": false,
     "start_time": "2022-06-10T08:44:30.999815",
     "status": "completed"
    },
    "tags": []
   },
   "outputs": [
    {
     "name": "stdout",
     "output_type": "stream",
     "text": [
      "<class 'pandas.core.frame.DataFrame'>\n",
      "RangeIndex: 3826978 entries, 0 to 3826977\n",
      "Data columns (total 13 columns):\n",
      " #   Column            Dtype         \n",
      "---  ------            -----         \n",
      " 0   ride_id           object        \n",
      " 1   bike_type         object        \n",
      " 2   started_at        datetime64[ns]\n",
      " 3   ended_at          datetime64[ns]\n",
      " 4   start_station     object        \n",
      " 5   start_station_id  object        \n",
      " 6   end_station       object        \n",
      " 7   end_station_id    object        \n",
      " 8   start_lat         float64       \n",
      " 9   start_lng         float64       \n",
      " 10  end_lat           float64       \n",
      " 11  end_lng           float64       \n",
      " 12  user_type         object        \n",
      "dtypes: datetime64[ns](2), float64(4), object(7)\n",
      "memory usage: 379.6+ MB\n"
     ]
    }
   ],
   "source": [
    "#Parsing the Datetime columns to get the right dtype\n",
    "df['started_at'] = pd.to_datetime(df['started_at'], format = \"%Y-%m-%d %H:%M:%S\")\n",
    "df['ended_at'] = pd.to_datetime(df['ended_at'], format = \"%Y-%m-%d %H:%M:%S\")\n",
    "\n",
    "#Checking if it worked\n",
    "df.info()"
   ]
  },
  {
   "cell_type": "code",
   "execution_count": 8,
   "id": "5b533611",
   "metadata": {
    "execution": {
     "iopub.execute_input": "2022-06-10T08:44:33.356854Z",
     "iopub.status.busy": "2022-06-10T08:44:33.356003Z",
     "iopub.status.idle": "2022-06-10T08:44:36.419877Z",
     "shell.execute_reply": "2022-06-10T08:44:36.419231Z"
    },
    "papermill": {
     "duration": 3.072033,
     "end_time": "2022-06-10T08:44:36.421787",
     "exception": false,
     "start_time": "2022-06-10T08:44:33.349754",
     "status": "completed"
    },
    "tags": []
   },
   "outputs": [
    {
     "name": "stdout",
     "output_type": "stream",
     "text": [
      "<class 'pandas.core.frame.DataFrame'>\n",
      "Int64Index: 3826769 entries, 0 to 3826977\n",
      "Data columns (total 13 columns):\n",
      " #   Column            Dtype         \n",
      "---  ------            -----         \n",
      " 0   ride_id           object        \n",
      " 1   bike_type         object        \n",
      " 2   started_at        datetime64[ns]\n",
      " 3   ended_at          datetime64[ns]\n",
      " 4   start_station     object        \n",
      " 5   start_station_id  object        \n",
      " 6   end_station       object        \n",
      " 7   end_station_id    object        \n",
      " 8   start_lat         float64       \n",
      " 9   start_lng         float64       \n",
      " 10  end_lat           float64       \n",
      " 11  end_lng           float64       \n",
      " 12  user_type         object        \n",
      "dtypes: datetime64[ns](2), float64(4), object(7)\n",
      "memory usage: 408.7+ MB\n",
      "Rows removed: 209\n"
     ]
    }
   ],
   "source": [
    "#Removing Duplicate Ride IDs since we only want distinct rides\n",
    "df = df.drop_duplicates(subset=['ride_id'])\n",
    "\n",
    "df.info()\n",
    "print('Rows removed: ' + str(3826978 - 3826769))\n"
   ]
  },
  {
   "cell_type": "code",
   "execution_count": 9,
   "id": "db82e2b0",
   "metadata": {
    "execution": {
     "iopub.execute_input": "2022-06-10T08:44:36.433101Z",
     "iopub.status.busy": "2022-06-10T08:44:36.432625Z",
     "iopub.status.idle": "2022-06-10T08:44:37.527791Z",
     "shell.execute_reply": "2022-06-10T08:44:37.526885Z"
    },
    "papermill": {
     "duration": 1.103109,
     "end_time": "2022-06-10T08:44:37.529853",
     "exception": false,
     "start_time": "2022-06-10T08:44:36.426744",
     "status": "completed"
    },
    "tags": []
   },
   "outputs": [
    {
     "data": {
      "text/plain": [
       "True"
      ]
     },
     "execution_count": 9,
     "metadata": {},
     "output_type": "execute_result"
    }
   ],
   "source": [
    "#check for null values\n",
    "df.isnull().values.any()"
   ]
  },
  {
   "cell_type": "code",
   "execution_count": 10,
   "id": "0bb5a648",
   "metadata": {
    "execution": {
     "iopub.execute_input": "2022-06-10T08:44:37.541633Z",
     "iopub.status.busy": "2022-06-10T08:44:37.541266Z",
     "iopub.status.idle": "2022-06-10T08:44:38.645196Z",
     "shell.execute_reply": "2022-06-10T08:44:38.644182Z"
    },
    "papermill": {
     "duration": 1.112186,
     "end_time": "2022-06-10T08:44:38.647173",
     "exception": false,
     "start_time": "2022-06-10T08:44:37.534987",
     "status": "completed"
    },
    "tags": []
   },
   "outputs": [
    {
     "data": {
      "text/plain": [
       "ride_id                  0\n",
       "bike_type                0\n",
       "started_at               0\n",
       "ended_at                 0\n",
       "start_station       148231\n",
       "start_station_id    148857\n",
       "end_station         171415\n",
       "end_station_id      171876\n",
       "start_lat                0\n",
       "start_lng                0\n",
       "end_lat               5004\n",
       "end_lng               5004\n",
       "user_type                0\n",
       "dtype: int64"
      ]
     },
     "execution_count": 10,
     "metadata": {},
     "output_type": "execute_result"
    }
   ],
   "source": [
    "#So we got Null Values. How many?\n",
    "\n",
    "df.isnull().sum()"
   ]
  },
  {
   "cell_type": "code",
   "execution_count": 11,
   "id": "9167291c",
   "metadata": {
    "execution": {
     "iopub.execute_input": "2022-06-10T08:44:38.659109Z",
     "iopub.status.busy": "2022-06-10T08:44:38.658727Z",
     "iopub.status.idle": "2022-06-10T08:44:41.434497Z",
     "shell.execute_reply": "2022-06-10T08:44:41.433550Z"
    },
    "papermill": {
     "duration": 2.784523,
     "end_time": "2022-06-10T08:44:41.436881",
     "exception": false,
     "start_time": "2022-06-10T08:44:38.652358",
     "status": "completed"
    },
    "tags": []
   },
   "outputs": [
    {
     "data": {
      "text/plain": [
       "ride_id             0\n",
       "bike_type           0\n",
       "started_at          0\n",
       "ended_at            0\n",
       "start_station       0\n",
       "start_station_id    0\n",
       "end_station         0\n",
       "end_station_id      0\n",
       "start_lat           0\n",
       "start_lng           0\n",
       "end_lat             0\n",
       "end_lng             0\n",
       "user_type           0\n",
       "dtype: int64"
      ]
     },
     "execution_count": 11,
     "metadata": {},
     "output_type": "execute_result"
    }
   ],
   "source": [
    "#deleting all null values. Since we got a over 3 million entries, we can remove 171876 rows without seriously impacting the results of the analysis. \n",
    "df = df.dropna()\n",
    "df.isnull().sum()"
   ]
  },
  {
   "cell_type": "code",
   "execution_count": 12,
   "id": "67a5a1bb",
   "metadata": {
    "execution": {
     "iopub.execute_input": "2022-06-10T08:44:41.449630Z",
     "iopub.status.busy": "2022-06-10T08:44:41.448873Z",
     "iopub.status.idle": "2022-06-10T08:44:46.919316Z",
     "shell.execute_reply": "2022-06-10T08:44:46.914588Z"
    },
    "papermill": {
     "duration": 5.486962,
     "end_time": "2022-06-10T08:44:46.929560",
     "exception": false,
     "start_time": "2022-06-10T08:44:41.442598",
     "status": "completed"
    },
    "tags": []
   },
   "outputs": [
    {
     "data": {
      "text/html": [
       "<div>\n",
       "<style scoped>\n",
       "    .dataframe tbody tr th:only-of-type {\n",
       "        vertical-align: middle;\n",
       "    }\n",
       "\n",
       "    .dataframe tbody tr th {\n",
       "        vertical-align: top;\n",
       "    }\n",
       "\n",
       "    .dataframe thead th {\n",
       "        text-align: right;\n",
       "    }\n",
       "</style>\n",
       "<table border=\"1\" class=\"dataframe\">\n",
       "  <thead>\n",
       "    <tr style=\"text-align: right;\">\n",
       "      <th></th>\n",
       "      <th>ride_id</th>\n",
       "      <th>bike_type</th>\n",
       "      <th>started_at</th>\n",
       "      <th>ended_at</th>\n",
       "      <th>start_station</th>\n",
       "      <th>start_station_id</th>\n",
       "      <th>end_station</th>\n",
       "      <th>end_station_id</th>\n",
       "      <th>start_lat</th>\n",
       "      <th>start_lng</th>\n",
       "      <th>end_lat</th>\n",
       "      <th>end_lng</th>\n",
       "      <th>user_type</th>\n",
       "      <th>year</th>\n",
       "      <th>month</th>\n",
       "      <th>day</th>\n",
       "      <th>hour</th>\n",
       "      <th>month_year</th>\n",
       "    </tr>\n",
       "  </thead>\n",
       "  <tbody>\n",
       "    <tr>\n",
       "      <th>0</th>\n",
       "      <td>BD0A6FF6FFF9B921</td>\n",
       "      <td>electric_bike</td>\n",
       "      <td>2020-11-01 13:36:00</td>\n",
       "      <td>2020-11-01 13:45:40</td>\n",
       "      <td>Dearborn St &amp; Erie St</td>\n",
       "      <td>110.0</td>\n",
       "      <td>St. Clair St &amp; Erie St</td>\n",
       "      <td>211.0</td>\n",
       "      <td>41.894177</td>\n",
       "      <td>-87.629127</td>\n",
       "      <td>41.894434</td>\n",
       "      <td>-87.623379</td>\n",
       "      <td>casual</td>\n",
       "      <td>2020</td>\n",
       "      <td>11</td>\n",
       "      <td>1</td>\n",
       "      <td>13</td>\n",
       "      <td>11 - 2020</td>\n",
       "    </tr>\n",
       "    <tr>\n",
       "      <th>1</th>\n",
       "      <td>96A7A7A4BDE4F82D</td>\n",
       "      <td>electric_bike</td>\n",
       "      <td>2020-11-01 10:03:26</td>\n",
       "      <td>2020-11-01 10:14:45</td>\n",
       "      <td>Franklin St &amp; Illinois St</td>\n",
       "      <td>672.0</td>\n",
       "      <td>Noble St &amp; Milwaukee Ave</td>\n",
       "      <td>29.0</td>\n",
       "      <td>41.890959</td>\n",
       "      <td>-87.635343</td>\n",
       "      <td>41.900675</td>\n",
       "      <td>-87.662480</td>\n",
       "      <td>casual</td>\n",
       "      <td>2020</td>\n",
       "      <td>11</td>\n",
       "      <td>1</td>\n",
       "      <td>10</td>\n",
       "      <td>11 - 2020</td>\n",
       "    </tr>\n",
       "    <tr>\n",
       "      <th>2</th>\n",
       "      <td>C61526D06582BDC5</td>\n",
       "      <td>electric_bike</td>\n",
       "      <td>2020-11-01 00:34:05</td>\n",
       "      <td>2020-11-01 01:03:06</td>\n",
       "      <td>Lake Shore Dr &amp; Monroe St</td>\n",
       "      <td>76.0</td>\n",
       "      <td>Federal St &amp; Polk St</td>\n",
       "      <td>41.0</td>\n",
       "      <td>41.880983</td>\n",
       "      <td>-87.616754</td>\n",
       "      <td>41.872054</td>\n",
       "      <td>-87.629550</td>\n",
       "      <td>casual</td>\n",
       "      <td>2020</td>\n",
       "      <td>11</td>\n",
       "      <td>1</td>\n",
       "      <td>1</td>\n",
       "      <td>11 - 2020</td>\n",
       "    </tr>\n",
       "    <tr>\n",
       "      <th>3</th>\n",
       "      <td>E533E89C32080B9E</td>\n",
       "      <td>electric_bike</td>\n",
       "      <td>2020-11-01 00:45:16</td>\n",
       "      <td>2020-11-01 00:54:31</td>\n",
       "      <td>Leavitt St &amp; Chicago Ave</td>\n",
       "      <td>659.0</td>\n",
       "      <td>Stave St &amp; Armitage Ave</td>\n",
       "      <td>185.0</td>\n",
       "      <td>41.895499</td>\n",
       "      <td>-87.682013</td>\n",
       "      <td>41.917744</td>\n",
       "      <td>-87.691392</td>\n",
       "      <td>casual</td>\n",
       "      <td>2020</td>\n",
       "      <td>11</td>\n",
       "      <td>1</td>\n",
       "      <td>0</td>\n",
       "      <td>11 - 2020</td>\n",
       "    </tr>\n",
       "    <tr>\n",
       "      <th>4</th>\n",
       "      <td>1C9F4EF18C168C60</td>\n",
       "      <td>electric_bike</td>\n",
       "      <td>2020-11-01 15:43:25</td>\n",
       "      <td>2020-11-01 16:16:52</td>\n",
       "      <td>Buckingham Fountain</td>\n",
       "      <td>2.0</td>\n",
       "      <td>Buckingham Fountain</td>\n",
       "      <td>2.0</td>\n",
       "      <td>41.876497</td>\n",
       "      <td>-87.620358</td>\n",
       "      <td>41.876448</td>\n",
       "      <td>-87.620338</td>\n",
       "      <td>casual</td>\n",
       "      <td>2020</td>\n",
       "      <td>11</td>\n",
       "      <td>1</td>\n",
       "      <td>16</td>\n",
       "      <td>11 - 2020</td>\n",
       "    </tr>\n",
       "  </tbody>\n",
       "</table>\n",
       "</div>"
      ],
      "text/plain": [
       "            ride_id      bike_type          started_at            ended_at  \\\n",
       "0  BD0A6FF6FFF9B921  electric_bike 2020-11-01 13:36:00 2020-11-01 13:45:40   \n",
       "1  96A7A7A4BDE4F82D  electric_bike 2020-11-01 10:03:26 2020-11-01 10:14:45   \n",
       "2  C61526D06582BDC5  electric_bike 2020-11-01 00:34:05 2020-11-01 01:03:06   \n",
       "3  E533E89C32080B9E  electric_bike 2020-11-01 00:45:16 2020-11-01 00:54:31   \n",
       "4  1C9F4EF18C168C60  electric_bike 2020-11-01 15:43:25 2020-11-01 16:16:52   \n",
       "\n",
       "               start_station start_station_id               end_station  \\\n",
       "0      Dearborn St & Erie St            110.0    St. Clair St & Erie St   \n",
       "1  Franklin St & Illinois St            672.0  Noble St & Milwaukee Ave   \n",
       "2  Lake Shore Dr & Monroe St             76.0      Federal St & Polk St   \n",
       "3   Leavitt St & Chicago Ave            659.0   Stave St & Armitage Ave   \n",
       "4        Buckingham Fountain              2.0       Buckingham Fountain   \n",
       "\n",
       "  end_station_id  start_lat  start_lng    end_lat    end_lng user_type  year  \\\n",
       "0          211.0  41.894177 -87.629127  41.894434 -87.623379    casual  2020   \n",
       "1           29.0  41.890959 -87.635343  41.900675 -87.662480    casual  2020   \n",
       "2           41.0  41.880983 -87.616754  41.872054 -87.629550    casual  2020   \n",
       "3          185.0  41.895499 -87.682013  41.917744 -87.691392    casual  2020   \n",
       "4            2.0  41.876497 -87.620358  41.876448 -87.620338    casual  2020   \n",
       "\n",
       "   month  day  hour month_year  \n",
       "0     11    1    13  11 - 2020  \n",
       "1     11    1    10  11 - 2020  \n",
       "2     11    1     1  11 - 2020  \n",
       "3     11    1     0  11 - 2020  \n",
       "4     11    1    16  11 - 2020  "
      ]
     },
     "execution_count": 12,
     "metadata": {},
     "output_type": "execute_result"
    }
   ],
   "source": [
    "#Adding new columns by extracting the components of the date datetime columns\n",
    "df['year'] = df['started_at'].dt.year\n",
    "df['month'] = df['started_at'].dt.month\n",
    "df['day'] = df['ended_at'].dt.day\n",
    "df['hour'] = df['ended_at'].dt.hour\n",
    "df['month_year'] = df['month'].map(str) + ' - ' + df['year'].map(str)\n",
    "df.head()"
   ]
  },
  {
   "cell_type": "code",
   "execution_count": 13,
   "id": "c2769067",
   "metadata": {
    "execution": {
     "iopub.execute_input": "2022-06-10T08:44:46.970442Z",
     "iopub.status.busy": "2022-06-10T08:44:46.970040Z",
     "iopub.status.idle": "2022-06-10T08:44:49.136949Z",
     "shell.execute_reply": "2022-06-10T08:44:49.135976Z"
    },
    "papermill": {
     "duration": 2.178728,
     "end_time": "2022-06-10T08:44:49.140127",
     "exception": false,
     "start_time": "2022-06-10T08:44:46.961399",
     "status": "completed"
    },
    "tags": []
   },
   "outputs": [],
   "source": [
    "#Lastly, we remove whitespaces on the start and end stations\n",
    "df['start_station'] = df['start_station'].str.strip()\n",
    "df['end_station'] = df['end_station'].str.strip()"
   ]
  },
  {
   "cell_type": "markdown",
   "id": "2762f6e7",
   "metadata": {
    "papermill": {
     "duration": 0.007143,
     "end_time": "2022-06-10T08:44:49.155394",
     "exception": false,
     "start_time": "2022-06-10T08:44:49.148251",
     "status": "completed"
    },
    "tags": []
   },
   "source": [
    "## Analyze the Data"
   ]
  },
  {
   "cell_type": "code",
   "execution_count": 14,
   "id": "5e921fe8",
   "metadata": {
    "execution": {
     "iopub.execute_input": "2022-06-10T08:44:49.171615Z",
     "iopub.status.busy": "2022-06-10T08:44:49.170561Z",
     "iopub.status.idle": "2022-06-10T08:44:49.398582Z",
     "shell.execute_reply": "2022-06-10T08:44:49.397455Z"
    },
    "papermill": {
     "duration": 0.238055,
     "end_time": "2022-06-10T08:44:49.400671",
     "exception": false,
     "start_time": "2022-06-10T08:44:49.162616",
     "status": "completed"
    },
    "tags": []
   },
   "outputs": [
    {
     "data": {
      "text/plain": [
       "member    2121056\n",
       "casual    1471634\n",
       "Name: user_type, dtype: int64"
      ]
     },
     "execution_count": 14,
     "metadata": {},
     "output_type": "execute_result"
    }
   ],
   "source": [
    "df['user_type'].value_counts()"
   ]
  },
  {
   "cell_type": "code",
   "execution_count": 15,
   "id": "916faadf",
   "metadata": {
    "execution": {
     "iopub.execute_input": "2022-06-10T08:44:49.414878Z",
     "iopub.status.busy": "2022-06-10T08:44:49.414432Z",
     "iopub.status.idle": "2022-06-10T08:44:56.199718Z",
     "shell.execute_reply": "2022-06-10T08:44:56.198342Z"
    },
    "papermill": {
     "duration": 6.797841,
     "end_time": "2022-06-10T08:44:56.205063",
     "exception": false,
     "start_time": "2022-06-10T08:44:49.407222",
     "status": "completed"
    },
    "tags": []
   },
   "outputs": [
    {
     "data": {
      "text/html": [
       "<div>\n",
       "<style scoped>\n",
       "    .dataframe tbody tr th:only-of-type {\n",
       "        vertical-align: middle;\n",
       "    }\n",
       "\n",
       "    .dataframe tbody tr th {\n",
       "        vertical-align: top;\n",
       "    }\n",
       "\n",
       "    .dataframe thead th {\n",
       "        text-align: right;\n",
       "    }\n",
       "</style>\n",
       "<table border=\"1\" class=\"dataframe\">\n",
       "  <thead>\n",
       "    <tr style=\"text-align: right;\">\n",
       "      <th></th>\n",
       "      <th>Absolute</th>\n",
       "      <th>Percent</th>\n",
       "    </tr>\n",
       "    <tr>\n",
       "      <th>user_type</th>\n",
       "      <th></th>\n",
       "      <th></th>\n",
       "    </tr>\n",
       "  </thead>\n",
       "  <tbody>\n",
       "    <tr>\n",
       "      <th>casual</th>\n",
       "      <td>1471634</td>\n",
       "      <td>0.409619</td>\n",
       "    </tr>\n",
       "    <tr>\n",
       "      <th>member</th>\n",
       "      <td>2121056</td>\n",
       "      <td>0.590381</td>\n",
       "    </tr>\n",
       "  </tbody>\n",
       "</table>\n",
       "</div>"
      ],
      "text/plain": [
       "           Absolute   Percent\n",
       "user_type                    \n",
       "casual      1471634  0.409619\n",
       "member      2121056  0.590381"
      ]
     },
     "execution_count": 15,
     "metadata": {},
     "output_type": "execute_result"
    }
   ],
   "source": [
    "df.groupby('user_type').agg(\n",
    "     Absolute = (\"ride_id\", lambda y: y.value_counts().sum()), \n",
    "     Percent = (\"ride_id\", lambda x: len(x) / len(df.index))\n",
    ")"
   ]
  },
  {
   "cell_type": "code",
   "execution_count": null,
   "id": "755bee71",
   "metadata": {
    "papermill": {
     "duration": 0.005828,
     "end_time": "2022-06-10T08:44:56.218089",
     "exception": false,
     "start_time": "2022-06-10T08:44:56.212261",
     "status": "completed"
    },
    "tags": []
   },
   "outputs": [],
   "source": []
  }
 ],
 "metadata": {
  "kernelspec": {
   "display_name": "Python 3",
   "language": "python",
   "name": "python3"
  },
  "language_info": {
   "codemirror_mode": {
    "name": "ipython",
    "version": 3
   },
   "file_extension": ".py",
   "mimetype": "text/x-python",
   "name": "python",
   "nbconvert_exporter": "python",
   "pygments_lexer": "ipython3",
   "version": "3.7.12"
  },
  "papermill": {
   "default_parameters": {},
   "duration": 60.608246,
   "end_time": "2022-06-10T08:44:57.751011",
   "environment_variables": {},
   "exception": null,
   "input_path": "__notebook__.ipynb",
   "output_path": "__notebook__.ipynb",
   "parameters": {},
   "start_time": "2022-06-10T08:43:57.142765",
   "version": "2.3.4"
  }
 },
 "nbformat": 4,
 "nbformat_minor": 5
}
